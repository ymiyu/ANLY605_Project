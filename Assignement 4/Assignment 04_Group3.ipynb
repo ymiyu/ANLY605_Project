{
 "cells": [
  {
   "cell_type": "markdown",
   "id": "b2fc344f-4569-4a5a-affb-2a2bfcf3789c",
   "metadata": {
    "id": "C-wZ7CG-DiKQ"
   },
   "source": [
    "# Assignment 4"
   ]
  },
  {
   "cell_type": "markdown",
   "id": "d0005c5c-9f5c-48aa-b307-cd7e856add3e",
   "metadata": {},
   "source": [
    "#### Group3 - Lin Meng - lm1398\n",
    "#### Group3 - Pedro Barbosa - pvb16\n",
    "#### Group3 - Yiming Yu - yy628"
   ]
  },
  {
   "cell_type": "markdown",
   "id": "5538b50a-7308-420c-9a99-0fd9904a12d5",
   "metadata": {
    "id": "SAS8Ge2kfEsW"
   },
   "source": [
    "<hr>"
   ]
  },
  {
   "cell_type": "markdown",
   "id": "3ca0e859-4ac0-44d0-8170-ed4b5dcc4a72",
   "metadata": {},
   "source": [
    "## Loading packages"
   ]
  },
  {
   "cell_type": "code",
   "execution_count": 1,
   "id": "d8c5bac0-b7b6-4e17-907e-e5a15ed3734f",
   "metadata": {},
   "outputs": [],
   "source": [
    "import pandas as pd\n",
    "import numpy as np\n",
    "import matplotlib.pyplot as plt\n",
    "import seaborn as sns\n",
    "import plotly.express as px\n",
    "from plotly.subplots import make_subplots\n",
    "import plotly.graph_objs as go\n",
    "import warnings\n",
    "warnings.filterwarnings('ignore')"
   ]
  },
  {
   "cell_type": "markdown",
   "id": "499704ea-e6b3-4706-be95-441f57d43ab0",
   "metadata": {},
   "source": [
    "### Loading data"
   ]
  },
  {
   "cell_type": "markdown",
   "id": "984d3be5",
   "metadata": {},
   "source": [
    "Show the first 5 lines of data to get an idea how the dataset looks like. This is a classification dataset, the response variable is \"Revenue\""
   ]
  },
  {
   "cell_type": "code",
   "execution_count": 2,
   "id": "b0c8029e-1fe9-424e-93c3-e9a6892adfdc",
   "metadata": {},
   "outputs": [
    {
     "data": {
      "text/html": [
       "<div>\n",
       "<style scoped>\n",
       "    .dataframe tbody tr th:only-of-type {\n",
       "        vertical-align: middle;\n",
       "    }\n",
       "\n",
       "    .dataframe tbody tr th {\n",
       "        vertical-align: top;\n",
       "    }\n",
       "\n",
       "    .dataframe thead th {\n",
       "        text-align: right;\n",
       "    }\n",
       "</style>\n",
       "<table border=\"1\" class=\"dataframe\">\n",
       "  <thead>\n",
       "    <tr style=\"text-align: right;\">\n",
       "      <th></th>\n",
       "      <th>Administrative</th>\n",
       "      <th>Administrative_Duration</th>\n",
       "      <th>Informational</th>\n",
       "      <th>Informational_Duration</th>\n",
       "      <th>ProductRelated</th>\n",
       "      <th>ProductRelated_Duration</th>\n",
       "      <th>BounceRates</th>\n",
       "      <th>ExitRates</th>\n",
       "      <th>PageValues</th>\n",
       "      <th>SpecialDay</th>\n",
       "      <th>Month</th>\n",
       "      <th>OperatingSystems</th>\n",
       "      <th>Browser</th>\n",
       "      <th>Region</th>\n",
       "      <th>TrafficType</th>\n",
       "      <th>VisitorType</th>\n",
       "      <th>Weekend</th>\n",
       "      <th>Revenue</th>\n",
       "    </tr>\n",
       "  </thead>\n",
       "  <tbody>\n",
       "    <tr>\n",
       "      <th>0</th>\n",
       "      <td>0</td>\n",
       "      <td>0.0</td>\n",
       "      <td>0</td>\n",
       "      <td>0.0</td>\n",
       "      <td>1</td>\n",
       "      <td>0.000000</td>\n",
       "      <td>0.20</td>\n",
       "      <td>0.20</td>\n",
       "      <td>0.0</td>\n",
       "      <td>0.0</td>\n",
       "      <td>Feb</td>\n",
       "      <td>1</td>\n",
       "      <td>1</td>\n",
       "      <td>1</td>\n",
       "      <td>1</td>\n",
       "      <td>Returning_Visitor</td>\n",
       "      <td>False</td>\n",
       "      <td>False</td>\n",
       "    </tr>\n",
       "    <tr>\n",
       "      <th>1</th>\n",
       "      <td>0</td>\n",
       "      <td>0.0</td>\n",
       "      <td>0</td>\n",
       "      <td>0.0</td>\n",
       "      <td>2</td>\n",
       "      <td>64.000000</td>\n",
       "      <td>0.00</td>\n",
       "      <td>0.10</td>\n",
       "      <td>0.0</td>\n",
       "      <td>0.0</td>\n",
       "      <td>Feb</td>\n",
       "      <td>2</td>\n",
       "      <td>2</td>\n",
       "      <td>1</td>\n",
       "      <td>2</td>\n",
       "      <td>Returning_Visitor</td>\n",
       "      <td>False</td>\n",
       "      <td>False</td>\n",
       "    </tr>\n",
       "    <tr>\n",
       "      <th>2</th>\n",
       "      <td>0</td>\n",
       "      <td>0.0</td>\n",
       "      <td>0</td>\n",
       "      <td>0.0</td>\n",
       "      <td>1</td>\n",
       "      <td>0.000000</td>\n",
       "      <td>0.20</td>\n",
       "      <td>0.20</td>\n",
       "      <td>0.0</td>\n",
       "      <td>0.0</td>\n",
       "      <td>Feb</td>\n",
       "      <td>4</td>\n",
       "      <td>1</td>\n",
       "      <td>9</td>\n",
       "      <td>3</td>\n",
       "      <td>Returning_Visitor</td>\n",
       "      <td>False</td>\n",
       "      <td>False</td>\n",
       "    </tr>\n",
       "    <tr>\n",
       "      <th>3</th>\n",
       "      <td>0</td>\n",
       "      <td>0.0</td>\n",
       "      <td>0</td>\n",
       "      <td>0.0</td>\n",
       "      <td>2</td>\n",
       "      <td>2.666667</td>\n",
       "      <td>0.05</td>\n",
       "      <td>0.14</td>\n",
       "      <td>0.0</td>\n",
       "      <td>0.0</td>\n",
       "      <td>Feb</td>\n",
       "      <td>3</td>\n",
       "      <td>2</td>\n",
       "      <td>2</td>\n",
       "      <td>4</td>\n",
       "      <td>Returning_Visitor</td>\n",
       "      <td>False</td>\n",
       "      <td>False</td>\n",
       "    </tr>\n",
       "    <tr>\n",
       "      <th>4</th>\n",
       "      <td>0</td>\n",
       "      <td>0.0</td>\n",
       "      <td>0</td>\n",
       "      <td>0.0</td>\n",
       "      <td>10</td>\n",
       "      <td>627.500000</td>\n",
       "      <td>0.02</td>\n",
       "      <td>0.05</td>\n",
       "      <td>0.0</td>\n",
       "      <td>0.0</td>\n",
       "      <td>Feb</td>\n",
       "      <td>3</td>\n",
       "      <td>3</td>\n",
       "      <td>1</td>\n",
       "      <td>4</td>\n",
       "      <td>Returning_Visitor</td>\n",
       "      <td>True</td>\n",
       "      <td>False</td>\n",
       "    </tr>\n",
       "  </tbody>\n",
       "</table>\n",
       "</div>"
      ],
      "text/plain": [
       "   Administrative  Administrative_Duration  Informational  \\\n",
       "0               0                      0.0              0   \n",
       "1               0                      0.0              0   \n",
       "2               0                      0.0              0   \n",
       "3               0                      0.0              0   \n",
       "4               0                      0.0              0   \n",
       "\n",
       "   Informational_Duration  ProductRelated  ProductRelated_Duration  \\\n",
       "0                     0.0               1                 0.000000   \n",
       "1                     0.0               2                64.000000   \n",
       "2                     0.0               1                 0.000000   \n",
       "3                     0.0               2                 2.666667   \n",
       "4                     0.0              10               627.500000   \n",
       "\n",
       "   BounceRates  ExitRates  PageValues  SpecialDay Month  OperatingSystems  \\\n",
       "0         0.20       0.20         0.0         0.0   Feb                 1   \n",
       "1         0.00       0.10         0.0         0.0   Feb                 2   \n",
       "2         0.20       0.20         0.0         0.0   Feb                 4   \n",
       "3         0.05       0.14         0.0         0.0   Feb                 3   \n",
       "4         0.02       0.05         0.0         0.0   Feb                 3   \n",
       "\n",
       "   Browser  Region  TrafficType        VisitorType  Weekend  Revenue  \n",
       "0        1       1            1  Returning_Visitor    False    False  \n",
       "1        2       1            2  Returning_Visitor    False    False  \n",
       "2        1       9            3  Returning_Visitor    False    False  \n",
       "3        2       2            4  Returning_Visitor    False    False  \n",
       "4        3       1            4  Returning_Visitor     True    False  "
      ]
     },
     "execution_count": 2,
     "metadata": {},
     "output_type": "execute_result"
    }
   ],
   "source": [
    "df = pd.read_csv(\"online_shoppers_intention.csv\")\n",
    "df.head()"
   ]
  },
  {
   "cell_type": "markdown",
   "id": "f885b5df",
   "metadata": {},
   "source": [
    "Use describe function to show the statistical summary like mean, standard deviation, min, and max of each variable in the dataset."
   ]
  },
  {
   "cell_type": "code",
   "execution_count": 3,
   "id": "c4da1a95-a735-4713-85a4-b3dbc975c5d1",
   "metadata": {},
   "outputs": [
    {
     "data": {
      "text/html": [
       "<div>\n",
       "<style scoped>\n",
       "    .dataframe tbody tr th:only-of-type {\n",
       "        vertical-align: middle;\n",
       "    }\n",
       "\n",
       "    .dataframe tbody tr th {\n",
       "        vertical-align: top;\n",
       "    }\n",
       "\n",
       "    .dataframe thead th {\n",
       "        text-align: right;\n",
       "    }\n",
       "</style>\n",
       "<table border=\"1\" class=\"dataframe\">\n",
       "  <thead>\n",
       "    <tr style=\"text-align: right;\">\n",
       "      <th></th>\n",
       "      <th>Administrative</th>\n",
       "      <th>Administrative_Duration</th>\n",
       "      <th>Informational</th>\n",
       "      <th>Informational_Duration</th>\n",
       "      <th>ProductRelated</th>\n",
       "      <th>ProductRelated_Duration</th>\n",
       "      <th>BounceRates</th>\n",
       "      <th>ExitRates</th>\n",
       "      <th>PageValues</th>\n",
       "      <th>SpecialDay</th>\n",
       "      <th>OperatingSystems</th>\n",
       "      <th>Browser</th>\n",
       "      <th>Region</th>\n",
       "      <th>TrafficType</th>\n",
       "    </tr>\n",
       "  </thead>\n",
       "  <tbody>\n",
       "    <tr>\n",
       "      <th>count</th>\n",
       "      <td>12330.000000</td>\n",
       "      <td>12330.000000</td>\n",
       "      <td>12330.000000</td>\n",
       "      <td>12330.000000</td>\n",
       "      <td>12330.000000</td>\n",
       "      <td>12330.000000</td>\n",
       "      <td>12330.000000</td>\n",
       "      <td>12330.000000</td>\n",
       "      <td>12330.000000</td>\n",
       "      <td>12330.000000</td>\n",
       "      <td>12330.000000</td>\n",
       "      <td>12330.000000</td>\n",
       "      <td>12330.000000</td>\n",
       "      <td>12330.000000</td>\n",
       "    </tr>\n",
       "    <tr>\n",
       "      <th>mean</th>\n",
       "      <td>2.315166</td>\n",
       "      <td>80.818611</td>\n",
       "      <td>0.503569</td>\n",
       "      <td>34.472398</td>\n",
       "      <td>31.731468</td>\n",
       "      <td>1194.746220</td>\n",
       "      <td>0.022191</td>\n",
       "      <td>0.043073</td>\n",
       "      <td>5.889258</td>\n",
       "      <td>0.061427</td>\n",
       "      <td>2.124006</td>\n",
       "      <td>2.357097</td>\n",
       "      <td>3.147364</td>\n",
       "      <td>4.069586</td>\n",
       "    </tr>\n",
       "    <tr>\n",
       "      <th>std</th>\n",
       "      <td>3.321784</td>\n",
       "      <td>176.779107</td>\n",
       "      <td>1.270156</td>\n",
       "      <td>140.749294</td>\n",
       "      <td>44.475503</td>\n",
       "      <td>1913.669288</td>\n",
       "      <td>0.048488</td>\n",
       "      <td>0.048597</td>\n",
       "      <td>18.568437</td>\n",
       "      <td>0.198917</td>\n",
       "      <td>0.911325</td>\n",
       "      <td>1.717277</td>\n",
       "      <td>2.401591</td>\n",
       "      <td>4.025169</td>\n",
       "    </tr>\n",
       "    <tr>\n",
       "      <th>min</th>\n",
       "      <td>0.000000</td>\n",
       "      <td>0.000000</td>\n",
       "      <td>0.000000</td>\n",
       "      <td>0.000000</td>\n",
       "      <td>0.000000</td>\n",
       "      <td>0.000000</td>\n",
       "      <td>0.000000</td>\n",
       "      <td>0.000000</td>\n",
       "      <td>0.000000</td>\n",
       "      <td>0.000000</td>\n",
       "      <td>1.000000</td>\n",
       "      <td>1.000000</td>\n",
       "      <td>1.000000</td>\n",
       "      <td>1.000000</td>\n",
       "    </tr>\n",
       "    <tr>\n",
       "      <th>25%</th>\n",
       "      <td>0.000000</td>\n",
       "      <td>0.000000</td>\n",
       "      <td>0.000000</td>\n",
       "      <td>0.000000</td>\n",
       "      <td>7.000000</td>\n",
       "      <td>184.137500</td>\n",
       "      <td>0.000000</td>\n",
       "      <td>0.014286</td>\n",
       "      <td>0.000000</td>\n",
       "      <td>0.000000</td>\n",
       "      <td>2.000000</td>\n",
       "      <td>2.000000</td>\n",
       "      <td>1.000000</td>\n",
       "      <td>2.000000</td>\n",
       "    </tr>\n",
       "    <tr>\n",
       "      <th>50%</th>\n",
       "      <td>1.000000</td>\n",
       "      <td>7.500000</td>\n",
       "      <td>0.000000</td>\n",
       "      <td>0.000000</td>\n",
       "      <td>18.000000</td>\n",
       "      <td>598.936905</td>\n",
       "      <td>0.003112</td>\n",
       "      <td>0.025156</td>\n",
       "      <td>0.000000</td>\n",
       "      <td>0.000000</td>\n",
       "      <td>2.000000</td>\n",
       "      <td>2.000000</td>\n",
       "      <td>3.000000</td>\n",
       "      <td>2.000000</td>\n",
       "    </tr>\n",
       "    <tr>\n",
       "      <th>75%</th>\n",
       "      <td>4.000000</td>\n",
       "      <td>93.256250</td>\n",
       "      <td>0.000000</td>\n",
       "      <td>0.000000</td>\n",
       "      <td>38.000000</td>\n",
       "      <td>1464.157214</td>\n",
       "      <td>0.016813</td>\n",
       "      <td>0.050000</td>\n",
       "      <td>0.000000</td>\n",
       "      <td>0.000000</td>\n",
       "      <td>3.000000</td>\n",
       "      <td>2.000000</td>\n",
       "      <td>4.000000</td>\n",
       "      <td>4.000000</td>\n",
       "    </tr>\n",
       "    <tr>\n",
       "      <th>max</th>\n",
       "      <td>27.000000</td>\n",
       "      <td>3398.750000</td>\n",
       "      <td>24.000000</td>\n",
       "      <td>2549.375000</td>\n",
       "      <td>705.000000</td>\n",
       "      <td>63973.522230</td>\n",
       "      <td>0.200000</td>\n",
       "      <td>0.200000</td>\n",
       "      <td>361.763742</td>\n",
       "      <td>1.000000</td>\n",
       "      <td>8.000000</td>\n",
       "      <td>13.000000</td>\n",
       "      <td>9.000000</td>\n",
       "      <td>20.000000</td>\n",
       "    </tr>\n",
       "  </tbody>\n",
       "</table>\n",
       "</div>"
      ],
      "text/plain": [
       "       Administrative  Administrative_Duration  Informational  \\\n",
       "count    12330.000000             12330.000000   12330.000000   \n",
       "mean         2.315166                80.818611       0.503569   \n",
       "std          3.321784               176.779107       1.270156   \n",
       "min          0.000000                 0.000000       0.000000   \n",
       "25%          0.000000                 0.000000       0.000000   \n",
       "50%          1.000000                 7.500000       0.000000   \n",
       "75%          4.000000                93.256250       0.000000   \n",
       "max         27.000000              3398.750000      24.000000   \n",
       "\n",
       "       Informational_Duration  ProductRelated  ProductRelated_Duration  \\\n",
       "count            12330.000000    12330.000000             12330.000000   \n",
       "mean                34.472398       31.731468              1194.746220   \n",
       "std                140.749294       44.475503              1913.669288   \n",
       "min                  0.000000        0.000000                 0.000000   \n",
       "25%                  0.000000        7.000000               184.137500   \n",
       "50%                  0.000000       18.000000               598.936905   \n",
       "75%                  0.000000       38.000000              1464.157214   \n",
       "max               2549.375000      705.000000             63973.522230   \n",
       "\n",
       "        BounceRates     ExitRates    PageValues    SpecialDay  \\\n",
       "count  12330.000000  12330.000000  12330.000000  12330.000000   \n",
       "mean       0.022191      0.043073      5.889258      0.061427   \n",
       "std        0.048488      0.048597     18.568437      0.198917   \n",
       "min        0.000000      0.000000      0.000000      0.000000   \n",
       "25%        0.000000      0.014286      0.000000      0.000000   \n",
       "50%        0.003112      0.025156      0.000000      0.000000   \n",
       "75%        0.016813      0.050000      0.000000      0.000000   \n",
       "max        0.200000      0.200000    361.763742      1.000000   \n",
       "\n",
       "       OperatingSystems       Browser        Region   TrafficType  \n",
       "count      12330.000000  12330.000000  12330.000000  12330.000000  \n",
       "mean           2.124006      2.357097      3.147364      4.069586  \n",
       "std            0.911325      1.717277      2.401591      4.025169  \n",
       "min            1.000000      1.000000      1.000000      1.000000  \n",
       "25%            2.000000      2.000000      1.000000      2.000000  \n",
       "50%            2.000000      2.000000      3.000000      2.000000  \n",
       "75%            3.000000      2.000000      4.000000      4.000000  \n",
       "max            8.000000     13.000000      9.000000     20.000000  "
      ]
     },
     "execution_count": 3,
     "metadata": {},
     "output_type": "execute_result"
    }
   ],
   "source": [
    "df.describe()"
   ]
  },
  {
   "cell_type": "markdown",
   "id": "516d017e-b3ae-41f2-87bf-07955d246bff",
   "metadata": {},
   "source": [
    "## Data Cleaning"
   ]
  },
  {
   "cell_type": "code",
   "execution_count": 4,
   "id": "fae1161e-d1c7-4863-802f-eb671a95da51",
   "metadata": {},
   "outputs": [
    {
     "data": {
      "text/plain": [
       "Administrative               int64\n",
       "Administrative_Duration    float64\n",
       "Informational                int64\n",
       "Informational_Duration     float64\n",
       "ProductRelated               int64\n",
       "ProductRelated_Duration    float64\n",
       "BounceRates                float64\n",
       "ExitRates                  float64\n",
       "PageValues                 float64\n",
       "SpecialDay                 float64\n",
       "Month                       object\n",
       "OperatingSystems             int64\n",
       "Browser                      int64\n",
       "Region                       int64\n",
       "TrafficType                  int64\n",
       "VisitorType                 object\n",
       "Weekend                       bool\n",
       "Revenue                       bool\n",
       "dtype: object"
      ]
     },
     "execution_count": 4,
     "metadata": {},
     "output_type": "execute_result"
    }
   ],
   "source": [
    "import copy\n",
    "clean_df = copy.deepcopy(df)\n",
    "clean_df.dtypes"
   ]
  },
  {
   "cell_type": "markdown",
   "id": "cf2f5677",
   "metadata": {},
   "source": [
    "Conver all the string varibale to categorical variable."
   ]
  },
  {
   "cell_type": "code",
   "execution_count": 5,
   "id": "b5066f26-c9a2-4a08-9122-778f01c2a2c6",
   "metadata": {},
   "outputs": [],
   "source": [
    "clean_df[\"Month\"] = clean_df.Month.astype(\"category\")\n",
    "clean_df[\"VisitorType\"] = clean_df.VisitorType.astype(\"category\")\n"
   ]
  },
  {
   "cell_type": "markdown",
   "id": "a5e0c8be",
   "metadata": {},
   "source": [
    "Load necessary pacakage."
   ]
  },
  {
   "cell_type": "code",
   "execution_count": 6,
   "id": "b93db938-355c-4311-be35-e8cfd30e540d",
   "metadata": {},
   "outputs": [],
   "source": [
    "from sklearn.model_selection import train_test_split\n",
    "from sklearn.preprocessing import OneHotEncoder"
   ]
  },
  {
   "cell_type": "markdown",
   "id": "d49e2783",
   "metadata": {},
   "source": [
    "Create One Hot Encoder functions to apply on the categorical features."
   ]
  },
  {
   "cell_type": "code",
   "execution_count": 7,
   "id": "b4e08985",
   "metadata": {},
   "outputs": [],
   "source": [
    "# enc = OneHotEncoder(handle_unknown='ignore')\n",
    "# encoded_df = enc.fit_transform(clean_df)\n",
    "encoded_df = pd.get_dummies(clean_df)\n"
   ]
  },
  {
   "cell_type": "code",
   "execution_count": 8,
   "id": "d6f085e7",
   "metadata": {},
   "outputs": [],
   "source": [
    "X = encoded_df.drop(['Revenue'], axis=1)\n",
    "y = encoded_df['Revenue']"
   ]
  },
  {
   "cell_type": "markdown",
   "id": "c0fbc525",
   "metadata": {},
   "source": [
    "Split the data into train and test (80% as training and 20% as test)"
   ]
  },
  {
   "cell_type": "code",
   "execution_count": 9,
   "id": "5fc4b82b",
   "metadata": {},
   "outputs": [],
   "source": [
    "X_train, X_test, y_train, y_test = train_test_split(X, y, test_size=0.2, random_state=2535)"
   ]
  },
  {
   "cell_type": "markdown",
   "id": "7a2381bd-d66d-40b0-98fd-1d67a044376c",
   "metadata": {},
   "source": [
    "## Modeling"
   ]
  },
  {
   "cell_type": "markdown",
   "id": "f1507d80",
   "metadata": {},
   "source": [
    "Set the seed to keep the random value to be same."
   ]
  },
  {
   "cell_type": "code",
   "execution_count": 10,
   "id": "0714890d",
   "metadata": {},
   "outputs": [],
   "source": [
    "import random\n",
    "random.seed(2535)"
   ]
  },
  {
   "cell_type": "markdown",
   "id": "6e6b2ca0",
   "metadata": {},
   "source": [
    "Load the necessary package."
   ]
  },
  {
   "cell_type": "code",
   "execution_count": 11,
   "id": "e3a99f6a",
   "metadata": {},
   "outputs": [],
   "source": [
    "from sklearn.linear_model import LogisticRegression\n",
    "from sklearn.tree import DecisionTreeClassifier\n",
    "from sklearn.ensemble import RandomForestClassifier, GradientBoostingClassifier, BaggingClassifier, StackingClassifier\n",
    "from sklearn.neighbors import KNeighborsClassifier\n",
    "from lightgbm import LGBMClassifier\n",
    "from xgboost import XGBClassifier\n",
    "from sklearn.svm import SVC\n",
    "from sklearn.model_selection import cross_val_score, RepeatedStratifiedKFold"
   ]
  },
  {
   "cell_type": "markdown",
   "id": "c0a86806",
   "metadata": {},
   "source": [
    "### Baseling Model"
   ]
  },
  {
   "cell_type": "markdown",
   "id": "6b6597fa",
   "metadata": {},
   "source": [
    "Create the function for test the baseling model."
   ]
  },
  {
   "cell_type": "code",
   "execution_count": 12,
   "id": "d42b100b",
   "metadata": {},
   "outputs": [],
   "source": [
    "def base_models():\n",
    "    models = dict()\n",
    "    models['Logistic'] = LogisticRegression(solver='liblinear')\n",
    "    models['DecisionTree'] = DecisionTreeClassifier()\n",
    "    models['RandomForest'] = RandomForestClassifier()\n",
    "    models['KNN'] = KNeighborsClassifier()\n",
    "    # models['SVC'] = SVC(gamma='auto')\n",
    "    models['Bagging'] = BaggingClassifier()\n",
    "    models['GBM'] = GradientBoostingClassifier()\n",
    "    models['LightGBM'] = LGBMClassifier()\n",
    "    models['XGBoost'] = XGBClassifier()\n",
    "    return models\n",
    "\n",
    "# Function to evaluate the list of models\n",
    "def eval_models(model):\n",
    "  cv = RepeatedStratifiedKFold(n_splits=10, n_repeats=3, random_state=1)\n",
    "  scores = cross_val_score(model, X_train, y_train, cv=cv, n_jobs=-1, \n",
    "                            error_score='raise')\n",
    "  return scores"
   ]
  },
  {
   "cell_type": "markdown",
   "id": "5c6ac821",
   "metadata": {},
   "source": [
    "Print the evaluation of all the model."
   ]
  },
  {
   "cell_type": "code",
   "execution_count": 13,
   "id": "b2a5927a",
   "metadata": {},
   "outputs": [
    {
     "name": "stdout",
     "output_type": "stream",
     "text": [
      ">Logistic 0.883 (0.007)\n",
      ">DecisionTree 0.860 (0.010)\n",
      ">RandomForest 0.903 (0.007)\n",
      ">KNN 0.858 (0.008)\n",
      ">Bagging 0.894 (0.007)\n",
      ">GBM 0.900 (0.007)\n",
      ">LightGBM 0.903 (0.007)\n",
      ">XGBoost 0.897 (0.007)\n"
     ]
    }
   ],
   "source": [
    "# get the models to evaluate\n",
    "baseline_model = base_models()\n",
    "# evaluate the models and store results\n",
    "results, names = list(), list() \n",
    "\n",
    "for name, model in baseline_model.items():\n",
    "  scores = eval_models(model)\n",
    "  results.append(scores)\n",
    "  names.append(name)\n",
    "  print('>%s %.3f (%.3f)' % (name, scores.mean(), scores.std()))"
   ]
  },
  {
   "cell_type": "markdown",
   "id": "db3089bb",
   "metadata": {},
   "source": [
    "Convert the reuslt of evaluation model into dataframe."
   ]
  },
  {
   "cell_type": "code",
   "execution_count": 14,
   "id": "83a6c170",
   "metadata": {},
   "outputs": [],
   "source": [
    "classificationmod = pd.DataFrame(np.transpose(results), columns = [\"Logistic\",\"DecisionTree\",\"RandomForest\",\"KNN\", \"Bagging\",\"GBM\", \"XGBoost\",\"LightGBM\"])\n",
    "classificationmod = pd.melt(classificationmod.reset_index(), id_vars='index',value_vars=[\"Logistic\",\"DecisionTree\",\"RandomForest\",\"KNN\", \"Bagging\",\"GBM\",\"XGBoost\",\"LightGBM\"])\n",
    "classificationmod.set_index('index', inplace=True)\n",
    "classificationmod.columns = ['Model', 'Score']"
   ]
  },
  {
   "cell_type": "markdown",
   "id": "16ecad9f",
   "metadata": {},
   "source": [
    "Generate a box plot to check the evaluation of each model."
   ]
  },
  {
   "cell_type": "code",
   "execution_count": 15,
   "id": "23c4e2f3",
   "metadata": {},
   "outputs": [
    {
     "data": {
      "application/vnd.plotly.v1+json": {
       "config": {
        "plotlyServerURL": "https://plotly.com"
       },
       "data": [
        {
         "alignmentgroup": "True",
         "boxpoints": "all",
         "hovertemplate": "Machine Learning Model=%{x}<br>Accuracy=%{y}<extra></extra>",
         "legendgroup": "Logistic",
         "marker": {
          "color": "#636efa"
         },
         "name": "Logistic",
         "notched": false,
         "offsetgroup": "Logistic",
         "orientation": "v",
         "showlegend": true,
         "type": "box",
         "x": [
          "Logistic",
          "Logistic",
          "Logistic",
          "Logistic",
          "Logistic",
          "Logistic",
          "Logistic",
          "Logistic",
          "Logistic",
          "Logistic",
          "Logistic",
          "Logistic",
          "Logistic",
          "Logistic",
          "Logistic",
          "Logistic",
          "Logistic",
          "Logistic",
          "Logistic",
          "Logistic",
          "Logistic",
          "Logistic",
          "Logistic",
          "Logistic",
          "Logistic",
          "Logistic",
          "Logistic",
          "Logistic",
          "Logistic",
          "Logistic"
         ],
         "x0": " ",
         "xaxis": "x",
         "y": [
          0.8753799392097265,
          0.900709219858156,
          0.8774062816616008,
          0.8915906788247214,
          0.8813387423935092,
          0.8793103448275862,
          0.8762677484787018,
          0.8782961460446247,
          0.8874239350912779,
          0.8782961460446247,
          0.8844984802431611,
          0.8824721377912867,
          0.8834853090172239,
          0.8774062816616008,
          0.8752535496957403,
          0.8813387423935092,
          0.8935091277890467,
          0.8853955375253549,
          0.8914807302231237,
          0.8732251521298174,
          0.8804457953394124,
          0.8844984802431611,
          0.8824721377912867,
          0.8713272543059777,
          0.8813387423935092,
          0.8914807302231237,
          0.8803245436105477,
          0.8803245436105477,
          0.8793103448275862,
          0.8955375253549696
         ],
         "y0": " ",
         "yaxis": "y"
        },
        {
         "alignmentgroup": "True",
         "boxpoints": "all",
         "hovertemplate": "Machine Learning Model=%{x}<br>Accuracy=%{y}<extra></extra>",
         "legendgroup": "DecisionTree",
         "marker": {
          "color": "#EF553B"
         },
         "name": "DecisionTree",
         "notched": false,
         "offsetgroup": "DecisionTree",
         "orientation": "v",
         "showlegend": true,
         "type": "box",
         "x": [
          "DecisionTree",
          "DecisionTree",
          "DecisionTree",
          "DecisionTree",
          "DecisionTree",
          "DecisionTree",
          "DecisionTree",
          "DecisionTree",
          "DecisionTree",
          "DecisionTree",
          "DecisionTree",
          "DecisionTree",
          "DecisionTree",
          "DecisionTree",
          "DecisionTree",
          "DecisionTree",
          "DecisionTree",
          "DecisionTree",
          "DecisionTree",
          "DecisionTree",
          "DecisionTree",
          "DecisionTree",
          "DecisionTree",
          "DecisionTree",
          "DecisionTree",
          "DecisionTree",
          "DecisionTree",
          "DecisionTree",
          "DecisionTree",
          "DecisionTree"
         ],
         "x0": " ",
         "xaxis": "x",
         "y": [
          0.8611955420466059,
          0.8733535967578521,
          0.8581560283687943,
          0.8693009118541033,
          0.8488843813387424,
          0.8742393509127789,
          0.8448275862068966,
          0.8630831643002028,
          0.8620689655172413,
          0.8640973630831643,
          0.8530901722391084,
          0.8611955420466059,
          0.8480243161094225,
          0.8571428571428571,
          0.8468559837728195,
          0.8681541582150102,
          0.8549695740365112,
          0.845841784989858,
          0.8559837728194726,
          0.8427991886409736,
          0.8490374873353597,
          0.8662613981762918,
          0.85612968591692,
          0.8693009118541033,
          0.8722109533468559,
          0.8498985801217038,
          0.8722109533468559,
          0.8559837728194726,
          0.8661257606490872,
          0.8762677484787018
         ],
         "y0": " ",
         "yaxis": "y"
        },
        {
         "alignmentgroup": "True",
         "boxpoints": "all",
         "hovertemplate": "Machine Learning Model=%{x}<br>Accuracy=%{y}<extra></extra>",
         "legendgroup": "RandomForest",
         "marker": {
          "color": "#00cc96"
         },
         "name": "RandomForest",
         "notched": false,
         "offsetgroup": "RandomForest",
         "orientation": "v",
         "showlegend": true,
         "type": "box",
         "x": [
          "RandomForest",
          "RandomForest",
          "RandomForest",
          "RandomForest",
          "RandomForest",
          "RandomForest",
          "RandomForest",
          "RandomForest",
          "RandomForest",
          "RandomForest",
          "RandomForest",
          "RandomForest",
          "RandomForest",
          "RandomForest",
          "RandomForest",
          "RandomForest",
          "RandomForest",
          "RandomForest",
          "RandomForest",
          "RandomForest",
          "RandomForest",
          "RandomForest",
          "RandomForest",
          "RandomForest",
          "RandomForest",
          "RandomForest",
          "RandomForest",
          "RandomForest",
          "RandomForest",
          "RandomForest"
         ],
         "x0": " ",
         "xaxis": "x",
         "y": [
          0.9037487335359676,
          0.9037487335359676,
          0.9037487335359676,
          0.9057750759878419,
          0.9158215010141988,
          0.9016227180527383,
          0.8945233265720081,
          0.9016227180527383,
          0.8985801217038539,
          0.8955375253549696,
          0.9088145896656535,
          0.9098277608915907,
          0.8996960486322189,
          0.8956433637284701,
          0.8914807302231237,
          0.9036511156186613,
          0.9178498985801217,
          0.8955375253549696,
          0.9107505070993914,
          0.9046653144016227,
          0.8976697061803445,
          0.8976697061803445,
          0.8905775075987842,
          0.8966565349544073,
          0.9016227180527383,
          0.9036511156186613,
          0.9036511156186613,
          0.90973630831643,
          0.907707910750507,
          0.9148073022312373
         ],
         "y0": " ",
         "yaxis": "y"
        },
        {
         "alignmentgroup": "True",
         "boxpoints": "all",
         "hovertemplate": "Machine Learning Model=%{x}<br>Accuracy=%{y}<extra></extra>",
         "legendgroup": "KNN",
         "marker": {
          "color": "#ab63fa"
         },
         "name": "KNN",
         "notched": false,
         "offsetgroup": "KNN",
         "orientation": "v",
         "showlegend": true,
         "type": "box",
         "x": [
          "KNN",
          "KNN",
          "KNN",
          "KNN",
          "KNN",
          "KNN",
          "KNN",
          "KNN",
          "KNN",
          "KNN",
          "KNN",
          "KNN",
          "KNN",
          "KNN",
          "KNN",
          "KNN",
          "KNN",
          "KNN",
          "KNN",
          "KNN",
          "KNN",
          "KNN",
          "KNN",
          "KNN",
          "KNN",
          "KNN",
          "KNN",
          "KNN",
          "KNN",
          "KNN"
         ],
         "x0": " ",
         "xaxis": "x",
         "y": [
          0.8581560283687943,
          0.851063829787234,
          0.8611955420466059,
          0.8551165146909828,
          0.859026369168357,
          0.8559837728194726,
          0.8610547667342799,
          0.8711967545638946,
          0.8600405679513184,
          0.8539553752535497,
          0.8530901722391084,
          0.8551165146909828,
          0.8530901722391084,
          0.8429584599797366,
          0.8549695740365112,
          0.8559837728194726,
          0.8762677484787018,
          0.8640973630831643,
          0.8671399594320487,
          0.8488843813387424,
          0.8520770010131712,
          0.8500506585612969,
          0.8541033434650456,
          0.8591691995947315,
          0.8630831643002028,
          0.8559837728194726,
          0.8580121703853956,
          0.8529411764705882,
          0.8610547667342799,
          0.8813387423935092
         ],
         "y0": " ",
         "yaxis": "y"
        },
        {
         "alignmentgroup": "True",
         "boxpoints": "all",
         "hovertemplate": "Machine Learning Model=%{x}<br>Accuracy=%{y}<extra></extra>",
         "legendgroup": "Bagging",
         "marker": {
          "color": "#FFA15A"
         },
         "name": "Bagging",
         "notched": false,
         "offsetgroup": "Bagging",
         "orientation": "v",
         "showlegend": true,
         "type": "box",
         "x": [
          "Bagging",
          "Bagging",
          "Bagging",
          "Bagging",
          "Bagging",
          "Bagging",
          "Bagging",
          "Bagging",
          "Bagging",
          "Bagging",
          "Bagging",
          "Bagging",
          "Bagging",
          "Bagging",
          "Bagging",
          "Bagging",
          "Bagging",
          "Bagging",
          "Bagging",
          "Bagging",
          "Bagging",
          "Bagging",
          "Bagging",
          "Bagging",
          "Bagging",
          "Bagging",
          "Bagging",
          "Bagging",
          "Bagging",
          "Bagging"
         ],
         "x0": " ",
         "xaxis": "x",
         "y": [
          0.8936170212765957,
          0.9037487335359676,
          0.8956433637284701,
          0.8966565349544073,
          0.907707910750507,
          0.8813387423935092,
          0.8864097363083164,
          0.8955375253549696,
          0.8894523326572008,
          0.8894523326572008,
          0.8936170212765957,
          0.8986828774062816,
          0.8915906788247214,
          0.8905775075987842,
          0.8864097363083164,
          0.8955375253549696,
          0.896551724137931,
          0.8894523326572008,
          0.9006085192697769,
          0.8894523326572008,
          0.894630192502533,
          0.8855116514690983,
          0.8763931104356636,
          0.8865248226950354,
          0.8955375253549696,
          0.896551724137931,
          0.8975659229208925,
          0.9006085192697769,
          0.9046653144016227,
          0.9087221095334685
         ],
         "y0": " ",
         "yaxis": "y"
        },
        {
         "alignmentgroup": "True",
         "boxpoints": "all",
         "hovertemplate": "Machine Learning Model=%{x}<br>Accuracy=%{y}<extra></extra>",
         "legendgroup": "GBM",
         "marker": {
          "color": "#19d3f3"
         },
         "name": "GBM",
         "notched": false,
         "offsetgroup": "GBM",
         "orientation": "v",
         "showlegend": true,
         "type": "box",
         "x": [
          "GBM",
          "GBM",
          "GBM",
          "GBM",
          "GBM",
          "GBM",
          "GBM",
          "GBM",
          "GBM",
          "GBM",
          "GBM",
          "GBM",
          "GBM",
          "GBM",
          "GBM",
          "GBM",
          "GBM",
          "GBM",
          "GBM",
          "GBM",
          "GBM",
          "GBM",
          "GBM",
          "GBM",
          "GBM",
          "GBM",
          "GBM",
          "GBM",
          "GBM",
          "GBM"
         ],
         "x0": " ",
         "xaxis": "x",
         "y": [
          0.9027355623100304,
          0.9078014184397163,
          0.9047619047619048,
          0.9027355623100304,
          0.9087221095334685,
          0.8975659229208925,
          0.8914807302231237,
          0.896551724137931,
          0.8985801217038539,
          0.8914807302231237,
          0.9057750759878419,
          0.9108409321175278,
          0.8926038500506586,
          0.9037487335359676,
          0.8843813387423936,
          0.8995943204868154,
          0.9066937119675457,
          0.8914807302231237,
          0.9056795131845842,
          0.9006085192697769,
          0.8986828774062816,
          0.8926038500506586,
          0.889564336372847,
          0.894630192502533,
          0.9016227180527383,
          0.9006085192697769,
          0.9117647058823529,
          0.8985801217038539,
          0.9056795131845842,
          0.90973630831643
         ],
         "y0": " ",
         "yaxis": "y"
        },
        {
         "alignmentgroup": "True",
         "boxpoints": "all",
         "hovertemplate": "Machine Learning Model=%{x}<br>Accuracy=%{y}<extra></extra>",
         "legendgroup": "XGBoost",
         "marker": {
          "color": "#FF6692"
         },
         "name": "XGBoost",
         "notched": false,
         "offsetgroup": "XGBoost",
         "orientation": "v",
         "showlegend": true,
         "type": "box",
         "x": [
          "XGBoost",
          "XGBoost",
          "XGBoost",
          "XGBoost",
          "XGBoost",
          "XGBoost",
          "XGBoost",
          "XGBoost",
          "XGBoost",
          "XGBoost",
          "XGBoost",
          "XGBoost",
          "XGBoost",
          "XGBoost",
          "XGBoost",
          "XGBoost",
          "XGBoost",
          "XGBoost",
          "XGBoost",
          "XGBoost",
          "XGBoost",
          "XGBoost",
          "XGBoost",
          "XGBoost",
          "XGBoost",
          "XGBoost",
          "XGBoost",
          "XGBoost",
          "XGBoost",
          "XGBoost"
         ],
         "x0": " ",
         "xaxis": "x",
         "y": [
          0.9017223910840932,
          0.9067882472137792,
          0.9037487335359676,
          0.9047619047619048,
          0.9148073022312373,
          0.8975659229208925,
          0.9026369168356998,
          0.9026369168356998,
          0.896551724137931,
          0.8914807302231237,
          0.9088145896656535,
          0.9118541033434651,
          0.894630192502533,
          0.9027355623100304,
          0.8894523326572008,
          0.9066937119675457,
          0.9117647058823529,
          0.8975659229208925,
          0.9087221095334685,
          0.9117647058823529,
          0.900709219858156,
          0.9027355623100304,
          0.8885511651469098,
          0.8915906788247214,
          0.9066937119675457,
          0.8985801217038539,
          0.9127789046653144,
          0.90973630831643,
          0.8985801217038539,
          0.907707910750507
         ],
         "y0": " ",
         "yaxis": "y"
        },
        {
         "alignmentgroup": "True",
         "boxpoints": "all",
         "hovertemplate": "Machine Learning Model=%{x}<br>Accuracy=%{y}<extra></extra>",
         "legendgroup": "LightGBM",
         "marker": {
          "color": "#B6E880"
         },
         "name": "LightGBM",
         "notched": false,
         "offsetgroup": "LightGBM",
         "orientation": "v",
         "showlegend": true,
         "type": "box",
         "x": [
          "LightGBM",
          "LightGBM",
          "LightGBM",
          "LightGBM",
          "LightGBM",
          "LightGBM",
          "LightGBM",
          "LightGBM",
          "LightGBM",
          "LightGBM",
          "LightGBM",
          "LightGBM",
          "LightGBM",
          "LightGBM",
          "LightGBM",
          "LightGBM",
          "LightGBM",
          "LightGBM",
          "LightGBM",
          "LightGBM",
          "LightGBM",
          "LightGBM",
          "LightGBM",
          "LightGBM",
          "LightGBM",
          "LightGBM",
          "LightGBM",
          "LightGBM",
          "LightGBM",
          "LightGBM"
         ],
         "x0": " ",
         "xaxis": "x",
         "y": [
          0.9057750759878419,
          0.8956433637284701,
          0.8966565349544073,
          0.8986828774062816,
          0.90973630831643,
          0.8955375253549696,
          0.8813387423935092,
          0.907707910750507,
          0.8894523326572008,
          0.8945233265720081,
          0.9088145896656535,
          0.9047619047619048,
          0.8936170212765957,
          0.889564336372847,
          0.8853955375253549,
          0.896551724137931,
          0.9066937119675457,
          0.8955375253549696,
          0.896551724137931,
          0.8975659229208925,
          0.9017223910840932,
          0.8885511651469098,
          0.8926038500506586,
          0.8915906788247214,
          0.8884381338742393,
          0.8945233265720081,
          0.8955375253549696,
          0.8975659229208925,
          0.9056795131845842,
          0.9066937119675457
         ],
         "y0": " ",
         "yaxis": "y"
        }
       ],
       "layout": {
        "boxmode": "overlay",
        "legend": {
         "title": {
          "text": "Machine Learning Model"
         },
         "tracegroupgap": 0
        },
        "template": {
         "data": {
          "bar": [
           {
            "error_x": {
             "color": "#2a3f5f"
            },
            "error_y": {
             "color": "#2a3f5f"
            },
            "marker": {
             "line": {
              "color": "#E5ECF6",
              "width": 0.5
             },
             "pattern": {
              "fillmode": "overlay",
              "size": 10,
              "solidity": 0.2
             }
            },
            "type": "bar"
           }
          ],
          "barpolar": [
           {
            "marker": {
             "line": {
              "color": "#E5ECF6",
              "width": 0.5
             },
             "pattern": {
              "fillmode": "overlay",
              "size": 10,
              "solidity": 0.2
             }
            },
            "type": "barpolar"
           }
          ],
          "carpet": [
           {
            "aaxis": {
             "endlinecolor": "#2a3f5f",
             "gridcolor": "white",
             "linecolor": "white",
             "minorgridcolor": "white",
             "startlinecolor": "#2a3f5f"
            },
            "baxis": {
             "endlinecolor": "#2a3f5f",
             "gridcolor": "white",
             "linecolor": "white",
             "minorgridcolor": "white",
             "startlinecolor": "#2a3f5f"
            },
            "type": "carpet"
           }
          ],
          "choropleth": [
           {
            "colorbar": {
             "outlinewidth": 0,
             "ticks": ""
            },
            "type": "choropleth"
           }
          ],
          "contour": [
           {
            "colorbar": {
             "outlinewidth": 0,
             "ticks": ""
            },
            "colorscale": [
             [
              0,
              "#0d0887"
             ],
             [
              0.1111111111111111,
              "#46039f"
             ],
             [
              0.2222222222222222,
              "#7201a8"
             ],
             [
              0.3333333333333333,
              "#9c179e"
             ],
             [
              0.4444444444444444,
              "#bd3786"
             ],
             [
              0.5555555555555556,
              "#d8576b"
             ],
             [
              0.6666666666666666,
              "#ed7953"
             ],
             [
              0.7777777777777778,
              "#fb9f3a"
             ],
             [
              0.8888888888888888,
              "#fdca26"
             ],
             [
              1,
              "#f0f921"
             ]
            ],
            "type": "contour"
           }
          ],
          "contourcarpet": [
           {
            "colorbar": {
             "outlinewidth": 0,
             "ticks": ""
            },
            "type": "contourcarpet"
           }
          ],
          "heatmap": [
           {
            "colorbar": {
             "outlinewidth": 0,
             "ticks": ""
            },
            "colorscale": [
             [
              0,
              "#0d0887"
             ],
             [
              0.1111111111111111,
              "#46039f"
             ],
             [
              0.2222222222222222,
              "#7201a8"
             ],
             [
              0.3333333333333333,
              "#9c179e"
             ],
             [
              0.4444444444444444,
              "#bd3786"
             ],
             [
              0.5555555555555556,
              "#d8576b"
             ],
             [
              0.6666666666666666,
              "#ed7953"
             ],
             [
              0.7777777777777778,
              "#fb9f3a"
             ],
             [
              0.8888888888888888,
              "#fdca26"
             ],
             [
              1,
              "#f0f921"
             ]
            ],
            "type": "heatmap"
           }
          ],
          "heatmapgl": [
           {
            "colorbar": {
             "outlinewidth": 0,
             "ticks": ""
            },
            "colorscale": [
             [
              0,
              "#0d0887"
             ],
             [
              0.1111111111111111,
              "#46039f"
             ],
             [
              0.2222222222222222,
              "#7201a8"
             ],
             [
              0.3333333333333333,
              "#9c179e"
             ],
             [
              0.4444444444444444,
              "#bd3786"
             ],
             [
              0.5555555555555556,
              "#d8576b"
             ],
             [
              0.6666666666666666,
              "#ed7953"
             ],
             [
              0.7777777777777778,
              "#fb9f3a"
             ],
             [
              0.8888888888888888,
              "#fdca26"
             ],
             [
              1,
              "#f0f921"
             ]
            ],
            "type": "heatmapgl"
           }
          ],
          "histogram": [
           {
            "marker": {
             "pattern": {
              "fillmode": "overlay",
              "size": 10,
              "solidity": 0.2
             }
            },
            "type": "histogram"
           }
          ],
          "histogram2d": [
           {
            "colorbar": {
             "outlinewidth": 0,
             "ticks": ""
            },
            "colorscale": [
             [
              0,
              "#0d0887"
             ],
             [
              0.1111111111111111,
              "#46039f"
             ],
             [
              0.2222222222222222,
              "#7201a8"
             ],
             [
              0.3333333333333333,
              "#9c179e"
             ],
             [
              0.4444444444444444,
              "#bd3786"
             ],
             [
              0.5555555555555556,
              "#d8576b"
             ],
             [
              0.6666666666666666,
              "#ed7953"
             ],
             [
              0.7777777777777778,
              "#fb9f3a"
             ],
             [
              0.8888888888888888,
              "#fdca26"
             ],
             [
              1,
              "#f0f921"
             ]
            ],
            "type": "histogram2d"
           }
          ],
          "histogram2dcontour": [
           {
            "colorbar": {
             "outlinewidth": 0,
             "ticks": ""
            },
            "colorscale": [
             [
              0,
              "#0d0887"
             ],
             [
              0.1111111111111111,
              "#46039f"
             ],
             [
              0.2222222222222222,
              "#7201a8"
             ],
             [
              0.3333333333333333,
              "#9c179e"
             ],
             [
              0.4444444444444444,
              "#bd3786"
             ],
             [
              0.5555555555555556,
              "#d8576b"
             ],
             [
              0.6666666666666666,
              "#ed7953"
             ],
             [
              0.7777777777777778,
              "#fb9f3a"
             ],
             [
              0.8888888888888888,
              "#fdca26"
             ],
             [
              1,
              "#f0f921"
             ]
            ],
            "type": "histogram2dcontour"
           }
          ],
          "mesh3d": [
           {
            "colorbar": {
             "outlinewidth": 0,
             "ticks": ""
            },
            "type": "mesh3d"
           }
          ],
          "parcoords": [
           {
            "line": {
             "colorbar": {
              "outlinewidth": 0,
              "ticks": ""
             }
            },
            "type": "parcoords"
           }
          ],
          "pie": [
           {
            "automargin": true,
            "type": "pie"
           }
          ],
          "scatter": [
           {
            "marker": {
             "colorbar": {
              "outlinewidth": 0,
              "ticks": ""
             }
            },
            "type": "scatter"
           }
          ],
          "scatter3d": [
           {
            "line": {
             "colorbar": {
              "outlinewidth": 0,
              "ticks": ""
             }
            },
            "marker": {
             "colorbar": {
              "outlinewidth": 0,
              "ticks": ""
             }
            },
            "type": "scatter3d"
           }
          ],
          "scattercarpet": [
           {
            "marker": {
             "colorbar": {
              "outlinewidth": 0,
              "ticks": ""
             }
            },
            "type": "scattercarpet"
           }
          ],
          "scattergeo": [
           {
            "marker": {
             "colorbar": {
              "outlinewidth": 0,
              "ticks": ""
             }
            },
            "type": "scattergeo"
           }
          ],
          "scattergl": [
           {
            "marker": {
             "colorbar": {
              "outlinewidth": 0,
              "ticks": ""
             }
            },
            "type": "scattergl"
           }
          ],
          "scattermapbox": [
           {
            "marker": {
             "colorbar": {
              "outlinewidth": 0,
              "ticks": ""
             }
            },
            "type": "scattermapbox"
           }
          ],
          "scatterpolar": [
           {
            "marker": {
             "colorbar": {
              "outlinewidth": 0,
              "ticks": ""
             }
            },
            "type": "scatterpolar"
           }
          ],
          "scatterpolargl": [
           {
            "marker": {
             "colorbar": {
              "outlinewidth": 0,
              "ticks": ""
             }
            },
            "type": "scatterpolargl"
           }
          ],
          "scatterternary": [
           {
            "marker": {
             "colorbar": {
              "outlinewidth": 0,
              "ticks": ""
             }
            },
            "type": "scatterternary"
           }
          ],
          "surface": [
           {
            "colorbar": {
             "outlinewidth": 0,
             "ticks": ""
            },
            "colorscale": [
             [
              0,
              "#0d0887"
             ],
             [
              0.1111111111111111,
              "#46039f"
             ],
             [
              0.2222222222222222,
              "#7201a8"
             ],
             [
              0.3333333333333333,
              "#9c179e"
             ],
             [
              0.4444444444444444,
              "#bd3786"
             ],
             [
              0.5555555555555556,
              "#d8576b"
             ],
             [
              0.6666666666666666,
              "#ed7953"
             ],
             [
              0.7777777777777778,
              "#fb9f3a"
             ],
             [
              0.8888888888888888,
              "#fdca26"
             ],
             [
              1,
              "#f0f921"
             ]
            ],
            "type": "surface"
           }
          ],
          "table": [
           {
            "cells": {
             "fill": {
              "color": "#EBF0F8"
             },
             "line": {
              "color": "white"
             }
            },
            "header": {
             "fill": {
              "color": "#C8D4E3"
             },
             "line": {
              "color": "white"
             }
            },
            "type": "table"
           }
          ]
         },
         "layout": {
          "annotationdefaults": {
           "arrowcolor": "#2a3f5f",
           "arrowhead": 0,
           "arrowwidth": 1
          },
          "autotypenumbers": "strict",
          "coloraxis": {
           "colorbar": {
            "outlinewidth": 0,
            "ticks": ""
           }
          },
          "colorscale": {
           "diverging": [
            [
             0,
             "#8e0152"
            ],
            [
             0.1,
             "#c51b7d"
            ],
            [
             0.2,
             "#de77ae"
            ],
            [
             0.3,
             "#f1b6da"
            ],
            [
             0.4,
             "#fde0ef"
            ],
            [
             0.5,
             "#f7f7f7"
            ],
            [
             0.6,
             "#e6f5d0"
            ],
            [
             0.7,
             "#b8e186"
            ],
            [
             0.8,
             "#7fbc41"
            ],
            [
             0.9,
             "#4d9221"
            ],
            [
             1,
             "#276419"
            ]
           ],
           "sequential": [
            [
             0,
             "#0d0887"
            ],
            [
             0.1111111111111111,
             "#46039f"
            ],
            [
             0.2222222222222222,
             "#7201a8"
            ],
            [
             0.3333333333333333,
             "#9c179e"
            ],
            [
             0.4444444444444444,
             "#bd3786"
            ],
            [
             0.5555555555555556,
             "#d8576b"
            ],
            [
             0.6666666666666666,
             "#ed7953"
            ],
            [
             0.7777777777777778,
             "#fb9f3a"
            ],
            [
             0.8888888888888888,
             "#fdca26"
            ],
            [
             1,
             "#f0f921"
            ]
           ],
           "sequentialminus": [
            [
             0,
             "#0d0887"
            ],
            [
             0.1111111111111111,
             "#46039f"
            ],
            [
             0.2222222222222222,
             "#7201a8"
            ],
            [
             0.3333333333333333,
             "#9c179e"
            ],
            [
             0.4444444444444444,
             "#bd3786"
            ],
            [
             0.5555555555555556,
             "#d8576b"
            ],
            [
             0.6666666666666666,
             "#ed7953"
            ],
            [
             0.7777777777777778,
             "#fb9f3a"
            ],
            [
             0.8888888888888888,
             "#fdca26"
            ],
            [
             1,
             "#f0f921"
            ]
           ]
          },
          "colorway": [
           "#636efa",
           "#EF553B",
           "#00cc96",
           "#ab63fa",
           "#FFA15A",
           "#19d3f3",
           "#FF6692",
           "#B6E880",
           "#FF97FF",
           "#FECB52"
          ],
          "font": {
           "color": "#2a3f5f"
          },
          "geo": {
           "bgcolor": "white",
           "lakecolor": "white",
           "landcolor": "#E5ECF6",
           "showlakes": true,
           "showland": true,
           "subunitcolor": "white"
          },
          "hoverlabel": {
           "align": "left"
          },
          "hovermode": "closest",
          "mapbox": {
           "style": "light"
          },
          "paper_bgcolor": "white",
          "plot_bgcolor": "#E5ECF6",
          "polar": {
           "angularaxis": {
            "gridcolor": "white",
            "linecolor": "white",
            "ticks": ""
           },
           "bgcolor": "#E5ECF6",
           "radialaxis": {
            "gridcolor": "white",
            "linecolor": "white",
            "ticks": ""
           }
          },
          "scene": {
           "xaxis": {
            "backgroundcolor": "#E5ECF6",
            "gridcolor": "white",
            "gridwidth": 2,
            "linecolor": "white",
            "showbackground": true,
            "ticks": "",
            "zerolinecolor": "white"
           },
           "yaxis": {
            "backgroundcolor": "#E5ECF6",
            "gridcolor": "white",
            "gridwidth": 2,
            "linecolor": "white",
            "showbackground": true,
            "ticks": "",
            "zerolinecolor": "white"
           },
           "zaxis": {
            "backgroundcolor": "#E5ECF6",
            "gridcolor": "white",
            "gridwidth": 2,
            "linecolor": "white",
            "showbackground": true,
            "ticks": "",
            "zerolinecolor": "white"
           }
          },
          "shapedefaults": {
           "line": {
            "color": "#2a3f5f"
           }
          },
          "ternary": {
           "aaxis": {
            "gridcolor": "white",
            "linecolor": "white",
            "ticks": ""
           },
           "baxis": {
            "gridcolor": "white",
            "linecolor": "white",
            "ticks": ""
           },
           "bgcolor": "#E5ECF6",
           "caxis": {
            "gridcolor": "white",
            "linecolor": "white",
            "ticks": ""
           }
          },
          "title": {
           "x": 0.05
          },
          "xaxis": {
           "automargin": true,
           "gridcolor": "white",
           "linecolor": "white",
           "ticks": "",
           "title": {
            "standoff": 15
           },
           "zerolinecolor": "white",
           "zerolinewidth": 2
          },
          "yaxis": {
           "automargin": true,
           "gridcolor": "white",
           "linecolor": "white",
           "ticks": "",
           "title": {
            "standoff": 15
           },
           "zerolinecolor": "white",
           "zerolinewidth": 2
          }
         }
        },
        "title": {
         "text": "Model Performance"
        },
        "xaxis": {
         "anchor": "y",
         "categoryarray": [
          "Logistic",
          "DecisionTree",
          "RandomForest",
          "KNN",
          "Bagging",
          "GBM",
          "XGBoost",
          "LightGBM"
         ],
         "categoryorder": "array",
         "domain": [
          0,
          1
         ],
         "title": {
          "text": "Machine Learning Model"
         }
        },
        "yaxis": {
         "anchor": "x",
         "domain": [
          0,
          1
         ],
         "title": {
          "text": "Accuracy"
         }
        }
       }
      }
     },
     "metadata": {},
     "output_type": "display_data"
    }
   ],
   "source": [
    "fig = px.box(classificationmod, x=\"Model\", y=\"Score\",color=\"Model\",points='all',\n",
    "labels={\"Model\": \"Machine Learning Model\",\n",
    "        \"Score\": \"Accuracy\"\n",
    "        },title=\"Model Performance\")\n",
    "fig.show()\n",
    "#fig.write_image(\"Boxplot.jpeg\",engine=\"kaleido\",format=\"png\", width=1600, height=700, scale=0.75)"
   ]
  },
  {
   "cell_type": "markdown",
   "id": "275b93e9",
   "metadata": {},
   "source": [
    " # Hyperparameter Search"
   ]
  },
  {
   "cell_type": "markdown",
   "id": "c1d88649",
   "metadata": {},
   "source": [
    "# ----------------- Note -------------------\n",
    "# Done part 5 and 6 for Random Forest only. Not sure if we have to do it separetely for each model or if there is a way to do it for all at the same time\n",
    "# ------------------------------------------"
   ]
  },
  {
   "cell_type": "markdown",
   "id": "61131e3a",
   "metadata": {},
   "source": [
    "## Hyperparameter Search for Random Forest Classifier"
   ]
  },
  {
   "cell_type": "markdown",
   "id": "bc5fb91e",
   "metadata": {},
   "source": [
    "Define model parameters"
   ]
  },
  {
   "cell_type": "code",
   "execution_count": 16,
   "id": "a19ad5f8",
   "metadata": {},
   "outputs": [],
   "source": [
    "from sklearn.model_selection import RepeatedStratifiedKFold\n",
    "from sklearn.model_selection import GridSearchCV\n",
    "\n",
    "# define models and parameters\n",
    "model = RandomForestClassifier()\n",
    "n_estimators = [10, 25, 50, 100,150, 250, 1000]\n",
    "max_features = ['sqrt', 'log2']\n",
    "max_depth = [None, 5, 10, 20, 50, 100]\n",
    "# define grid\n",
    "grid = {'n_estimators': n_estimators,\n",
    "               'max_features': max_features,\n",
    "               'max_depth': max_depth}"
   ]
  },
  {
   "cell_type": "markdown",
   "id": "fa96603c",
   "metadata": {},
   "source": [
    "### Grid search"
   ]
  },
  {
   "cell_type": "code",
   "execution_count": 17,
   "id": "834f15d1",
   "metadata": {},
   "outputs": [],
   "source": [
    "grid_search = GridSearchCV(estimator=model, param_grid=grid, n_jobs=-1, cv=10, scoring='accuracy',error_score=0)\n",
    "grid_result = grid_search.fit(X, y)"
   ]
  },
  {
   "cell_type": "code",
   "execution_count": 18,
   "id": "411f9218",
   "metadata": {},
   "outputs": [
    {
     "name": "stdout",
     "output_type": "stream",
     "text": [
      "Best: 0.893106 using {'max_depth': 10, 'max_features': 'sqrt', 'n_estimators': 150}\n",
      "0.880860 (0.012162) with: {'max_depth': None, 'max_features': 'sqrt', 'n_estimators': 10}\n",
      "0.885077 (0.016993) with: {'max_depth': None, 'max_features': 'sqrt', 'n_estimators': 25}\n",
      "0.887672 (0.016359) with: {'max_depth': None, 'max_features': 'sqrt', 'n_estimators': 50}\n",
      "0.888159 (0.015803) with: {'max_depth': None, 'max_features': 'sqrt', 'n_estimators': 100}\n",
      "0.888321 (0.015634) with: {'max_depth': None, 'max_features': 'sqrt', 'n_estimators': 150}\n",
      "0.889943 (0.015216) with: {'max_depth': None, 'max_features': 'sqrt', 'n_estimators': 250}\n",
      "0.888808 (0.015703) with: {'max_depth': None, 'max_features': 'sqrt', 'n_estimators': 1000}\n",
      "0.878183 (0.017116) with: {'max_depth': None, 'max_features': 'log2', 'n_estimators': 10}\n",
      "0.883942 (0.016092) with: {'max_depth': None, 'max_features': 'log2', 'n_estimators': 25}\n",
      "0.885320 (0.015170) with: {'max_depth': None, 'max_features': 'log2', 'n_estimators': 50}\n",
      "0.888240 (0.014892) with: {'max_depth': None, 'max_features': 'log2', 'n_estimators': 100}\n",
      "0.889700 (0.015697) with: {'max_depth': None, 'max_features': 'log2', 'n_estimators': 150}\n",
      "0.887916 (0.014848) with: {'max_depth': None, 'max_features': 'log2', 'n_estimators': 250}\n",
      "0.888078 (0.015473) with: {'max_depth': None, 'max_features': 'log2', 'n_estimators': 1000}\n",
      "0.877210 (0.012555) with: {'max_depth': 5, 'max_features': 'sqrt', 'n_estimators': 10}\n",
      "0.879968 (0.010887) with: {'max_depth': 5, 'max_features': 'sqrt', 'n_estimators': 25}\n",
      "0.881509 (0.011040) with: {'max_depth': 5, 'max_features': 'sqrt', 'n_estimators': 50}\n",
      "0.881914 (0.015546) with: {'max_depth': 5, 'max_features': 'sqrt', 'n_estimators': 100}\n",
      "0.883942 (0.012302) with: {'max_depth': 5, 'max_features': 'sqrt', 'n_estimators': 150}\n",
      "0.881590 (0.015864) with: {'max_depth': 5, 'max_features': 'sqrt', 'n_estimators': 250}\n",
      "0.882238 (0.015150) with: {'max_depth': 5, 'max_features': 'sqrt', 'n_estimators': 1000}\n",
      "0.867315 (0.009234) with: {'max_depth': 5, 'max_features': 'log2', 'n_estimators': 10}\n",
      "0.873723 (0.015486) with: {'max_depth': 5, 'max_features': 'log2', 'n_estimators': 25}\n",
      "0.864396 (0.009832) with: {'max_depth': 5, 'max_features': 'log2', 'n_estimators': 50}\n",
      "0.869262 (0.009677) with: {'max_depth': 5, 'max_features': 'log2', 'n_estimators': 100}\n",
      "0.864801 (0.008405) with: {'max_depth': 5, 'max_features': 'log2', 'n_estimators': 150}\n",
      "0.866748 (0.009699) with: {'max_depth': 5, 'max_features': 'log2', 'n_estimators': 250}\n",
      "0.869019 (0.010105) with: {'max_depth': 5, 'max_features': 'log2', 'n_estimators': 1000}\n",
      "0.886537 (0.015049) with: {'max_depth': 10, 'max_features': 'sqrt', 'n_estimators': 10}\n",
      "0.892701 (0.014898) with: {'max_depth': 10, 'max_features': 'sqrt', 'n_estimators': 25}\n",
      "0.892944 (0.015546) with: {'max_depth': 10, 'max_features': 'sqrt', 'n_estimators': 50}\n",
      "0.891890 (0.014513) with: {'max_depth': 10, 'max_features': 'sqrt', 'n_estimators': 100}\n",
      "0.893106 (0.014941) with: {'max_depth': 10, 'max_features': 'sqrt', 'n_estimators': 150}\n",
      "0.892701 (0.014689) with: {'max_depth': 10, 'max_features': 'sqrt', 'n_estimators': 250}\n",
      "0.891971 (0.014439) with: {'max_depth': 10, 'max_features': 'sqrt', 'n_estimators': 1000}\n",
      "0.882401 (0.012343) with: {'max_depth': 10, 'max_features': 'log2', 'n_estimators': 10}\n",
      "0.886780 (0.013485) with: {'max_depth': 10, 'max_features': 'log2', 'n_estimators': 25}\n",
      "0.889376 (0.015174) with: {'max_depth': 10, 'max_features': 'log2', 'n_estimators': 50}\n",
      "0.890430 (0.013889) with: {'max_depth': 10, 'max_features': 'log2', 'n_estimators': 100}\n",
      "0.892052 (0.015569) with: {'max_depth': 10, 'max_features': 'log2', 'n_estimators': 150}\n",
      "0.891403 (0.012184) with: {'max_depth': 10, 'max_features': 'log2', 'n_estimators': 250}\n",
      "0.891322 (0.013864) with: {'max_depth': 10, 'max_features': 'log2', 'n_estimators': 1000}\n",
      "0.882887 (0.017452) with: {'max_depth': 20, 'max_features': 'sqrt', 'n_estimators': 10}\n",
      "0.887510 (0.016082) with: {'max_depth': 20, 'max_features': 'sqrt', 'n_estimators': 25}\n",
      "0.887105 (0.016739) with: {'max_depth': 20, 'max_features': 'sqrt', 'n_estimators': 50}\n",
      "0.887997 (0.015628) with: {'max_depth': 20, 'max_features': 'sqrt', 'n_estimators': 100}\n",
      "0.889051 (0.015875) with: {'max_depth': 20, 'max_features': 'sqrt', 'n_estimators': 150}\n",
      "0.888240 (0.015646) with: {'max_depth': 20, 'max_features': 'sqrt', 'n_estimators': 250}\n",
      "0.889213 (0.015890) with: {'max_depth': 20, 'max_features': 'sqrt', 'n_estimators': 1000}\n",
      "0.879400 (0.016534) with: {'max_depth': 20, 'max_features': 'log2', 'n_estimators': 10}\n",
      "0.884996 (0.015439) with: {'max_depth': 20, 'max_features': 'log2', 'n_estimators': 25}\n",
      "0.886699 (0.016066) with: {'max_depth': 20, 'max_features': 'log2', 'n_estimators': 50}\n",
      "0.886131 (0.015329) with: {'max_depth': 20, 'max_features': 'log2', 'n_estimators': 100}\n",
      "0.888159 (0.014829) with: {'max_depth': 20, 'max_features': 'log2', 'n_estimators': 150}\n",
      "0.888564 (0.016351) with: {'max_depth': 20, 'max_features': 'log2', 'n_estimators': 250}\n",
      "0.889457 (0.015718) with: {'max_depth': 20, 'max_features': 'log2', 'n_estimators': 1000}\n",
      "0.883617 (0.017175) with: {'max_depth': 50, 'max_features': 'sqrt', 'n_estimators': 10}\n",
      "0.886699 (0.013968) with: {'max_depth': 50, 'max_features': 'sqrt', 'n_estimators': 25}\n",
      "0.886780 (0.015836) with: {'max_depth': 50, 'max_features': 'sqrt', 'n_estimators': 50}\n",
      "0.889862 (0.015202) with: {'max_depth': 50, 'max_features': 'sqrt', 'n_estimators': 100}\n",
      "0.887429 (0.014870) with: {'max_depth': 50, 'max_features': 'sqrt', 'n_estimators': 150}\n",
      "0.888889 (0.015984) with: {'max_depth': 50, 'max_features': 'sqrt', 'n_estimators': 250}\n",
      "0.889213 (0.016042) with: {'max_depth': 50, 'max_features': 'sqrt', 'n_estimators': 1000}\n",
      "0.884104 (0.018535) with: {'max_depth': 50, 'max_features': 'log2', 'n_estimators': 10}\n",
      "0.885969 (0.017557) with: {'max_depth': 50, 'max_features': 'log2', 'n_estimators': 25}\n",
      "0.887672 (0.016091) with: {'max_depth': 50, 'max_features': 'log2', 'n_estimators': 50}\n",
      "0.888240 (0.016204) with: {'max_depth': 50, 'max_features': 'log2', 'n_estimators': 100}\n",
      "0.887672 (0.015665) with: {'max_depth': 50, 'max_features': 'log2', 'n_estimators': 150}\n",
      "0.887916 (0.014857) with: {'max_depth': 50, 'max_features': 'log2', 'n_estimators': 250}\n",
      "0.887753 (0.015836) with: {'max_depth': 50, 'max_features': 'log2', 'n_estimators': 1000}\n",
      "0.881995 (0.015981) with: {'max_depth': 100, 'max_features': 'sqrt', 'n_estimators': 10}\n",
      "0.885807 (0.015050) with: {'max_depth': 100, 'max_features': 'sqrt', 'n_estimators': 25}\n",
      "0.888727 (0.014741) with: {'max_depth': 100, 'max_features': 'sqrt', 'n_estimators': 50}\n",
      "0.887672 (0.016662) with: {'max_depth': 100, 'max_features': 'sqrt', 'n_estimators': 100}\n",
      "0.889457 (0.015229) with: {'max_depth': 100, 'max_features': 'sqrt', 'n_estimators': 150}\n",
      "0.890835 (0.014999) with: {'max_depth': 100, 'max_features': 'sqrt', 'n_estimators': 250}\n",
      "0.889376 (0.015752) with: {'max_depth': 100, 'max_features': 'sqrt', 'n_estimators': 1000}\n",
      "0.883131 (0.016311) with: {'max_depth': 100, 'max_features': 'log2', 'n_estimators': 10}\n",
      "0.886780 (0.016854) with: {'max_depth': 100, 'max_features': 'log2', 'n_estimators': 25}\n",
      "0.890754 (0.015773) with: {'max_depth': 100, 'max_features': 'log2', 'n_estimators': 50}\n",
      "0.888564 (0.016347) with: {'max_depth': 100, 'max_features': 'log2', 'n_estimators': 100}\n",
      "0.888159 (0.015450) with: {'max_depth': 100, 'max_features': 'log2', 'n_estimators': 150}\n",
      "0.888078 (0.014933) with: {'max_depth': 100, 'max_features': 'log2', 'n_estimators': 250}\n",
      "0.888321 (0.015320) with: {'max_depth': 100, 'max_features': 'log2', 'n_estimators': 1000}\n"
     ]
    }
   ],
   "source": [
    "# summarize results\n",
    "print(\"Best: %f using %s\" % (grid_result.best_score_, grid_result.best_params_))\n",
    "means = grid_result.cv_results_['mean_test_score']\n",
    "stds = grid_result.cv_results_['std_test_score']\n",
    "params = grid_result.cv_results_['params']\n",
    "for mean, stdev, param in zip(means, stds, params):\n",
    "    print(\"%f (%f) with: %r\" % (mean, stdev, param))"
   ]
  },
  {
   "cell_type": "markdown",
   "id": "a15deb77",
   "metadata": {},
   "source": [
    "### Randomized Search"
   ]
  },
  {
   "cell_type": "code",
   "execution_count": 19,
   "id": "b897256a",
   "metadata": {},
   "outputs": [
    {
     "name": "stdout",
     "output_type": "stream",
     "text": [
      "Fitting 10 folds for each of 10 candidates, totalling 100 fits\n"
     ]
    },
    {
     "data": {
      "text/plain": [
       "RandomizedSearchCV(cv=10, estimator=RandomForestClassifier(), n_jobs=-1,\n",
       "                   param_distributions={'max_depth': [None, 5, 10, 20, 50, 100],\n",
       "                                        'max_features': ['sqrt', 'log2'],\n",
       "                                        'n_estimators': [10, 25, 50, 100, 150,\n",
       "                                                         250, 1000]},\n",
       "                   random_state=2535, scoring='neg_mean_squared_error',\n",
       "                   verbose=2)"
      ]
     },
     "execution_count": 19,
     "metadata": {},
     "output_type": "execute_result"
    }
   ],
   "source": [
    "from sklearn.model_selection import RandomizedSearchCV\n",
    "\n",
    "rf_random = RandomizedSearchCV(estimator = model, param_distributions = grid, n_iter = 10, cv = 10, verbose=2, random_state=2535, n_jobs = -1, scoring='neg_mean_squared_error')\n",
    "# Fit the random search model\n",
    "rf_random.fit(X_train, y_train)"
   ]
  },
  {
   "cell_type": "code",
   "execution_count": 20,
   "id": "ff44a492",
   "metadata": {},
   "outputs": [
    {
     "name": "stdout",
     "output_type": "stream",
     "text": [
      "Best: nan using {'n_estimators': 150, 'max_features': 'log2', 'max_depth': 10}\n",
      "nan (nan) with: {'n_estimators': 150, 'max_features': 'log2', 'max_depth': 10}\n",
      "nan (nan) with: {'n_estimators': 50, 'max_features': 'log2', 'max_depth': 100}\n",
      "nan (nan) with: {'n_estimators': 150, 'max_features': 'log2', 'max_depth': 100}\n",
      "nan (nan) with: {'n_estimators': 50, 'max_features': 'log2', 'max_depth': 5}\n",
      "nan (nan) with: {'n_estimators': 1000, 'max_features': 'sqrt', 'max_depth': 5}\n",
      "nan (nan) with: {'n_estimators': 25, 'max_features': 'log2', 'max_depth': 50}\n",
      "nan (nan) with: {'n_estimators': 10, 'max_features': 'log2', 'max_depth': 20}\n",
      "nan (nan) with: {'n_estimators': 1000, 'max_features': 'sqrt', 'max_depth': None}\n",
      "nan (nan) with: {'n_estimators': 1000, 'max_features': 'log2', 'max_depth': 100}\n",
      "nan (nan) with: {'n_estimators': 250, 'max_features': 'sqrt', 'max_depth': None}\n"
     ]
    }
   ],
   "source": [
    "# summarize results\n",
    "print(\"Best: %f using %s\" % (rf_random.best_score_, rf_random.best_params_))\n",
    "means = rf_random.cv_results_['mean_test_score']\n",
    "stds = rf_random.cv_results_['std_test_score']\n",
    "params = rf_random.cv_results_['params']\n",
    "for mean, stdev, param in zip(means, stds, params):\n",
    "    print(\"%f (%f) with: %r\" % (mean, stdev, param))\n",
    "    "
   ]
  },
  {
   "cell_type": "markdown",
   "id": "6bf6b04a",
   "metadata": {},
   "source": [
    "## Hyperparameter Search for XGB Classifier"
   ]
  },
  {
   "cell_type": "code",
   "execution_count": 39,
   "id": "66114a20",
   "metadata": {},
   "outputs": [],
   "source": [
    "# define models and parameters\n",
    "model = XGBClassifier(use_label_encoder=False)\n",
    "n_estimators = [10, 25, 50, 100, 150, 250, 1000]\n",
    "max_depth = [4, 6, 8, 10]\n",
    "eval_metric = ['logloss', 'auc', 'error']\n",
    "# define grid\n",
    "grid = {'n_estimators': n_estimators,\n",
    "               'max_depth': max_depth,\n",
    "               'eval_metric': eval_metric}"
   ]
  },
  {
   "cell_type": "markdown",
   "id": "c8a06396",
   "metadata": {},
   "source": [
    "### Grid Search"
   ]
  },
  {
   "cell_type": "code",
   "execution_count": 40,
   "id": "b3208855",
   "metadata": {},
   "outputs": [],
   "source": [
    "grid_search = GridSearchCV(estimator=model, param_grid=grid, n_jobs=-1, cv=10, scoring='accuracy', error_score=0)\n",
    "grid_result = grid_search.fit(X_train, y_train)"
   ]
  },
  {
   "cell_type": "code",
   "execution_count": 41,
   "id": "5a830ed8",
   "metadata": {},
   "outputs": [
    {
     "name": "stdout",
     "output_type": "stream",
     "text": [
      "Best: 0.904602 using {'eval_metric': 'logloss', 'max_depth': 4, 'n_estimators': 10}\n"
     ]
    }
   ],
   "source": [
    "# summarize results\n",
    "print(\"Best: %f using %s\" % (grid_result.best_score_, grid_result.best_params_))"
   ]
  },
  {
   "cell_type": "markdown",
   "id": "5d9538b8",
   "metadata": {},
   "source": [
    "The output shows the best hyperparameters and the accuracy result."
   ]
  },
  {
   "cell_type": "markdown",
   "id": "221e43e1",
   "metadata": {},
   "source": [
    "### Random Search"
   ]
  },
  {
   "cell_type": "code",
   "execution_count": 42,
   "id": "7fa38866",
   "metadata": {},
   "outputs": [
    {
     "name": "stdout",
     "output_type": "stream",
     "text": [
      "Fitting 10 folds for each of 10 candidates, totalling 100 fits\n"
     ]
    },
    {
     "data": {
      "text/plain": [
       "RandomizedSearchCV(cv=10,\n",
       "                   estimator=XGBClassifier(base_score=None, booster=None,\n",
       "                                           colsample_bylevel=None,\n",
       "                                           colsample_bynode=None,\n",
       "                                           colsample_bytree=None,\n",
       "                                           enable_categorical=False, gamma=None,\n",
       "                                           gpu_id=None, importance_type=None,\n",
       "                                           interaction_constraints=None,\n",
       "                                           learning_rate=None,\n",
       "                                           max_delta_step=None, max_depth=None,\n",
       "                                           min_child_weight=None, missing=nan,\n",
       "                                           monotone_constraint...\n",
       "                                           predictor=None, random_state=None,\n",
       "                                           reg_alpha=None, reg_lambda=None,\n",
       "                                           scale_pos_weight=None,\n",
       "                                           subsample=None, tree_method=None,\n",
       "                                           use_label_encoder=False,\n",
       "                                           validate_parameters=None,\n",
       "                                           verbosity=None),\n",
       "                   n_jobs=-1,\n",
       "                   param_distributions={'eval_metric': ['logloss', 'auc',\n",
       "                                                        'error'],\n",
       "                                        'max_depth': [4, 6, 8, 10],\n",
       "                                        'n_estimators': [10, 25, 50, 100, 150,\n",
       "                                                         250, 1000]},\n",
       "                   random_state=2535, scoring='accuracy', verbose=2)"
      ]
     },
     "execution_count": 42,
     "metadata": {},
     "output_type": "execute_result"
    }
   ],
   "source": [
    "rf_random = RandomizedSearchCV(estimator = model, param_distributions = grid, n_iter = 10, cv = 10, verbose=2, random_state=2535, n_jobs = -1, scoring='accuracy')\n",
    "# Fit the random search model\n",
    "rf_random.fit(X_train, y_train)"
   ]
  },
  {
   "cell_type": "code",
   "execution_count": 43,
   "id": "8ccbd7e5",
   "metadata": {},
   "outputs": [
    {
     "name": "stdout",
     "output_type": "stream",
     "text": [
      "Best: 0.902169 using {'n_estimators': 25, 'max_depth': 6, 'eval_metric': 'error'}\n"
     ]
    }
   ],
   "source": [
    "# summarize results\n",
    "print(\"Best: %f using %s\" % (rf_random.best_score_, rf_random.best_params_))"
   ]
  },
  {
   "cell_type": "markdown",
   "id": "c6708ecc",
   "metadata": {},
   "source": [
    "## Hyperparameter Search for Gradient Boosting Classifier"
   ]
  },
  {
   "cell_type": "code",
   "execution_count": 26,
   "id": "62005272",
   "metadata": {},
   "outputs": [],
   "source": [
    "# define models and parameters\n",
    "model = GradientBoostingClassifier()\n",
    "n_estimators = [10, 25, 50, 100, 150, 250, 1000]\n",
    "max_features = ['sqrt', 'log2']\n",
    "max_depth = [None, 5, 10, 20, 50, 100]\n",
    "# define grid\n",
    "grid = {'n_estimators': n_estimators,\n",
    "               'max_features': max_features,\n",
    "               'max_depth': max_depth}"
   ]
  },
  {
   "cell_type": "markdown",
   "id": "731ec2f0",
   "metadata": {},
   "source": [
    "### Grid Search"
   ]
  },
  {
   "cell_type": "code",
   "execution_count": 27,
   "id": "aacd99b1",
   "metadata": {},
   "outputs": [],
   "source": [
    "grid_search = GridSearchCV(estimator=model, param_grid=grid, n_jobs=-1, cv=10, scoring='accuracy', error_score=0)\n",
    "grid_result = grid_search.fit(X_train, y_train)"
   ]
  },
  {
   "cell_type": "code",
   "execution_count": 28,
   "id": "202bee65",
   "metadata": {},
   "outputs": [
    {
     "name": "stdout",
     "output_type": "stream",
     "text": [
      "Best: 0.902372 using {'max_depth': 50, 'max_features': 'sqrt', 'n_estimators': 250}\n"
     ]
    }
   ],
   "source": [
    "# summarize results\n",
    "print(\"Best: %f using %s\" % (grid_result.best_score_, grid_result.best_params_))"
   ]
  },
  {
   "cell_type": "markdown",
   "id": "9d39fba4",
   "metadata": {},
   "source": [
    "### Random Search"
   ]
  },
  {
   "cell_type": "code",
   "execution_count": 29,
   "id": "21fe81fc",
   "metadata": {},
   "outputs": [
    {
     "name": "stdout",
     "output_type": "stream",
     "text": [
      "Fitting 10 folds for each of 10 candidates, totalling 100 fits\n"
     ]
    },
    {
     "data": {
      "text/plain": [
       "RandomizedSearchCV(cv=10, estimator=GradientBoostingClassifier(), n_jobs=-1,\n",
       "                   param_distributions={'max_depth': [None, 5, 10, 20, 50, 100],\n",
       "                                        'max_features': ['sqrt', 'log2'],\n",
       "                                        'n_estimators': [10, 25, 50, 100, 150,\n",
       "                                                         250, 1000]},\n",
       "                   random_state=2535, scoring='accuracy', verbose=2)"
      ]
     },
     "execution_count": 29,
     "metadata": {},
     "output_type": "execute_result"
    }
   ],
   "source": [
    "rf_random = RandomizedSearchCV(estimator = model, param_distributions = grid, n_iter = 10, cv = 10, verbose=2, random_state=2535, n_jobs = -1, scoring='accuracy')\n",
    "# Fit the random search model\n",
    "rf_random.fit(X_train, y_train)"
   ]
  },
  {
   "cell_type": "code",
   "execution_count": 30,
   "id": "88513d0b",
   "metadata": {},
   "outputs": [
    {
     "name": "stdout",
     "output_type": "stream",
     "text": [
      "Best: 0.901865 using {'n_estimators': 150, 'max_features': 'log2', 'max_depth': 10}\n"
     ]
    }
   ],
   "source": [
    "# summarize results\n",
    "print(\"Best: %f using %s\" % (rf_random.best_score_, rf_random.best_params_))"
   ]
  },
  {
   "cell_type": "markdown",
   "id": "9d8e9258",
   "metadata": {},
   "source": [
    "## Hyperparameter Search for Bagging Classifier"
   ]
  },
  {
   "cell_type": "code",
   "execution_count": 44,
   "id": "8ad4e8a7",
   "metadata": {},
   "outputs": [],
   "source": [
    "# define models and parameters\n",
    "model = BaggingClassifier()\n",
    "n_estimators = [10, 25, 50, 100, 150, 250, 1000]\n",
    "max_features = [0.1, 0.3, 0.5, 0.7, 0.9]\n",
    "max_samples = [0.1, 0.3, 0.5, 0.7, 0.9]\n",
    "# define grid\n",
    "grid = {'n_estimators': n_estimators,\n",
    "               'max_features': max_features,\n",
    "               'max_samples': max_samples}"
   ]
  },
  {
   "cell_type": "markdown",
   "id": "e80b4c0a",
   "metadata": {},
   "source": [
    "### Grid Search"
   ]
  },
  {
   "cell_type": "code",
   "execution_count": 46,
   "id": "c78d1bc3",
   "metadata": {},
   "outputs": [],
   "source": [
    "grid_search = GridSearchCV(estimator=model, param_grid=grid, n_jobs=-1, cv=10, scoring='accuracy', error_score=0)\n",
    "grid_result = grid_search.fit(X_train, y_train)"
   ]
  },
  {
   "cell_type": "code",
   "execution_count": 47,
   "id": "029a1b8f",
   "metadata": {},
   "outputs": [
    {
     "name": "stdout",
     "output_type": "stream",
     "text": [
      "Best: 0.903791 using {'max_features': 0.9, 'max_samples': 0.3, 'n_estimators': 1000}\n"
     ]
    }
   ],
   "source": [
    "# summarize results\n",
    "print(\"Best: %f using %s\" % (grid_result.best_score_, grid_result.best_params_))"
   ]
  },
  {
   "cell_type": "markdown",
   "id": "82dd7a65",
   "metadata": {},
   "source": [
    "### Random Search"
   ]
  },
  {
   "cell_type": "code",
   "execution_count": 48,
   "id": "240cfb84",
   "metadata": {},
   "outputs": [
    {
     "name": "stdout",
     "output_type": "stream",
     "text": [
      "Fitting 10 folds for each of 10 candidates, totalling 100 fits\n"
     ]
    },
    {
     "data": {
      "text/plain": [
       "RandomizedSearchCV(cv=10, estimator=BaggingClassifier(), n_jobs=-1,\n",
       "                   param_distributions={'max_features': [0.1, 0.3, 0.5, 0.7,\n",
       "                                                         0.9],\n",
       "                                        'max_samples': [0.1, 0.3, 0.5, 0.7,\n",
       "                                                        0.9],\n",
       "                                        'n_estimators': [10, 25, 50, 100, 150,\n",
       "                                                         250, 1000]},\n",
       "                   random_state=2535, scoring='accuracy', verbose=2)"
      ]
     },
     "execution_count": 48,
     "metadata": {},
     "output_type": "execute_result"
    }
   ],
   "source": [
    "rf_random = RandomizedSearchCV(estimator = model, param_distributions = grid, n_iter = 10, cv = 10, verbose=2, random_state=2535, n_jobs = -1, scoring='accuracy')\n",
    "# Fit the random search model\n",
    "rf_random.fit(X_train, y_train)"
   ]
  },
  {
   "cell_type": "code",
   "execution_count": 49,
   "id": "c0657f5d",
   "metadata": {},
   "outputs": [
    {
     "name": "stdout",
     "output_type": "stream",
     "text": [
      "Best: 0.903284 using {'n_estimators': 25, 'max_samples': 0.3, 'max_features': 0.9}\n"
     ]
    }
   ],
   "source": [
    "# summarize results\n",
    "print(\"Best: %f using %s\" % (rf_random.best_score_, rf_random.best_params_))"
   ]
  },
  {
   "cell_type": "markdown",
   "id": "afcc7a53",
   "metadata": {},
   "source": [
    "## Best hyperparameters from GridSearch"
   ]
  },
  {
   "cell_type": "markdown",
   "id": "5aac2747",
   "metadata": {},
   "source": [
    "Random Forest: Best: 0.893106 using {'max_depth': 10, 'max_features': 'sqrt', 'n_estimators': 150}\n",
    "\n",
    "XGBClassifier: Best: 0.904602 using {'eval_metric': 'logloss', 'max_depth': 4, 'n_estimators': 10}\n",
    "\n",
    "Gradient Boosting: Best: 0.902372 using {'max_depth': 50, 'max_features': 'sqrt', 'n_estimators': 250}\n",
    "\n",
    "Bagging: Best: 0.903791 using {'max_features': 0.9, 'max_samples': 0.3, 'n_estimators': 1000}"
   ]
  },
  {
   "cell_type": "markdown",
   "id": "afcc7a53",
   "metadata": {},
   "source": [
    "## Best hyperparameters from RandomSearch"
   ]
  },
  {
   "cell_type": "markdown",
   "id": "5aac2747",
   "metadata": {},
   "source": [
    "Random Forest: Best: nan using {'n_estimators': 150, 'max_features': 'log2', 'max_depth': 10}\n",
    "\n",
    "XGBClassifier: Best: 0.902169 using {'n_estimators': 25, 'max_depth': 6, 'eval_metric': 'error'}\n",
    "\n",
    "Gradient Boosting: Best: 0.901865 using {'n_estimators': 150, 'max_features': 'log2', 'max_depth': 10}\n",
    "\n",
    "Bagging: Best: 0.903284 using {'n_estimators': 25, 'max_samples': 0.3, 'max_features': 0.9}"
   ]
  },
  {
   "cell_type": "markdown",
   "id": "17a1c296",
   "metadata": {},
   "source": [
    "## Plot accuracy boxplots with best hyperparametes from GridSearch"
   ]
  },
  {
   "cell_type": "markdown",
   "id": "6b6597fa",
   "metadata": {},
   "source": [
    "Create the function for test the GridSearch best models."
   ]
  },
  {
   "cell_type": "code",
   "execution_count": 50,
   "id": "d42b100b",
   "metadata": {},
   "outputs": [],
   "source": [
    "def grid_models():\n",
    "    models = dict()\n",
    "    models['RandomForest'] = RandomForestClassifier(max_depth= 10, max_features= 'sqrt', n_estimators= 150)\n",
    "    models['Bagging'] = BaggingClassifier(max_features= 0.9, max_samples= 0.3, n_estimators= 1000)\n",
    "    models['GradientBoosting'] = GradientBoostingClassifier(max_depth= 50, max_features= 'sqrt', n_estimators= 250)\n",
    "    models['XGBoost'] = XGBClassifier(eval_metric= 'logloss', max_depth= 4, n_estimators= 10)\n",
    "    return models\n"
   ]
  },
  {
   "cell_type": "markdown",
   "id": "5c6ac821",
   "metadata": {},
   "source": [
    "Print the evaluation of all the model."
   ]
  },
  {
   "cell_type": "code",
   "execution_count": 51,
   "id": "b2a5927a",
   "metadata": {},
   "outputs": [
    {
     "name": "stdout",
     "output_type": "stream",
     "text": [
      ">RandomForest 0.904 (0.008)\n",
      ">Bagging 0.904 (0.006)\n",
      ">GradientBoosting 0.902 (0.007)\n",
      ">XGBoost 0.903 (0.006)\n"
     ]
    }
   ],
   "source": [
    "# get the models to evaluate\n",
    "grid_model = grid_models()\n",
    "# evaluate the models and store results\n",
    "results, names = list(), list() \n",
    "\n",
    "for name, model in grid_model.items():\n",
    "  scores = eval_models(model)\n",
    "  results.append(scores)\n",
    "  names.append(name)\n",
    "  print('>%s %.3f (%.3f)' % (name, scores.mean(), scores.std()))"
   ]
  },
  {
   "cell_type": "markdown",
   "id": "db3089bb",
   "metadata": {},
   "source": [
    "Convert the reuslt of evaluation model into dataframe."
   ]
  },
  {
   "cell_type": "code",
   "execution_count": 52,
   "id": "83a6c170",
   "metadata": {},
   "outputs": [],
   "source": [
    "classificationmod = pd.DataFrame(np.transpose(results), columns = [\"RandomForest\",\"Bagging\",\"GradientBoosting\", \"XGBoost\"])\n",
    "classificationmod = pd.melt(classificationmod.reset_index(), id_vars='index',value_vars=[\"RandomForest\", \"Bagging\",\"GradientBoosting\",\"XGBoost\"])\n",
    "classificationmod.set_index('index', inplace=True)\n",
    "classificationmod.columns = ['Model', 'Score']"
   ]
  },
  {
   "cell_type": "markdown",
   "id": "16ecad9f",
   "metadata": {},
   "source": [
    "Generate a box plot to check the evaluation of each model."
   ]
  },
  {
   "cell_type": "code",
   "execution_count": 55,
   "id": "23c4e2f3",
   "metadata": {},
   "outputs": [
    {
     "data": {
      "application/vnd.plotly.v1+json": {
       "config": {
        "plotlyServerURL": "https://plotly.com"
       },
       "data": [
        {
         "alignmentgroup": "True",
         "boxpoints": "all",
         "hovertemplate": "Machine Learning Model=%{x}<br>Accuracy=%{y}<extra></extra>",
         "legendgroup": "RandomForest",
         "marker": {
          "color": "#636efa"
         },
         "name": "RandomForest",
         "notched": false,
         "offsetgroup": "RandomForest",
         "orientation": "v",
         "showlegend": true,
         "type": "box",
         "x": [
          "RandomForest",
          "RandomForest",
          "RandomForest",
          "RandomForest",
          "RandomForest",
          "RandomForest",
          "RandomForest",
          "RandomForest",
          "RandomForest",
          "RandomForest",
          "RandomForest",
          "RandomForest",
          "RandomForest",
          "RandomForest",
          "RandomForest",
          "RandomForest",
          "RandomForest",
          "RandomForest",
          "RandomForest",
          "RandomForest",
          "RandomForest",
          "RandomForest",
          "RandomForest",
          "RandomForest",
          "RandomForest",
          "RandomForest",
          "RandomForest",
          "RandomForest",
          "RandomForest",
          "RandomForest"
         ],
         "x0": " ",
         "xaxis": "x",
         "y": [
          0.9017223910840932,
          0.9138804457953394,
          0.8996960486322189,
          0.9067882472137792,
          0.9178498985801217,
          0.9046653144016227,
          0.896551724137931,
          0.9046653144016227,
          0.896551724137931,
          0.8955375253549696,
          0.9088145896656535,
          0.9078014184397163,
          0.894630192502533,
          0.9027355623100304,
          0.8955375253549696,
          0.8985801217038539,
          0.920892494929006,
          0.8975659229208925,
          0.9127789046653144,
          0.9056795131845842,
          0.9047619047619048,
          0.8976697061803445,
          0.889564336372847,
          0.8885511651469098,
          0.896551724137931,
          0.9066937119675457,
          0.9046653144016227,
          0.907707910750507,
          0.907707910750507,
          0.9198782961460447
         ],
         "y0": " ",
         "yaxis": "y"
        },
        {
         "alignmentgroup": "True",
         "boxpoints": "all",
         "hovertemplate": "Machine Learning Model=%{x}<br>Accuracy=%{y}<extra></extra>",
         "legendgroup": "Bagging",
         "marker": {
          "color": "#EF553B"
         },
         "name": "Bagging",
         "notched": false,
         "offsetgroup": "Bagging",
         "orientation": "v",
         "showlegend": true,
         "type": "box",
         "x": [
          "Bagging",
          "Bagging",
          "Bagging",
          "Bagging",
          "Bagging",
          "Bagging",
          "Bagging",
          "Bagging",
          "Bagging",
          "Bagging",
          "Bagging",
          "Bagging",
          "Bagging",
          "Bagging",
          "Bagging",
          "Bagging",
          "Bagging",
          "Bagging",
          "Bagging",
          "Bagging",
          "Bagging",
          "Bagging",
          "Bagging",
          "Bagging",
          "Bagging",
          "Bagging",
          "Bagging",
          "Bagging",
          "Bagging",
          "Bagging"
         ],
         "x0": " ",
         "xaxis": "x",
         "y": [
          0.9037487335359676,
          0.9108409321175278,
          0.9037487335359676,
          0.9088145896656535,
          0.90973630831643,
          0.9026369168356998,
          0.8995943204868154,
          0.9016227180527383,
          0.9016227180527383,
          0.896551724137931,
          0.9088145896656535,
          0.9108409321175278,
          0.8956433637284701,
          0.9027355623100304,
          0.8945233265720081,
          0.9036511156186613,
          0.9117647058823529,
          0.8945233265720081,
          0.9107505070993914,
          0.9046653144016227,
          0.9067882472137792,
          0.900709219858156,
          0.8885511651469098,
          0.8986828774062816,
          0.9006085192697769,
          0.9107505070993914,
          0.9066937119675457,
          0.9056795131845842,
          0.9026369168356998,
          0.9158215010141988
         ],
         "y0": " ",
         "yaxis": "y"
        },
        {
         "alignmentgroup": "True",
         "boxpoints": "all",
         "hovertemplate": "Machine Learning Model=%{x}<br>Accuracy=%{y}<extra></extra>",
         "legendgroup": "GradientBoosting",
         "marker": {
          "color": "#00cc96"
         },
         "name": "GradientBoosting",
         "notched": false,
         "offsetgroup": "GradientBoosting",
         "orientation": "v",
         "showlegend": true,
         "type": "box",
         "x": [
          "GradientBoosting",
          "GradientBoosting",
          "GradientBoosting",
          "GradientBoosting",
          "GradientBoosting",
          "GradientBoosting",
          "GradientBoosting",
          "GradientBoosting",
          "GradientBoosting",
          "GradientBoosting",
          "GradientBoosting",
          "GradientBoosting",
          "GradientBoosting",
          "GradientBoosting",
          "GradientBoosting",
          "GradientBoosting",
          "GradientBoosting",
          "GradientBoosting",
          "GradientBoosting",
          "GradientBoosting",
          "GradientBoosting",
          "GradientBoosting",
          "GradientBoosting",
          "GradientBoosting",
          "GradientBoosting",
          "GradientBoosting",
          "GradientBoosting",
          "GradientBoosting",
          "GradientBoosting",
          "GradientBoosting"
         ],
         "x0": " ",
         "xaxis": "x",
         "y": [
          0.8966565349544073,
          0.9017223910840932,
          0.8996960486322189,
          0.9067882472137792,
          0.9107505070993914,
          0.9066937119675457,
          0.8914807302231237,
          0.9016227180527383,
          0.9016227180527383,
          0.8935091277890467,
          0.9027355623100304,
          0.9098277608915907,
          0.8996960486322189,
          0.8966565349544073,
          0.8924949290060852,
          0.9016227180527383,
          0.9107505070993914,
          0.8924949290060852,
          0.90973630831643,
          0.9046653144016227,
          0.8966565349544073,
          0.8936170212765957,
          0.8915906788247214,
          0.8936170212765957,
          0.8995943204868154,
          0.9056795131845842,
          0.9087221095334685,
          0.9046653144016227,
          0.90973630831643,
          0.9148073022312373
         ],
         "y0": " ",
         "yaxis": "y"
        },
        {
         "alignmentgroup": "True",
         "boxpoints": "all",
         "hovertemplate": "Machine Learning Model=%{x}<br>Accuracy=%{y}<extra></extra>",
         "legendgroup": "XGBoost",
         "marker": {
          "color": "#ab63fa"
         },
         "name": "XGBoost",
         "notched": false,
         "offsetgroup": "XGBoost",
         "orientation": "v",
         "showlegend": true,
         "type": "box",
         "x": [
          "XGBoost",
          "XGBoost",
          "XGBoost",
          "XGBoost",
          "XGBoost",
          "XGBoost",
          "XGBoost",
          "XGBoost",
          "XGBoost",
          "XGBoost",
          "XGBoost",
          "XGBoost",
          "XGBoost",
          "XGBoost",
          "XGBoost",
          "XGBoost",
          "XGBoost",
          "XGBoost",
          "XGBoost",
          "XGBoost",
          "XGBoost",
          "XGBoost",
          "XGBoost",
          "XGBoost",
          "XGBoost",
          "XGBoost",
          "XGBoost",
          "XGBoost",
          "XGBoost",
          "XGBoost"
         ],
         "x0": " ",
         "xaxis": "x",
         "y": [
          0.900709219858156,
          0.9078014184397163,
          0.9037487335359676,
          0.9098277608915907,
          0.907707910750507,
          0.8995943204868154,
          0.8935091277890467,
          0.9087221095334685,
          0.8995943204868154,
          0.8995943204868154,
          0.9108409321175278,
          0.9108409321175278,
          0.8956433637284701,
          0.8986828774062816,
          0.8884381338742393,
          0.8985801217038539,
          0.9066937119675457,
          0.8975659229208925,
          0.9107505070993914,
          0.9056795131845842,
          0.8956433637284701,
          0.900709219858156,
          0.8915906788247214,
          0.8976697061803445,
          0.9036511156186613,
          0.9087221095334685,
          0.9056795131845842,
          0.9046653144016227,
          0.9117647058823529,
          0.9107505070993914
         ],
         "y0": " ",
         "yaxis": "y"
        }
       ],
       "layout": {
        "boxmode": "overlay",
        "legend": {
         "title": {
          "text": "Machine Learning Model"
         },
         "tracegroupgap": 0
        },
        "template": {
         "data": {
          "bar": [
           {
            "error_x": {
             "color": "#2a3f5f"
            },
            "error_y": {
             "color": "#2a3f5f"
            },
            "marker": {
             "line": {
              "color": "#E5ECF6",
              "width": 0.5
             },
             "pattern": {
              "fillmode": "overlay",
              "size": 10,
              "solidity": 0.2
             }
            },
            "type": "bar"
           }
          ],
          "barpolar": [
           {
            "marker": {
             "line": {
              "color": "#E5ECF6",
              "width": 0.5
             },
             "pattern": {
              "fillmode": "overlay",
              "size": 10,
              "solidity": 0.2
             }
            },
            "type": "barpolar"
           }
          ],
          "carpet": [
           {
            "aaxis": {
             "endlinecolor": "#2a3f5f",
             "gridcolor": "white",
             "linecolor": "white",
             "minorgridcolor": "white",
             "startlinecolor": "#2a3f5f"
            },
            "baxis": {
             "endlinecolor": "#2a3f5f",
             "gridcolor": "white",
             "linecolor": "white",
             "minorgridcolor": "white",
             "startlinecolor": "#2a3f5f"
            },
            "type": "carpet"
           }
          ],
          "choropleth": [
           {
            "colorbar": {
             "outlinewidth": 0,
             "ticks": ""
            },
            "type": "choropleth"
           }
          ],
          "contour": [
           {
            "colorbar": {
             "outlinewidth": 0,
             "ticks": ""
            },
            "colorscale": [
             [
              0,
              "#0d0887"
             ],
             [
              0.1111111111111111,
              "#46039f"
             ],
             [
              0.2222222222222222,
              "#7201a8"
             ],
             [
              0.3333333333333333,
              "#9c179e"
             ],
             [
              0.4444444444444444,
              "#bd3786"
             ],
             [
              0.5555555555555556,
              "#d8576b"
             ],
             [
              0.6666666666666666,
              "#ed7953"
             ],
             [
              0.7777777777777778,
              "#fb9f3a"
             ],
             [
              0.8888888888888888,
              "#fdca26"
             ],
             [
              1,
              "#f0f921"
             ]
            ],
            "type": "contour"
           }
          ],
          "contourcarpet": [
           {
            "colorbar": {
             "outlinewidth": 0,
             "ticks": ""
            },
            "type": "contourcarpet"
           }
          ],
          "heatmap": [
           {
            "colorbar": {
             "outlinewidth": 0,
             "ticks": ""
            },
            "colorscale": [
             [
              0,
              "#0d0887"
             ],
             [
              0.1111111111111111,
              "#46039f"
             ],
             [
              0.2222222222222222,
              "#7201a8"
             ],
             [
              0.3333333333333333,
              "#9c179e"
             ],
             [
              0.4444444444444444,
              "#bd3786"
             ],
             [
              0.5555555555555556,
              "#d8576b"
             ],
             [
              0.6666666666666666,
              "#ed7953"
             ],
             [
              0.7777777777777778,
              "#fb9f3a"
             ],
             [
              0.8888888888888888,
              "#fdca26"
             ],
             [
              1,
              "#f0f921"
             ]
            ],
            "type": "heatmap"
           }
          ],
          "heatmapgl": [
           {
            "colorbar": {
             "outlinewidth": 0,
             "ticks": ""
            },
            "colorscale": [
             [
              0,
              "#0d0887"
             ],
             [
              0.1111111111111111,
              "#46039f"
             ],
             [
              0.2222222222222222,
              "#7201a8"
             ],
             [
              0.3333333333333333,
              "#9c179e"
             ],
             [
              0.4444444444444444,
              "#bd3786"
             ],
             [
              0.5555555555555556,
              "#d8576b"
             ],
             [
              0.6666666666666666,
              "#ed7953"
             ],
             [
              0.7777777777777778,
              "#fb9f3a"
             ],
             [
              0.8888888888888888,
              "#fdca26"
             ],
             [
              1,
              "#f0f921"
             ]
            ],
            "type": "heatmapgl"
           }
          ],
          "histogram": [
           {
            "marker": {
             "pattern": {
              "fillmode": "overlay",
              "size": 10,
              "solidity": 0.2
             }
            },
            "type": "histogram"
           }
          ],
          "histogram2d": [
           {
            "colorbar": {
             "outlinewidth": 0,
             "ticks": ""
            },
            "colorscale": [
             [
              0,
              "#0d0887"
             ],
             [
              0.1111111111111111,
              "#46039f"
             ],
             [
              0.2222222222222222,
              "#7201a8"
             ],
             [
              0.3333333333333333,
              "#9c179e"
             ],
             [
              0.4444444444444444,
              "#bd3786"
             ],
             [
              0.5555555555555556,
              "#d8576b"
             ],
             [
              0.6666666666666666,
              "#ed7953"
             ],
             [
              0.7777777777777778,
              "#fb9f3a"
             ],
             [
              0.8888888888888888,
              "#fdca26"
             ],
             [
              1,
              "#f0f921"
             ]
            ],
            "type": "histogram2d"
           }
          ],
          "histogram2dcontour": [
           {
            "colorbar": {
             "outlinewidth": 0,
             "ticks": ""
            },
            "colorscale": [
             [
              0,
              "#0d0887"
             ],
             [
              0.1111111111111111,
              "#46039f"
             ],
             [
              0.2222222222222222,
              "#7201a8"
             ],
             [
              0.3333333333333333,
              "#9c179e"
             ],
             [
              0.4444444444444444,
              "#bd3786"
             ],
             [
              0.5555555555555556,
              "#d8576b"
             ],
             [
              0.6666666666666666,
              "#ed7953"
             ],
             [
              0.7777777777777778,
              "#fb9f3a"
             ],
             [
              0.8888888888888888,
              "#fdca26"
             ],
             [
              1,
              "#f0f921"
             ]
            ],
            "type": "histogram2dcontour"
           }
          ],
          "mesh3d": [
           {
            "colorbar": {
             "outlinewidth": 0,
             "ticks": ""
            },
            "type": "mesh3d"
           }
          ],
          "parcoords": [
           {
            "line": {
             "colorbar": {
              "outlinewidth": 0,
              "ticks": ""
             }
            },
            "type": "parcoords"
           }
          ],
          "pie": [
           {
            "automargin": true,
            "type": "pie"
           }
          ],
          "scatter": [
           {
            "marker": {
             "colorbar": {
              "outlinewidth": 0,
              "ticks": ""
             }
            },
            "type": "scatter"
           }
          ],
          "scatter3d": [
           {
            "line": {
             "colorbar": {
              "outlinewidth": 0,
              "ticks": ""
             }
            },
            "marker": {
             "colorbar": {
              "outlinewidth": 0,
              "ticks": ""
             }
            },
            "type": "scatter3d"
           }
          ],
          "scattercarpet": [
           {
            "marker": {
             "colorbar": {
              "outlinewidth": 0,
              "ticks": ""
             }
            },
            "type": "scattercarpet"
           }
          ],
          "scattergeo": [
           {
            "marker": {
             "colorbar": {
              "outlinewidth": 0,
              "ticks": ""
             }
            },
            "type": "scattergeo"
           }
          ],
          "scattergl": [
           {
            "marker": {
             "colorbar": {
              "outlinewidth": 0,
              "ticks": ""
             }
            },
            "type": "scattergl"
           }
          ],
          "scattermapbox": [
           {
            "marker": {
             "colorbar": {
              "outlinewidth": 0,
              "ticks": ""
             }
            },
            "type": "scattermapbox"
           }
          ],
          "scatterpolar": [
           {
            "marker": {
             "colorbar": {
              "outlinewidth": 0,
              "ticks": ""
             }
            },
            "type": "scatterpolar"
           }
          ],
          "scatterpolargl": [
           {
            "marker": {
             "colorbar": {
              "outlinewidth": 0,
              "ticks": ""
             }
            },
            "type": "scatterpolargl"
           }
          ],
          "scatterternary": [
           {
            "marker": {
             "colorbar": {
              "outlinewidth": 0,
              "ticks": ""
             }
            },
            "type": "scatterternary"
           }
          ],
          "surface": [
           {
            "colorbar": {
             "outlinewidth": 0,
             "ticks": ""
            },
            "colorscale": [
             [
              0,
              "#0d0887"
             ],
             [
              0.1111111111111111,
              "#46039f"
             ],
             [
              0.2222222222222222,
              "#7201a8"
             ],
             [
              0.3333333333333333,
              "#9c179e"
             ],
             [
              0.4444444444444444,
              "#bd3786"
             ],
             [
              0.5555555555555556,
              "#d8576b"
             ],
             [
              0.6666666666666666,
              "#ed7953"
             ],
             [
              0.7777777777777778,
              "#fb9f3a"
             ],
             [
              0.8888888888888888,
              "#fdca26"
             ],
             [
              1,
              "#f0f921"
             ]
            ],
            "type": "surface"
           }
          ],
          "table": [
           {
            "cells": {
             "fill": {
              "color": "#EBF0F8"
             },
             "line": {
              "color": "white"
             }
            },
            "header": {
             "fill": {
              "color": "#C8D4E3"
             },
             "line": {
              "color": "white"
             }
            },
            "type": "table"
           }
          ]
         },
         "layout": {
          "annotationdefaults": {
           "arrowcolor": "#2a3f5f",
           "arrowhead": 0,
           "arrowwidth": 1
          },
          "autotypenumbers": "strict",
          "coloraxis": {
           "colorbar": {
            "outlinewidth": 0,
            "ticks": ""
           }
          },
          "colorscale": {
           "diverging": [
            [
             0,
             "#8e0152"
            ],
            [
             0.1,
             "#c51b7d"
            ],
            [
             0.2,
             "#de77ae"
            ],
            [
             0.3,
             "#f1b6da"
            ],
            [
             0.4,
             "#fde0ef"
            ],
            [
             0.5,
             "#f7f7f7"
            ],
            [
             0.6,
             "#e6f5d0"
            ],
            [
             0.7,
             "#b8e186"
            ],
            [
             0.8,
             "#7fbc41"
            ],
            [
             0.9,
             "#4d9221"
            ],
            [
             1,
             "#276419"
            ]
           ],
           "sequential": [
            [
             0,
             "#0d0887"
            ],
            [
             0.1111111111111111,
             "#46039f"
            ],
            [
             0.2222222222222222,
             "#7201a8"
            ],
            [
             0.3333333333333333,
             "#9c179e"
            ],
            [
             0.4444444444444444,
             "#bd3786"
            ],
            [
             0.5555555555555556,
             "#d8576b"
            ],
            [
             0.6666666666666666,
             "#ed7953"
            ],
            [
             0.7777777777777778,
             "#fb9f3a"
            ],
            [
             0.8888888888888888,
             "#fdca26"
            ],
            [
             1,
             "#f0f921"
            ]
           ],
           "sequentialminus": [
            [
             0,
             "#0d0887"
            ],
            [
             0.1111111111111111,
             "#46039f"
            ],
            [
             0.2222222222222222,
             "#7201a8"
            ],
            [
             0.3333333333333333,
             "#9c179e"
            ],
            [
             0.4444444444444444,
             "#bd3786"
            ],
            [
             0.5555555555555556,
             "#d8576b"
            ],
            [
             0.6666666666666666,
             "#ed7953"
            ],
            [
             0.7777777777777778,
             "#fb9f3a"
            ],
            [
             0.8888888888888888,
             "#fdca26"
            ],
            [
             1,
             "#f0f921"
            ]
           ]
          },
          "colorway": [
           "#636efa",
           "#EF553B",
           "#00cc96",
           "#ab63fa",
           "#FFA15A",
           "#19d3f3",
           "#FF6692",
           "#B6E880",
           "#FF97FF",
           "#FECB52"
          ],
          "font": {
           "color": "#2a3f5f"
          },
          "geo": {
           "bgcolor": "white",
           "lakecolor": "white",
           "landcolor": "#E5ECF6",
           "showlakes": true,
           "showland": true,
           "subunitcolor": "white"
          },
          "hoverlabel": {
           "align": "left"
          },
          "hovermode": "closest",
          "mapbox": {
           "style": "light"
          },
          "paper_bgcolor": "white",
          "plot_bgcolor": "#E5ECF6",
          "polar": {
           "angularaxis": {
            "gridcolor": "white",
            "linecolor": "white",
            "ticks": ""
           },
           "bgcolor": "#E5ECF6",
           "radialaxis": {
            "gridcolor": "white",
            "linecolor": "white",
            "ticks": ""
           }
          },
          "scene": {
           "xaxis": {
            "backgroundcolor": "#E5ECF6",
            "gridcolor": "white",
            "gridwidth": 2,
            "linecolor": "white",
            "showbackground": true,
            "ticks": "",
            "zerolinecolor": "white"
           },
           "yaxis": {
            "backgroundcolor": "#E5ECF6",
            "gridcolor": "white",
            "gridwidth": 2,
            "linecolor": "white",
            "showbackground": true,
            "ticks": "",
            "zerolinecolor": "white"
           },
           "zaxis": {
            "backgroundcolor": "#E5ECF6",
            "gridcolor": "white",
            "gridwidth": 2,
            "linecolor": "white",
            "showbackground": true,
            "ticks": "",
            "zerolinecolor": "white"
           }
          },
          "shapedefaults": {
           "line": {
            "color": "#2a3f5f"
           }
          },
          "ternary": {
           "aaxis": {
            "gridcolor": "white",
            "linecolor": "white",
            "ticks": ""
           },
           "baxis": {
            "gridcolor": "white",
            "linecolor": "white",
            "ticks": ""
           },
           "bgcolor": "#E5ECF6",
           "caxis": {
            "gridcolor": "white",
            "linecolor": "white",
            "ticks": ""
           }
          },
          "title": {
           "x": 0.05
          },
          "xaxis": {
           "automargin": true,
           "gridcolor": "white",
           "linecolor": "white",
           "ticks": "",
           "title": {
            "standoff": 15
           },
           "zerolinecolor": "white",
           "zerolinewidth": 2
          },
          "yaxis": {
           "automargin": true,
           "gridcolor": "white",
           "linecolor": "white",
           "ticks": "",
           "title": {
            "standoff": 15
           },
           "zerolinecolor": "white",
           "zerolinewidth": 2
          }
         }
        },
        "title": {
         "text": "GridSearch models performance"
        },
        "xaxis": {
         "anchor": "y",
         "categoryarray": [
          "RandomForest",
          "Bagging",
          "GradientBoosting",
          "XGBoost"
         ],
         "categoryorder": "array",
         "domain": [
          0,
          1
         ],
         "title": {
          "text": "Machine Learning Model"
         }
        },
        "yaxis": {
         "anchor": "x",
         "domain": [
          0,
          1
         ],
         "title": {
          "text": "Accuracy"
         }
        }
       }
      }
     },
     "metadata": {},
     "output_type": "display_data"
    }
   ],
   "source": [
    "fig = px.box(classificationmod, x=\"Model\", y=\"Score\",color=\"Model\",points='all',\n",
    "labels={\"Model\": \"Machine Learning Model\",\n",
    "        \"Score\": \"Accuracy\"\n",
    "        },title=\"GridSearch models performance\")\n",
    "fig.show()\n",
    "#fig.write_image(\"Boxplot.jpeg\",engine=\"kaleido\",format=\"png\", width=1600, height=700, scale=0.75)"
   ]
  },
  {
   "cell_type": "markdown",
   "id": "17a1c296",
   "metadata": {},
   "source": [
    "## Plot accuracy boxplots with best hyperparametes from RandomSearch"
   ]
  },
  {
   "cell_type": "markdown",
   "id": "6b6597fa",
   "metadata": {},
   "source": [
    "Create the function for test the RandomSearch best models."
   ]
  },
  {
   "cell_type": "code",
   "execution_count": 56,
   "id": "d42b100b",
   "metadata": {},
   "outputs": [],
   "source": [
    "def rand_models():\n",
    "    models = dict()\n",
    "    models['RandomForest'] = RandomForestClassifier(max_depth= 10, max_features= 'log2', n_estimators= 150)\n",
    "    models['Bagging'] = BaggingClassifier(max_features= 0.9, max_samples= 0.3, n_estimators= 25)\n",
    "    models['GradientBoosting'] = GradientBoostingClassifier(max_depth= 10, max_features= 'log2', n_estimators= 150)\n",
    "    models['XGBoost'] = XGBClassifier(eval_metric= 'error', max_depth= 6, n_estimators= 25)\n",
    "    return models\n"
   ]
  },
  {
   "cell_type": "markdown",
   "id": "5c6ac821",
   "metadata": {},
   "source": [
    "Print the evaluation of all the model."
   ]
  },
  {
   "cell_type": "code",
   "execution_count": 57,
   "id": "b2a5927a",
   "metadata": {},
   "outputs": [
    {
     "name": "stdout",
     "output_type": "stream",
     "text": [
      ">RandomForest 0.903 (0.008)\n",
      ">Bagging 0.901 (0.008)\n",
      ">GradientBoosting 0.901 (0.008)\n",
      ">XGBoost 0.901 (0.006)\n"
     ]
    }
   ],
   "source": [
    "# get the models to evaluate\n",
    "rand_model = rand_models()\n",
    "# evaluate the models and store results\n",
    "results, names = list(), list() \n",
    "\n",
    "for name, model in rand_model.items():\n",
    "  scores = eval_models(model)\n",
    "  results.append(scores)\n",
    "  names.append(name)\n",
    "  print('>%s %.3f (%.3f)' % (name, scores.mean(), scores.std()))"
   ]
  },
  {
   "cell_type": "markdown",
   "id": "db3089bb",
   "metadata": {},
   "source": [
    "Convert the reuslt of evaluation model into dataframe."
   ]
  },
  {
   "cell_type": "code",
   "execution_count": 58,
   "id": "83a6c170",
   "metadata": {},
   "outputs": [],
   "source": [
    "classificationmod = pd.DataFrame(np.transpose(results), columns = [\"RandomForest\",\"Bagging\",\"GradientBoosting\", \"XGBoost\"])\n",
    "classificationmod = pd.melt(classificationmod.reset_index(), id_vars='index',value_vars=[\"RandomForest\", \"Bagging\",\"GradientBoosting\",\"XGBoost\"])\n",
    "classificationmod.set_index('index', inplace=True)\n",
    "classificationmod.columns = ['Model', 'Score']"
   ]
  },
  {
   "cell_type": "markdown",
   "id": "16ecad9f",
   "metadata": {},
   "source": [
    "Generate a box plot to check the evaluation of each model."
   ]
  },
  {
   "cell_type": "code",
   "execution_count": 59,
   "id": "23c4e2f3",
   "metadata": {},
   "outputs": [
    {
     "data": {
      "application/vnd.plotly.v1+json": {
       "config": {
        "plotlyServerURL": "https://plotly.com"
       },
       "data": [
        {
         "alignmentgroup": "True",
         "boxpoints": "all",
         "hovertemplate": "Machine Learning Model=%{x}<br>Accuracy=%{y}<extra></extra>",
         "legendgroup": "RandomForest",
         "marker": {
          "color": "#636efa"
         },
         "name": "RandomForest",
         "notched": false,
         "offsetgroup": "RandomForest",
         "orientation": "v",
         "showlegend": true,
         "type": "box",
         "x": [
          "RandomForest",
          "RandomForest",
          "RandomForest",
          "RandomForest",
          "RandomForest",
          "RandomForest",
          "RandomForest",
          "RandomForest",
          "RandomForest",
          "RandomForest",
          "RandomForest",
          "RandomForest",
          "RandomForest",
          "RandomForest",
          "RandomForest",
          "RandomForest",
          "RandomForest",
          "RandomForest",
          "RandomForest",
          "RandomForest",
          "RandomForest",
          "RandomForest",
          "RandomForest",
          "RandomForest",
          "RandomForest",
          "RandomForest",
          "RandomForest",
          "RandomForest",
          "RandomForest",
          "RandomForest"
         ],
         "x0": " ",
         "xaxis": "x",
         "y": [
          0.900709219858156,
          0.916919959473151,
          0.8986828774062816,
          0.9118541033434651,
          0.9127789046653144,
          0.896551724137931,
          0.8975659229208925,
          0.9036511156186613,
          0.8945233265720081,
          0.8985801217038539,
          0.9047619047619048,
          0.9118541033434651,
          0.8926038500506586,
          0.9047619047619048,
          0.8874239350912779,
          0.9006085192697769,
          0.90973630831643,
          0.8995943204868154,
          0.9137931034482759,
          0.9056795131845842,
          0.9047619047619048,
          0.9027355623100304,
          0.894630192502533,
          0.8956433637284701,
          0.8924949290060852,
          0.9117647058823529,
          0.9056795131845842,
          0.9066937119675457,
          0.9056795131845842,
          0.9178498985801217
         ],
         "y0": " ",
         "yaxis": "y"
        },
        {
         "alignmentgroup": "True",
         "boxpoints": "all",
         "hovertemplate": "Machine Learning Model=%{x}<br>Accuracy=%{y}<extra></extra>",
         "legendgroup": "Bagging",
         "marker": {
          "color": "#EF553B"
         },
         "name": "Bagging",
         "notched": false,
         "offsetgroup": "Bagging",
         "orientation": "v",
         "showlegend": true,
         "type": "box",
         "x": [
          "Bagging",
          "Bagging",
          "Bagging",
          "Bagging",
          "Bagging",
          "Bagging",
          "Bagging",
          "Bagging",
          "Bagging",
          "Bagging",
          "Bagging",
          "Bagging",
          "Bagging",
          "Bagging",
          "Bagging",
          "Bagging",
          "Bagging",
          "Bagging",
          "Bagging",
          "Bagging",
          "Bagging",
          "Bagging",
          "Bagging",
          "Bagging",
          "Bagging",
          "Bagging",
          "Bagging",
          "Bagging",
          "Bagging",
          "Bagging"
         ],
         "x0": " ",
         "xaxis": "x",
         "y": [
          0.8996960486322189,
          0.9118541033434651,
          0.9138804457953394,
          0.9088145896656535,
          0.8935091277890467,
          0.8975659229208925,
          0.8884381338742393,
          0.9117647058823529,
          0.9026369168356998,
          0.9026369168356998,
          0.9057750759878419,
          0.9057750759878419,
          0.9017223910840932,
          0.8885511651469098,
          0.8955375253549696,
          0.8985801217038539,
          0.9046653144016227,
          0.8975659229208925,
          0.9127789046653144,
          0.8843813387423936,
          0.8956433637284701,
          0.900709219858156,
          0.8855116514690983,
          0.8936170212765957,
          0.8955375253549696,
          0.9026369168356998,
          0.9016227180527383,
          0.907707910750507,
          0.9046653144016227,
          0.907707910750507
         ],
         "y0": " ",
         "yaxis": "y"
        },
        {
         "alignmentgroup": "True",
         "boxpoints": "all",
         "hovertemplate": "Machine Learning Model=%{x}<br>Accuracy=%{y}<extra></extra>",
         "legendgroup": "GradientBoosting",
         "marker": {
          "color": "#00cc96"
         },
         "name": "GradientBoosting",
         "notched": false,
         "offsetgroup": "GradientBoosting",
         "orientation": "v",
         "showlegend": true,
         "type": "box",
         "x": [
          "GradientBoosting",
          "GradientBoosting",
          "GradientBoosting",
          "GradientBoosting",
          "GradientBoosting",
          "GradientBoosting",
          "GradientBoosting",
          "GradientBoosting",
          "GradientBoosting",
          "GradientBoosting",
          "GradientBoosting",
          "GradientBoosting",
          "GradientBoosting",
          "GradientBoosting",
          "GradientBoosting",
          "GradientBoosting",
          "GradientBoosting",
          "GradientBoosting",
          "GradientBoosting",
          "GradientBoosting",
          "GradientBoosting",
          "GradientBoosting",
          "GradientBoosting",
          "GradientBoosting",
          "GradientBoosting",
          "GradientBoosting",
          "GradientBoosting",
          "GradientBoosting",
          "GradientBoosting",
          "GradientBoosting"
         ],
         "x0": " ",
         "xaxis": "x",
         "y": [
          0.9037487335359676,
          0.9067882472137792,
          0.8976697061803445,
          0.9067882472137792,
          0.9178498985801217,
          0.9016227180527383,
          0.8975659229208925,
          0.9046653144016227,
          0.8894523326572008,
          0.8955375253549696,
          0.9078014184397163,
          0.9067882472137792,
          0.8966565349544073,
          0.8986828774062816,
          0.8853955375253549,
          0.9006085192697769,
          0.9198782961460447,
          0.8904665314401623,
          0.9026369168356998,
          0.8995943204868154,
          0.8976697061803445,
          0.8936170212765957,
          0.889564336372847,
          0.8956433637284701,
          0.8985801217038539,
          0.9046653144016227,
          0.9066937119675457,
          0.9036511156186613,
          0.9066937119675457,
          0.9056795131845842
         ],
         "y0": " ",
         "yaxis": "y"
        },
        {
         "alignmentgroup": "True",
         "boxpoints": "all",
         "hovertemplate": "Machine Learning Model=%{x}<br>Accuracy=%{y}<extra></extra>",
         "legendgroup": "XGBoost",
         "marker": {
          "color": "#ab63fa"
         },
         "name": "XGBoost",
         "notched": false,
         "offsetgroup": "XGBoost",
         "orientation": "v",
         "showlegend": true,
         "type": "box",
         "x": [
          "XGBoost",
          "XGBoost",
          "XGBoost",
          "XGBoost",
          "XGBoost",
          "XGBoost",
          "XGBoost",
          "XGBoost",
          "XGBoost",
          "XGBoost",
          "XGBoost",
          "XGBoost",
          "XGBoost",
          "XGBoost",
          "XGBoost",
          "XGBoost",
          "XGBoost",
          "XGBoost",
          "XGBoost",
          "XGBoost",
          "XGBoost",
          "XGBoost",
          "XGBoost",
          "XGBoost",
          "XGBoost",
          "XGBoost",
          "XGBoost",
          "XGBoost",
          "XGBoost",
          "XGBoost"
         ],
         "x0": " ",
         "xaxis": "x",
         "y": [
          0.900709219858156,
          0.9027355623100304,
          0.8996960486322189,
          0.9037487335359676,
          0.9056795131845842,
          0.9026369168356998,
          0.8914807302231237,
          0.9148073022312373,
          0.8985801217038539,
          0.8975659229208925,
          0.9118541033434651,
          0.9088145896656535,
          0.8956433637284701,
          0.8956433637284701,
          0.8955375253549696,
          0.8995943204868154,
          0.9066937119675457,
          0.8924949290060852,
          0.9046653144016227,
          0.9016227180527383,
          0.9078014184397163,
          0.8956433637284701,
          0.8915906788247214,
          0.8926038500506586,
          0.8935091277890467,
          0.9026369168356998,
          0.9066937119675457,
          0.9036511156186613,
          0.9087221095334685,
          0.9016227180527383
         ],
         "y0": " ",
         "yaxis": "y"
        }
       ],
       "layout": {
        "boxmode": "overlay",
        "legend": {
         "title": {
          "text": "Machine Learning Model"
         },
         "tracegroupgap": 0
        },
        "template": {
         "data": {
          "bar": [
           {
            "error_x": {
             "color": "#2a3f5f"
            },
            "error_y": {
             "color": "#2a3f5f"
            },
            "marker": {
             "line": {
              "color": "#E5ECF6",
              "width": 0.5
             },
             "pattern": {
              "fillmode": "overlay",
              "size": 10,
              "solidity": 0.2
             }
            },
            "type": "bar"
           }
          ],
          "barpolar": [
           {
            "marker": {
             "line": {
              "color": "#E5ECF6",
              "width": 0.5
             },
             "pattern": {
              "fillmode": "overlay",
              "size": 10,
              "solidity": 0.2
             }
            },
            "type": "barpolar"
           }
          ],
          "carpet": [
           {
            "aaxis": {
             "endlinecolor": "#2a3f5f",
             "gridcolor": "white",
             "linecolor": "white",
             "minorgridcolor": "white",
             "startlinecolor": "#2a3f5f"
            },
            "baxis": {
             "endlinecolor": "#2a3f5f",
             "gridcolor": "white",
             "linecolor": "white",
             "minorgridcolor": "white",
             "startlinecolor": "#2a3f5f"
            },
            "type": "carpet"
           }
          ],
          "choropleth": [
           {
            "colorbar": {
             "outlinewidth": 0,
             "ticks": ""
            },
            "type": "choropleth"
           }
          ],
          "contour": [
           {
            "colorbar": {
             "outlinewidth": 0,
             "ticks": ""
            },
            "colorscale": [
             [
              0,
              "#0d0887"
             ],
             [
              0.1111111111111111,
              "#46039f"
             ],
             [
              0.2222222222222222,
              "#7201a8"
             ],
             [
              0.3333333333333333,
              "#9c179e"
             ],
             [
              0.4444444444444444,
              "#bd3786"
             ],
             [
              0.5555555555555556,
              "#d8576b"
             ],
             [
              0.6666666666666666,
              "#ed7953"
             ],
             [
              0.7777777777777778,
              "#fb9f3a"
             ],
             [
              0.8888888888888888,
              "#fdca26"
             ],
             [
              1,
              "#f0f921"
             ]
            ],
            "type": "contour"
           }
          ],
          "contourcarpet": [
           {
            "colorbar": {
             "outlinewidth": 0,
             "ticks": ""
            },
            "type": "contourcarpet"
           }
          ],
          "heatmap": [
           {
            "colorbar": {
             "outlinewidth": 0,
             "ticks": ""
            },
            "colorscale": [
             [
              0,
              "#0d0887"
             ],
             [
              0.1111111111111111,
              "#46039f"
             ],
             [
              0.2222222222222222,
              "#7201a8"
             ],
             [
              0.3333333333333333,
              "#9c179e"
             ],
             [
              0.4444444444444444,
              "#bd3786"
             ],
             [
              0.5555555555555556,
              "#d8576b"
             ],
             [
              0.6666666666666666,
              "#ed7953"
             ],
             [
              0.7777777777777778,
              "#fb9f3a"
             ],
             [
              0.8888888888888888,
              "#fdca26"
             ],
             [
              1,
              "#f0f921"
             ]
            ],
            "type": "heatmap"
           }
          ],
          "heatmapgl": [
           {
            "colorbar": {
             "outlinewidth": 0,
             "ticks": ""
            },
            "colorscale": [
             [
              0,
              "#0d0887"
             ],
             [
              0.1111111111111111,
              "#46039f"
             ],
             [
              0.2222222222222222,
              "#7201a8"
             ],
             [
              0.3333333333333333,
              "#9c179e"
             ],
             [
              0.4444444444444444,
              "#bd3786"
             ],
             [
              0.5555555555555556,
              "#d8576b"
             ],
             [
              0.6666666666666666,
              "#ed7953"
             ],
             [
              0.7777777777777778,
              "#fb9f3a"
             ],
             [
              0.8888888888888888,
              "#fdca26"
             ],
             [
              1,
              "#f0f921"
             ]
            ],
            "type": "heatmapgl"
           }
          ],
          "histogram": [
           {
            "marker": {
             "pattern": {
              "fillmode": "overlay",
              "size": 10,
              "solidity": 0.2
             }
            },
            "type": "histogram"
           }
          ],
          "histogram2d": [
           {
            "colorbar": {
             "outlinewidth": 0,
             "ticks": ""
            },
            "colorscale": [
             [
              0,
              "#0d0887"
             ],
             [
              0.1111111111111111,
              "#46039f"
             ],
             [
              0.2222222222222222,
              "#7201a8"
             ],
             [
              0.3333333333333333,
              "#9c179e"
             ],
             [
              0.4444444444444444,
              "#bd3786"
             ],
             [
              0.5555555555555556,
              "#d8576b"
             ],
             [
              0.6666666666666666,
              "#ed7953"
             ],
             [
              0.7777777777777778,
              "#fb9f3a"
             ],
             [
              0.8888888888888888,
              "#fdca26"
             ],
             [
              1,
              "#f0f921"
             ]
            ],
            "type": "histogram2d"
           }
          ],
          "histogram2dcontour": [
           {
            "colorbar": {
             "outlinewidth": 0,
             "ticks": ""
            },
            "colorscale": [
             [
              0,
              "#0d0887"
             ],
             [
              0.1111111111111111,
              "#46039f"
             ],
             [
              0.2222222222222222,
              "#7201a8"
             ],
             [
              0.3333333333333333,
              "#9c179e"
             ],
             [
              0.4444444444444444,
              "#bd3786"
             ],
             [
              0.5555555555555556,
              "#d8576b"
             ],
             [
              0.6666666666666666,
              "#ed7953"
             ],
             [
              0.7777777777777778,
              "#fb9f3a"
             ],
             [
              0.8888888888888888,
              "#fdca26"
             ],
             [
              1,
              "#f0f921"
             ]
            ],
            "type": "histogram2dcontour"
           }
          ],
          "mesh3d": [
           {
            "colorbar": {
             "outlinewidth": 0,
             "ticks": ""
            },
            "type": "mesh3d"
           }
          ],
          "parcoords": [
           {
            "line": {
             "colorbar": {
              "outlinewidth": 0,
              "ticks": ""
             }
            },
            "type": "parcoords"
           }
          ],
          "pie": [
           {
            "automargin": true,
            "type": "pie"
           }
          ],
          "scatter": [
           {
            "marker": {
             "colorbar": {
              "outlinewidth": 0,
              "ticks": ""
             }
            },
            "type": "scatter"
           }
          ],
          "scatter3d": [
           {
            "line": {
             "colorbar": {
              "outlinewidth": 0,
              "ticks": ""
             }
            },
            "marker": {
             "colorbar": {
              "outlinewidth": 0,
              "ticks": ""
             }
            },
            "type": "scatter3d"
           }
          ],
          "scattercarpet": [
           {
            "marker": {
             "colorbar": {
              "outlinewidth": 0,
              "ticks": ""
             }
            },
            "type": "scattercarpet"
           }
          ],
          "scattergeo": [
           {
            "marker": {
             "colorbar": {
              "outlinewidth": 0,
              "ticks": ""
             }
            },
            "type": "scattergeo"
           }
          ],
          "scattergl": [
           {
            "marker": {
             "colorbar": {
              "outlinewidth": 0,
              "ticks": ""
             }
            },
            "type": "scattergl"
           }
          ],
          "scattermapbox": [
           {
            "marker": {
             "colorbar": {
              "outlinewidth": 0,
              "ticks": ""
             }
            },
            "type": "scattermapbox"
           }
          ],
          "scatterpolar": [
           {
            "marker": {
             "colorbar": {
              "outlinewidth": 0,
              "ticks": ""
             }
            },
            "type": "scatterpolar"
           }
          ],
          "scatterpolargl": [
           {
            "marker": {
             "colorbar": {
              "outlinewidth": 0,
              "ticks": ""
             }
            },
            "type": "scatterpolargl"
           }
          ],
          "scatterternary": [
           {
            "marker": {
             "colorbar": {
              "outlinewidth": 0,
              "ticks": ""
             }
            },
            "type": "scatterternary"
           }
          ],
          "surface": [
           {
            "colorbar": {
             "outlinewidth": 0,
             "ticks": ""
            },
            "colorscale": [
             [
              0,
              "#0d0887"
             ],
             [
              0.1111111111111111,
              "#46039f"
             ],
             [
              0.2222222222222222,
              "#7201a8"
             ],
             [
              0.3333333333333333,
              "#9c179e"
             ],
             [
              0.4444444444444444,
              "#bd3786"
             ],
             [
              0.5555555555555556,
              "#d8576b"
             ],
             [
              0.6666666666666666,
              "#ed7953"
             ],
             [
              0.7777777777777778,
              "#fb9f3a"
             ],
             [
              0.8888888888888888,
              "#fdca26"
             ],
             [
              1,
              "#f0f921"
             ]
            ],
            "type": "surface"
           }
          ],
          "table": [
           {
            "cells": {
             "fill": {
              "color": "#EBF0F8"
             },
             "line": {
              "color": "white"
             }
            },
            "header": {
             "fill": {
              "color": "#C8D4E3"
             },
             "line": {
              "color": "white"
             }
            },
            "type": "table"
           }
          ]
         },
         "layout": {
          "annotationdefaults": {
           "arrowcolor": "#2a3f5f",
           "arrowhead": 0,
           "arrowwidth": 1
          },
          "autotypenumbers": "strict",
          "coloraxis": {
           "colorbar": {
            "outlinewidth": 0,
            "ticks": ""
           }
          },
          "colorscale": {
           "diverging": [
            [
             0,
             "#8e0152"
            ],
            [
             0.1,
             "#c51b7d"
            ],
            [
             0.2,
             "#de77ae"
            ],
            [
             0.3,
             "#f1b6da"
            ],
            [
             0.4,
             "#fde0ef"
            ],
            [
             0.5,
             "#f7f7f7"
            ],
            [
             0.6,
             "#e6f5d0"
            ],
            [
             0.7,
             "#b8e186"
            ],
            [
             0.8,
             "#7fbc41"
            ],
            [
             0.9,
             "#4d9221"
            ],
            [
             1,
             "#276419"
            ]
           ],
           "sequential": [
            [
             0,
             "#0d0887"
            ],
            [
             0.1111111111111111,
             "#46039f"
            ],
            [
             0.2222222222222222,
             "#7201a8"
            ],
            [
             0.3333333333333333,
             "#9c179e"
            ],
            [
             0.4444444444444444,
             "#bd3786"
            ],
            [
             0.5555555555555556,
             "#d8576b"
            ],
            [
             0.6666666666666666,
             "#ed7953"
            ],
            [
             0.7777777777777778,
             "#fb9f3a"
            ],
            [
             0.8888888888888888,
             "#fdca26"
            ],
            [
             1,
             "#f0f921"
            ]
           ],
           "sequentialminus": [
            [
             0,
             "#0d0887"
            ],
            [
             0.1111111111111111,
             "#46039f"
            ],
            [
             0.2222222222222222,
             "#7201a8"
            ],
            [
             0.3333333333333333,
             "#9c179e"
            ],
            [
             0.4444444444444444,
             "#bd3786"
            ],
            [
             0.5555555555555556,
             "#d8576b"
            ],
            [
             0.6666666666666666,
             "#ed7953"
            ],
            [
             0.7777777777777778,
             "#fb9f3a"
            ],
            [
             0.8888888888888888,
             "#fdca26"
            ],
            [
             1,
             "#f0f921"
            ]
           ]
          },
          "colorway": [
           "#636efa",
           "#EF553B",
           "#00cc96",
           "#ab63fa",
           "#FFA15A",
           "#19d3f3",
           "#FF6692",
           "#B6E880",
           "#FF97FF",
           "#FECB52"
          ],
          "font": {
           "color": "#2a3f5f"
          },
          "geo": {
           "bgcolor": "white",
           "lakecolor": "white",
           "landcolor": "#E5ECF6",
           "showlakes": true,
           "showland": true,
           "subunitcolor": "white"
          },
          "hoverlabel": {
           "align": "left"
          },
          "hovermode": "closest",
          "mapbox": {
           "style": "light"
          },
          "paper_bgcolor": "white",
          "plot_bgcolor": "#E5ECF6",
          "polar": {
           "angularaxis": {
            "gridcolor": "white",
            "linecolor": "white",
            "ticks": ""
           },
           "bgcolor": "#E5ECF6",
           "radialaxis": {
            "gridcolor": "white",
            "linecolor": "white",
            "ticks": ""
           }
          },
          "scene": {
           "xaxis": {
            "backgroundcolor": "#E5ECF6",
            "gridcolor": "white",
            "gridwidth": 2,
            "linecolor": "white",
            "showbackground": true,
            "ticks": "",
            "zerolinecolor": "white"
           },
           "yaxis": {
            "backgroundcolor": "#E5ECF6",
            "gridcolor": "white",
            "gridwidth": 2,
            "linecolor": "white",
            "showbackground": true,
            "ticks": "",
            "zerolinecolor": "white"
           },
           "zaxis": {
            "backgroundcolor": "#E5ECF6",
            "gridcolor": "white",
            "gridwidth": 2,
            "linecolor": "white",
            "showbackground": true,
            "ticks": "",
            "zerolinecolor": "white"
           }
          },
          "shapedefaults": {
           "line": {
            "color": "#2a3f5f"
           }
          },
          "ternary": {
           "aaxis": {
            "gridcolor": "white",
            "linecolor": "white",
            "ticks": ""
           },
           "baxis": {
            "gridcolor": "white",
            "linecolor": "white",
            "ticks": ""
           },
           "bgcolor": "#E5ECF6",
           "caxis": {
            "gridcolor": "white",
            "linecolor": "white",
            "ticks": ""
           }
          },
          "title": {
           "x": 0.05
          },
          "xaxis": {
           "automargin": true,
           "gridcolor": "white",
           "linecolor": "white",
           "ticks": "",
           "title": {
            "standoff": 15
           },
           "zerolinecolor": "white",
           "zerolinewidth": 2
          },
          "yaxis": {
           "automargin": true,
           "gridcolor": "white",
           "linecolor": "white",
           "ticks": "",
           "title": {
            "standoff": 15
           },
           "zerolinecolor": "white",
           "zerolinewidth": 2
          }
         }
        },
        "title": {
         "text": "RandomSearch models performance"
        },
        "xaxis": {
         "anchor": "y",
         "categoryarray": [
          "RandomForest",
          "Bagging",
          "GradientBoosting",
          "XGBoost"
         ],
         "categoryorder": "array",
         "domain": [
          0,
          1
         ],
         "title": {
          "text": "Machine Learning Model"
         }
        },
        "yaxis": {
         "anchor": "x",
         "domain": [
          0,
          1
         ],
         "title": {
          "text": "Accuracy"
         }
        }
       }
      }
     },
     "metadata": {},
     "output_type": "display_data"
    }
   ],
   "source": [
    "fig = px.box(classificationmod, x=\"Model\", y=\"Score\",color=\"Model\",points='all',\n",
    "labels={\"Model\": \"Machine Learning Model\",\n",
    "        \"Score\": \"Accuracy\"\n",
    "        },title=\"RandomSearch models performance\")\n",
    "fig.show()\n",
    "#fig.write_image(\"Boxplot.jpeg\",engine=\"kaleido\",format=\"png\", width=1600, height=700, scale=0.75)"
   ]
  }
 ],
 "metadata": {
  "kernelspec": {
   "display_name": "Python 3",
   "language": "python",
   "name": "python3"
  },
  "language_info": {
   "codemirror_mode": {
    "name": "ipython",
    "version": 3
   },
   "file_extension": ".py",
   "mimetype": "text/x-python",
   "name": "python",
   "nbconvert_exporter": "python",
   "pygments_lexer": "ipython3",
   "version": "3.8.8"
  }
 },
 "nbformat": 4,
 "nbformat_minor": 5
}
