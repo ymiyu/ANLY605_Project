{
 "cells": [
  {
   "cell_type": "markdown",
   "id": "b2fc344f-4569-4a5a-affb-2a2bfcf3789c",
   "metadata": {
    "id": "C-wZ7CG-DiKQ"
   },
   "source": [
    "# Assignment 4"
   ]
  },
  {
   "cell_type": "markdown",
   "id": "d0005c5c-9f5c-48aa-b307-cd7e856add3e",
   "metadata": {},
   "source": [
    "#### Group3 - Lin Meng - lm1398\n",
    "#### Group3 - Pedro Barbosa - pvb16\n",
    "#### Group3 - Yiming Yu - yy628"
   ]
  },
  {
   "cell_type": "markdown",
   "id": "5538b50a-7308-420c-9a99-0fd9904a12d5",
   "metadata": {
    "id": "SAS8Ge2kfEsW"
   },
   "source": [
    "<hr>"
   ]
  },
  {
   "cell_type": "markdown",
   "id": "3ca0e859-4ac0-44d0-8170-ed4b5dcc4a72",
   "metadata": {},
   "source": [
    "## Loading packages"
   ]
  },
  {
   "cell_type": "code",
   "execution_count": 14,
   "id": "d8c5bac0-b7b6-4e17-907e-e5a15ed3734f",
   "metadata": {},
   "outputs": [],
   "source": [
    "import pandas as pd\n",
    "import numpy as np\n",
    "import matplotlib.pyplot as plt\n",
    "import seaborn as sns\n",
    "import plotly.express as px\n",
    "from plotly.subplots import make_subplots\n",
    "import plotly.graph_objs as go\n",
    "import warnings\n",
    "warnings.filterwarnings('ignore')"
   ]
  },
  {
   "cell_type": "markdown",
   "id": "499704ea-e6b3-4706-be95-441f57d43ab0",
   "metadata": {},
   "source": [
    "### Loading data"
   ]
  },
  {
   "cell_type": "markdown",
   "id": "984d3be5",
   "metadata": {},
   "source": [
    "Show the first 5 lines of data to get an idea how the dataset looks like. This is a classification dataset, the response variable is \"Revenue\""
   ]
  },
  {
   "cell_type": "code",
   "execution_count": 15,
   "id": "b0c8029e-1fe9-424e-93c3-e9a6892adfdc",
   "metadata": {},
   "outputs": [
    {
     "data": {
      "text/html": [
       "<div>\n",
       "<style scoped>\n",
       "    .dataframe tbody tr th:only-of-type {\n",
       "        vertical-align: middle;\n",
       "    }\n",
       "\n",
       "    .dataframe tbody tr th {\n",
       "        vertical-align: top;\n",
       "    }\n",
       "\n",
       "    .dataframe thead th {\n",
       "        text-align: right;\n",
       "    }\n",
       "</style>\n",
       "<table border=\"1\" class=\"dataframe\">\n",
       "  <thead>\n",
       "    <tr style=\"text-align: right;\">\n",
       "      <th></th>\n",
       "      <th>Administrative</th>\n",
       "      <th>Administrative_Duration</th>\n",
       "      <th>Informational</th>\n",
       "      <th>Informational_Duration</th>\n",
       "      <th>ProductRelated</th>\n",
       "      <th>ProductRelated_Duration</th>\n",
       "      <th>BounceRates</th>\n",
       "      <th>ExitRates</th>\n",
       "      <th>PageValues</th>\n",
       "      <th>SpecialDay</th>\n",
       "      <th>Month</th>\n",
       "      <th>OperatingSystems</th>\n",
       "      <th>Browser</th>\n",
       "      <th>Region</th>\n",
       "      <th>TrafficType</th>\n",
       "      <th>VisitorType</th>\n",
       "      <th>Weekend</th>\n",
       "      <th>Revenue</th>\n",
       "    </tr>\n",
       "  </thead>\n",
       "  <tbody>\n",
       "    <tr>\n",
       "      <th>0</th>\n",
       "      <td>0</td>\n",
       "      <td>0.0</td>\n",
       "      <td>0</td>\n",
       "      <td>0.0</td>\n",
       "      <td>1</td>\n",
       "      <td>0.000000</td>\n",
       "      <td>0.20</td>\n",
       "      <td>0.20</td>\n",
       "      <td>0.0</td>\n",
       "      <td>0.0</td>\n",
       "      <td>Feb</td>\n",
       "      <td>1</td>\n",
       "      <td>1</td>\n",
       "      <td>1</td>\n",
       "      <td>1</td>\n",
       "      <td>Returning_Visitor</td>\n",
       "      <td>False</td>\n",
       "      <td>False</td>\n",
       "    </tr>\n",
       "    <tr>\n",
       "      <th>1</th>\n",
       "      <td>0</td>\n",
       "      <td>0.0</td>\n",
       "      <td>0</td>\n",
       "      <td>0.0</td>\n",
       "      <td>2</td>\n",
       "      <td>64.000000</td>\n",
       "      <td>0.00</td>\n",
       "      <td>0.10</td>\n",
       "      <td>0.0</td>\n",
       "      <td>0.0</td>\n",
       "      <td>Feb</td>\n",
       "      <td>2</td>\n",
       "      <td>2</td>\n",
       "      <td>1</td>\n",
       "      <td>2</td>\n",
       "      <td>Returning_Visitor</td>\n",
       "      <td>False</td>\n",
       "      <td>False</td>\n",
       "    </tr>\n",
       "    <tr>\n",
       "      <th>2</th>\n",
       "      <td>0</td>\n",
       "      <td>0.0</td>\n",
       "      <td>0</td>\n",
       "      <td>0.0</td>\n",
       "      <td>1</td>\n",
       "      <td>0.000000</td>\n",
       "      <td>0.20</td>\n",
       "      <td>0.20</td>\n",
       "      <td>0.0</td>\n",
       "      <td>0.0</td>\n",
       "      <td>Feb</td>\n",
       "      <td>4</td>\n",
       "      <td>1</td>\n",
       "      <td>9</td>\n",
       "      <td>3</td>\n",
       "      <td>Returning_Visitor</td>\n",
       "      <td>False</td>\n",
       "      <td>False</td>\n",
       "    </tr>\n",
       "    <tr>\n",
       "      <th>3</th>\n",
       "      <td>0</td>\n",
       "      <td>0.0</td>\n",
       "      <td>0</td>\n",
       "      <td>0.0</td>\n",
       "      <td>2</td>\n",
       "      <td>2.666667</td>\n",
       "      <td>0.05</td>\n",
       "      <td>0.14</td>\n",
       "      <td>0.0</td>\n",
       "      <td>0.0</td>\n",
       "      <td>Feb</td>\n",
       "      <td>3</td>\n",
       "      <td>2</td>\n",
       "      <td>2</td>\n",
       "      <td>4</td>\n",
       "      <td>Returning_Visitor</td>\n",
       "      <td>False</td>\n",
       "      <td>False</td>\n",
       "    </tr>\n",
       "    <tr>\n",
       "      <th>4</th>\n",
       "      <td>0</td>\n",
       "      <td>0.0</td>\n",
       "      <td>0</td>\n",
       "      <td>0.0</td>\n",
       "      <td>10</td>\n",
       "      <td>627.500000</td>\n",
       "      <td>0.02</td>\n",
       "      <td>0.05</td>\n",
       "      <td>0.0</td>\n",
       "      <td>0.0</td>\n",
       "      <td>Feb</td>\n",
       "      <td>3</td>\n",
       "      <td>3</td>\n",
       "      <td>1</td>\n",
       "      <td>4</td>\n",
       "      <td>Returning_Visitor</td>\n",
       "      <td>True</td>\n",
       "      <td>False</td>\n",
       "    </tr>\n",
       "  </tbody>\n",
       "</table>\n",
       "</div>"
      ],
      "text/plain": [
       "   Administrative  Administrative_Duration  Informational  \\\n",
       "0               0                      0.0              0   \n",
       "1               0                      0.0              0   \n",
       "2               0                      0.0              0   \n",
       "3               0                      0.0              0   \n",
       "4               0                      0.0              0   \n",
       "\n",
       "   Informational_Duration  ProductRelated  ProductRelated_Duration  \\\n",
       "0                     0.0               1                 0.000000   \n",
       "1                     0.0               2                64.000000   \n",
       "2                     0.0               1                 0.000000   \n",
       "3                     0.0               2                 2.666667   \n",
       "4                     0.0              10               627.500000   \n",
       "\n",
       "   BounceRates  ExitRates  PageValues  SpecialDay Month  OperatingSystems  \\\n",
       "0         0.20       0.20         0.0         0.0   Feb                 1   \n",
       "1         0.00       0.10         0.0         0.0   Feb                 2   \n",
       "2         0.20       0.20         0.0         0.0   Feb                 4   \n",
       "3         0.05       0.14         0.0         0.0   Feb                 3   \n",
       "4         0.02       0.05         0.0         0.0   Feb                 3   \n",
       "\n",
       "   Browser  Region  TrafficType        VisitorType  Weekend  Revenue  \n",
       "0        1       1            1  Returning_Visitor    False    False  \n",
       "1        2       1            2  Returning_Visitor    False    False  \n",
       "2        1       9            3  Returning_Visitor    False    False  \n",
       "3        2       2            4  Returning_Visitor    False    False  \n",
       "4        3       1            4  Returning_Visitor     True    False  "
      ]
     },
     "execution_count": 15,
     "metadata": {},
     "output_type": "execute_result"
    }
   ],
   "source": [
    "df = pd.read_csv(\"online_shoppers_intention.csv\")\n",
    "df.head()"
   ]
  },
  {
   "cell_type": "markdown",
   "id": "f885b5df",
   "metadata": {},
   "source": [
    "Use describe function to show the statistical summary like mean, standard deviation, min, and max of each variable in the dataset."
   ]
  },
  {
   "cell_type": "code",
   "execution_count": 16,
   "id": "c4da1a95-a735-4713-85a4-b3dbc975c5d1",
   "metadata": {},
   "outputs": [
    {
     "data": {
      "text/html": [
       "<div>\n",
       "<style scoped>\n",
       "    .dataframe tbody tr th:only-of-type {\n",
       "        vertical-align: middle;\n",
       "    }\n",
       "\n",
       "    .dataframe tbody tr th {\n",
       "        vertical-align: top;\n",
       "    }\n",
       "\n",
       "    .dataframe thead th {\n",
       "        text-align: right;\n",
       "    }\n",
       "</style>\n",
       "<table border=\"1\" class=\"dataframe\">\n",
       "  <thead>\n",
       "    <tr style=\"text-align: right;\">\n",
       "      <th></th>\n",
       "      <th>Administrative</th>\n",
       "      <th>Administrative_Duration</th>\n",
       "      <th>Informational</th>\n",
       "      <th>Informational_Duration</th>\n",
       "      <th>ProductRelated</th>\n",
       "      <th>ProductRelated_Duration</th>\n",
       "      <th>BounceRates</th>\n",
       "      <th>ExitRates</th>\n",
       "      <th>PageValues</th>\n",
       "      <th>SpecialDay</th>\n",
       "      <th>OperatingSystems</th>\n",
       "      <th>Browser</th>\n",
       "      <th>Region</th>\n",
       "      <th>TrafficType</th>\n",
       "    </tr>\n",
       "  </thead>\n",
       "  <tbody>\n",
       "    <tr>\n",
       "      <th>count</th>\n",
       "      <td>12330.000000</td>\n",
       "      <td>12330.000000</td>\n",
       "      <td>12330.000000</td>\n",
       "      <td>12330.000000</td>\n",
       "      <td>12330.000000</td>\n",
       "      <td>12330.000000</td>\n",
       "      <td>12330.000000</td>\n",
       "      <td>12330.000000</td>\n",
       "      <td>12330.000000</td>\n",
       "      <td>12330.000000</td>\n",
       "      <td>12330.000000</td>\n",
       "      <td>12330.000000</td>\n",
       "      <td>12330.000000</td>\n",
       "      <td>12330.000000</td>\n",
       "    </tr>\n",
       "    <tr>\n",
       "      <th>mean</th>\n",
       "      <td>2.315166</td>\n",
       "      <td>80.818611</td>\n",
       "      <td>0.503569</td>\n",
       "      <td>34.472398</td>\n",
       "      <td>31.731468</td>\n",
       "      <td>1194.746220</td>\n",
       "      <td>0.022191</td>\n",
       "      <td>0.043073</td>\n",
       "      <td>5.889258</td>\n",
       "      <td>0.061427</td>\n",
       "      <td>2.124006</td>\n",
       "      <td>2.357097</td>\n",
       "      <td>3.147364</td>\n",
       "      <td>4.069586</td>\n",
       "    </tr>\n",
       "    <tr>\n",
       "      <th>std</th>\n",
       "      <td>3.321784</td>\n",
       "      <td>176.779107</td>\n",
       "      <td>1.270156</td>\n",
       "      <td>140.749294</td>\n",
       "      <td>44.475503</td>\n",
       "      <td>1913.669288</td>\n",
       "      <td>0.048488</td>\n",
       "      <td>0.048597</td>\n",
       "      <td>18.568437</td>\n",
       "      <td>0.198917</td>\n",
       "      <td>0.911325</td>\n",
       "      <td>1.717277</td>\n",
       "      <td>2.401591</td>\n",
       "      <td>4.025169</td>\n",
       "    </tr>\n",
       "    <tr>\n",
       "      <th>min</th>\n",
       "      <td>0.000000</td>\n",
       "      <td>0.000000</td>\n",
       "      <td>0.000000</td>\n",
       "      <td>0.000000</td>\n",
       "      <td>0.000000</td>\n",
       "      <td>0.000000</td>\n",
       "      <td>0.000000</td>\n",
       "      <td>0.000000</td>\n",
       "      <td>0.000000</td>\n",
       "      <td>0.000000</td>\n",
       "      <td>1.000000</td>\n",
       "      <td>1.000000</td>\n",
       "      <td>1.000000</td>\n",
       "      <td>1.000000</td>\n",
       "    </tr>\n",
       "    <tr>\n",
       "      <th>25%</th>\n",
       "      <td>0.000000</td>\n",
       "      <td>0.000000</td>\n",
       "      <td>0.000000</td>\n",
       "      <td>0.000000</td>\n",
       "      <td>7.000000</td>\n",
       "      <td>184.137500</td>\n",
       "      <td>0.000000</td>\n",
       "      <td>0.014286</td>\n",
       "      <td>0.000000</td>\n",
       "      <td>0.000000</td>\n",
       "      <td>2.000000</td>\n",
       "      <td>2.000000</td>\n",
       "      <td>1.000000</td>\n",
       "      <td>2.000000</td>\n",
       "    </tr>\n",
       "    <tr>\n",
       "      <th>50%</th>\n",
       "      <td>1.000000</td>\n",
       "      <td>7.500000</td>\n",
       "      <td>0.000000</td>\n",
       "      <td>0.000000</td>\n",
       "      <td>18.000000</td>\n",
       "      <td>598.936905</td>\n",
       "      <td>0.003112</td>\n",
       "      <td>0.025156</td>\n",
       "      <td>0.000000</td>\n",
       "      <td>0.000000</td>\n",
       "      <td>2.000000</td>\n",
       "      <td>2.000000</td>\n",
       "      <td>3.000000</td>\n",
       "      <td>2.000000</td>\n",
       "    </tr>\n",
       "    <tr>\n",
       "      <th>75%</th>\n",
       "      <td>4.000000</td>\n",
       "      <td>93.256250</td>\n",
       "      <td>0.000000</td>\n",
       "      <td>0.000000</td>\n",
       "      <td>38.000000</td>\n",
       "      <td>1464.157213</td>\n",
       "      <td>0.016813</td>\n",
       "      <td>0.050000</td>\n",
       "      <td>0.000000</td>\n",
       "      <td>0.000000</td>\n",
       "      <td>3.000000</td>\n",
       "      <td>2.000000</td>\n",
       "      <td>4.000000</td>\n",
       "      <td>4.000000</td>\n",
       "    </tr>\n",
       "    <tr>\n",
       "      <th>max</th>\n",
       "      <td>27.000000</td>\n",
       "      <td>3398.750000</td>\n",
       "      <td>24.000000</td>\n",
       "      <td>2549.375000</td>\n",
       "      <td>705.000000</td>\n",
       "      <td>63973.522230</td>\n",
       "      <td>0.200000</td>\n",
       "      <td>0.200000</td>\n",
       "      <td>361.763742</td>\n",
       "      <td>1.000000</td>\n",
       "      <td>8.000000</td>\n",
       "      <td>13.000000</td>\n",
       "      <td>9.000000</td>\n",
       "      <td>20.000000</td>\n",
       "    </tr>\n",
       "  </tbody>\n",
       "</table>\n",
       "</div>"
      ],
      "text/plain": [
       "       Administrative  Administrative_Duration  Informational  \\\n",
       "count    12330.000000             12330.000000   12330.000000   \n",
       "mean         2.315166                80.818611       0.503569   \n",
       "std          3.321784               176.779107       1.270156   \n",
       "min          0.000000                 0.000000       0.000000   \n",
       "25%          0.000000                 0.000000       0.000000   \n",
       "50%          1.000000                 7.500000       0.000000   \n",
       "75%          4.000000                93.256250       0.000000   \n",
       "max         27.000000              3398.750000      24.000000   \n",
       "\n",
       "       Informational_Duration  ProductRelated  ProductRelated_Duration  \\\n",
       "count            12330.000000    12330.000000             12330.000000   \n",
       "mean                34.472398       31.731468              1194.746220   \n",
       "std                140.749294       44.475503              1913.669288   \n",
       "min                  0.000000        0.000000                 0.000000   \n",
       "25%                  0.000000        7.000000               184.137500   \n",
       "50%                  0.000000       18.000000               598.936905   \n",
       "75%                  0.000000       38.000000              1464.157213   \n",
       "max               2549.375000      705.000000             63973.522230   \n",
       "\n",
       "        BounceRates     ExitRates    PageValues    SpecialDay  \\\n",
       "count  12330.000000  12330.000000  12330.000000  12330.000000   \n",
       "mean       0.022191      0.043073      5.889258      0.061427   \n",
       "std        0.048488      0.048597     18.568437      0.198917   \n",
       "min        0.000000      0.000000      0.000000      0.000000   \n",
       "25%        0.000000      0.014286      0.000000      0.000000   \n",
       "50%        0.003112      0.025156      0.000000      0.000000   \n",
       "75%        0.016813      0.050000      0.000000      0.000000   \n",
       "max        0.200000      0.200000    361.763742      1.000000   \n",
       "\n",
       "       OperatingSystems       Browser        Region   TrafficType  \n",
       "count      12330.000000  12330.000000  12330.000000  12330.000000  \n",
       "mean           2.124006      2.357097      3.147364      4.069586  \n",
       "std            0.911325      1.717277      2.401591      4.025169  \n",
       "min            1.000000      1.000000      1.000000      1.000000  \n",
       "25%            2.000000      2.000000      1.000000      2.000000  \n",
       "50%            2.000000      2.000000      3.000000      2.000000  \n",
       "75%            3.000000      2.000000      4.000000      4.000000  \n",
       "max            8.000000     13.000000      9.000000     20.000000  "
      ]
     },
     "execution_count": 16,
     "metadata": {},
     "output_type": "execute_result"
    }
   ],
   "source": [
    "df.describe()"
   ]
  },
  {
   "cell_type": "markdown",
   "id": "516d017e-b3ae-41f2-87bf-07955d246bff",
   "metadata": {},
   "source": [
    "## Data Cleaning"
   ]
  },
  {
   "cell_type": "code",
   "execution_count": 17,
   "id": "fae1161e-d1c7-4863-802f-eb671a95da51",
   "metadata": {},
   "outputs": [
    {
     "data": {
      "text/plain": [
       "Administrative               int64\n",
       "Administrative_Duration    float64\n",
       "Informational                int64\n",
       "Informational_Duration     float64\n",
       "ProductRelated               int64\n",
       "ProductRelated_Duration    float64\n",
       "BounceRates                float64\n",
       "ExitRates                  float64\n",
       "PageValues                 float64\n",
       "SpecialDay                 float64\n",
       "Month                       object\n",
       "OperatingSystems             int64\n",
       "Browser                      int64\n",
       "Region                       int64\n",
       "TrafficType                  int64\n",
       "VisitorType                 object\n",
       "Weekend                       bool\n",
       "Revenue                       bool\n",
       "dtype: object"
      ]
     },
     "execution_count": 17,
     "metadata": {},
     "output_type": "execute_result"
    }
   ],
   "source": [
    "import copy\n",
    "clean_df = copy.deepcopy(df)\n",
    "clean_df.dtypes"
   ]
  },
  {
   "cell_type": "markdown",
   "id": "cf2f5677",
   "metadata": {},
   "source": [
    "Conver all the string varibale to categorical variable."
   ]
  },
  {
   "cell_type": "code",
   "execution_count": 18,
   "id": "b5066f26-c9a2-4a08-9122-778f01c2a2c6",
   "metadata": {},
   "outputs": [],
   "source": [
    "clean_df[\"Month\"] = clean_df.Month.astype(\"category\")\n",
    "clean_df[\"VisitorType\"] = clean_df.VisitorType.astype(\"category\")\n"
   ]
  },
  {
   "cell_type": "markdown",
   "id": "a5e0c8be",
   "metadata": {},
   "source": [
    "Load necessary pacakage."
   ]
  },
  {
   "cell_type": "code",
   "execution_count": 19,
   "id": "b93db938-355c-4311-be35-e8cfd30e540d",
   "metadata": {},
   "outputs": [],
   "source": [
    "from sklearn.model_selection import train_test_split\n",
    "from sklearn.preprocessing import OneHotEncoder"
   ]
  },
  {
   "cell_type": "markdown",
   "id": "d49e2783",
   "metadata": {},
   "source": [
    "Create One Hot Encoder functions to apply on the categorical features."
   ]
  },
  {
   "cell_type": "code",
   "execution_count": 20,
   "id": "b4e08985",
   "metadata": {},
   "outputs": [],
   "source": [
    "# enc = OneHotEncoder(handle_unknown='ignore')\n",
    "# encoded_df = enc.fit_transform(clean_df)\n",
    "encoded_df = pd.get_dummies(clean_df)\n"
   ]
  },
  {
   "cell_type": "code",
   "execution_count": 21,
   "id": "d6f085e7",
   "metadata": {},
   "outputs": [],
   "source": [
    "X = encoded_df.drop(['Revenue'], axis=1)\n",
    "y = encoded_df['Revenue']"
   ]
  },
  {
   "cell_type": "markdown",
   "id": "c0fbc525",
   "metadata": {},
   "source": [
    "Split the data into train and test (80% as training and 20% as test)"
   ]
  },
  {
   "cell_type": "code",
   "execution_count": 22,
   "id": "5fc4b82b",
   "metadata": {},
   "outputs": [],
   "source": [
    "X_train, X_test, y_train, y_test = train_test_split(X, y, test_size=0.2, random_state=2535)"
   ]
  },
  {
   "cell_type": "markdown",
   "id": "7a2381bd-d66d-40b0-98fd-1d67a044376c",
   "metadata": {},
   "source": [
    "## Modeling"
   ]
  },
  {
   "cell_type": "markdown",
   "id": "f1507d80",
   "metadata": {},
   "source": [
    "Set the seed to keep the random value to be same."
   ]
  },
  {
   "cell_type": "code",
   "execution_count": 23,
   "id": "0714890d",
   "metadata": {},
   "outputs": [],
   "source": [
    "import random\n",
    "random.seed(2535)"
   ]
  },
  {
   "cell_type": "markdown",
   "id": "6e6b2ca0",
   "metadata": {},
   "source": [
    "Load the necessary package."
   ]
  },
  {
   "cell_type": "code",
   "execution_count": 24,
   "id": "e3a99f6a",
   "metadata": {},
   "outputs": [],
   "source": [
    "from sklearn.linear_model import LogisticRegression\n",
    "from sklearn.tree import DecisionTreeClassifier\n",
    "from sklearn.ensemble import RandomForestClassifier, GradientBoostingClassifier, BaggingClassifier, StackingClassifier\n",
    "from sklearn.neighbors import KNeighborsClassifier\n",
    "from lightgbm import LGBMClassifier\n",
    "from xgboost import XGBClassifier\n",
    "from sklearn.svm import SVC\n",
    "from sklearn.model_selection import cross_val_score, RepeatedStratifiedKFold"
   ]
  },
  {
   "cell_type": "markdown",
   "id": "c0a86806",
   "metadata": {},
   "source": [
    "### Baseling Model"
   ]
  },
  {
   "cell_type": "markdown",
   "id": "6b6597fa",
   "metadata": {},
   "source": [
    "Create the function for test the baseling model."
   ]
  },
  {
   "cell_type": "code",
   "execution_count": 25,
   "id": "d42b100b",
   "metadata": {},
   "outputs": [],
   "source": [
    "def base_models():\n",
    "    models = dict()\n",
    "    models['Logistic'] = LogisticRegression(solver='liblinear')\n",
    "    models['DecisionTree'] = DecisionTreeClassifier()\n",
    "    models['RandomForest'] = RandomForestClassifier()\n",
    "    models['KNN'] = KNeighborsClassifier()\n",
    "    # models['SVC'] = SVC(gamma='auto')\n",
    "    models['Bagging'] = BaggingClassifier()\n",
    "    models['GBM'] = GradientBoostingClassifier()\n",
    "    models['LightGBM'] = LGBMClassifier()\n",
    "    models['XGBoost'] = XGBClassifier()\n",
    "    return models\n",
    "\n",
    "# Function to evaluate the list of models\n",
    "def eval_models(model):\n",
    "  cv = RepeatedStratifiedKFold(n_splits=10, n_repeats=3, random_state=1)\n",
    "  scores = cross_val_score(model, X_train, y_train, cv=cv, n_jobs=-1, \n",
    "                            error_score='raise')\n",
    "  return scores"
   ]
  },
  {
   "cell_type": "markdown",
   "id": "5c6ac821",
   "metadata": {},
   "source": [
    "Print the evaluation of all the model."
   ]
  },
  {
   "cell_type": "code",
   "execution_count": 26,
   "id": "b2a5927a",
   "metadata": {},
   "outputs": [
    {
     "name": "stdout",
     "output_type": "stream",
     "text": [
      ">Logistic 0.883 (0.007)\n",
      ">DecisionTree 0.859 (0.009)\n",
      ">RandomForest 0.902 (0.006)\n",
      ">KNN 0.858 (0.008)\n",
      ">Bagging 0.894 (0.007)\n",
      ">GBM 0.900 (0.007)\n",
      ">LightGBM 0.903 (0.007)\n",
      ">XGBoost 0.897 (0.007)\n"
     ]
    }
   ],
   "source": [
    "# get the models to evaluate\n",
    "baseline_model = base_models()\n",
    "# evaluate the models and store results\n",
    "results, names = list(), list() \n",
    "\n",
    "for name, model in baseline_model.items():\n",
    "  scores = eval_models(model)\n",
    "  results.append(scores)\n",
    "  names.append(name)\n",
    "  print('>%s %.3f (%.3f)' % (name, scores.mean(), scores.std()))"
   ]
  },
  {
   "cell_type": "markdown",
   "id": "db3089bb",
   "metadata": {},
   "source": [
    "Convert the reuslt of evaluation model into dataframe."
   ]
  },
  {
   "cell_type": "code",
   "execution_count": 27,
   "id": "83a6c170",
   "metadata": {},
   "outputs": [],
   "source": [
    "classificationmod = pd.DataFrame(np.transpose(results), columns = [\"Logistic\",\"DecisionTree\",\"RandomForest\",\"KNN\", \"Bagging\",\"GBM\", \"XGBoost\",\"LightGBM\"])\n",
    "classificationmod = pd.melt(classificationmod.reset_index(), id_vars='index',value_vars=[\"Logistic\",\"DecisionTree\",\"RandomForest\",\"KNN\", \"Bagging\",\"GBM\",\"XGBoost\",\"LightGBM\"])\n",
    "classificationmod.set_index('index', inplace=True)\n",
    "classificationmod.columns = ['Model', 'Score']"
   ]
  },
  {
   "cell_type": "markdown",
   "id": "16ecad9f",
   "metadata": {},
   "source": [
    "Generate a box plot to check the evaluation of each model."
   ]
  },
  {
   "cell_type": "code",
   "execution_count": 28,
   "id": "23c4e2f3",
   "metadata": {},
   "outputs": [
    {
     "data": {
      "application/vnd.plotly.v1+json": {
       "config": {
        "plotlyServerURL": "https://plot.ly"
       },
       "data": [
        {
         "alignmentgroup": "True",
         "boxpoints": "all",
         "hovertemplate": "Machine Learning Model=%{x}<br>Accuracy=%{y}<extra></extra>",
         "legendgroup": "Logistic",
         "marker": {
          "color": "#636efa"
         },
         "name": "Logistic",
         "notched": false,
         "offsetgroup": "Logistic",
         "orientation": "v",
         "showlegend": true,
         "type": "box",
         "x": [
          "Logistic",
          "Logistic",
          "Logistic",
          "Logistic",
          "Logistic",
          "Logistic",
          "Logistic",
          "Logistic",
          "Logistic",
          "Logistic",
          "Logistic",
          "Logistic",
          "Logistic",
          "Logistic",
          "Logistic",
          "Logistic",
          "Logistic",
          "Logistic",
          "Logistic",
          "Logistic",
          "Logistic",
          "Logistic",
          "Logistic",
          "Logistic",
          "Logistic",
          "Logistic",
          "Logistic",
          "Logistic",
          "Logistic",
          "Logistic"
         ],
         "x0": " ",
         "xaxis": "x",
         "y": [
          0.8774062816616008,
          0.9017223910840932,
          0.8774062816616008,
          0.8926038500506586,
          0.8823529411764706,
          0.8793103448275862,
          0.8762677484787018,
          0.8762677484787018,
          0.8853955375253549,
          0.8803245436105477,
          0.8875379939209727,
          0.8844984802431611,
          0.8844984802431611,
          0.8774062816616008,
          0.8722109533468559,
          0.8803245436105477,
          0.8935091277890467,
          0.8864097363083164,
          0.8924949290060852,
          0.8722109533468559,
          0.8794326241134752,
          0.8824721377912867,
          0.8814589665653495,
          0.8713272543059777,
          0.8803245436105477,
          0.8924949290060852,
          0.8813387423935092,
          0.8813387423935092,
          0.8803245436105477,
          0.896551724137931
         ],
         "y0": " ",
         "yaxis": "y"
        },
        {
         "alignmentgroup": "True",
         "boxpoints": "all",
         "hovertemplate": "Machine Learning Model=%{x}<br>Accuracy=%{y}<extra></extra>",
         "legendgroup": "DecisionTree",
         "marker": {
          "color": "#EF553B"
         },
         "name": "DecisionTree",
         "notched": false,
         "offsetgroup": "DecisionTree",
         "orientation": "v",
         "showlegend": true,
         "type": "box",
         "x": [
          "DecisionTree",
          "DecisionTree",
          "DecisionTree",
          "DecisionTree",
          "DecisionTree",
          "DecisionTree",
          "DecisionTree",
          "DecisionTree",
          "DecisionTree",
          "DecisionTree",
          "DecisionTree",
          "DecisionTree",
          "DecisionTree",
          "DecisionTree",
          "DecisionTree",
          "DecisionTree",
          "DecisionTree",
          "DecisionTree",
          "DecisionTree",
          "DecisionTree",
          "DecisionTree",
          "DecisionTree",
          "DecisionTree",
          "DecisionTree",
          "DecisionTree",
          "DecisionTree",
          "DecisionTree",
          "DecisionTree",
          "DecisionTree",
          "DecisionTree"
         ],
         "x0": " ",
         "xaxis": "x",
         "y": [
          0.8601823708206687,
          0.8652482269503546,
          0.8611955420466059,
          0.8632218844984803,
          0.8498985801217038,
          0.8813387423935092,
          0.8468559837728195,
          0.8661257606490872,
          0.8620689655172413,
          0.859026369168357,
          0.8571428571428571,
          0.8611955420466059,
          0.8500506585612969,
          0.8520770010131712,
          0.845841784989858,
          0.8539553752535497,
          0.8559837728194726,
          0.847870182555781,
          0.8691683569979716,
          0.847870182555781,
          0.8470111448834853,
          0.8632218844984803,
          0.8520770010131712,
          0.867274569402229,
          0.8722109533468559,
          0.8620689655172413,
          0.8701825557809331,
          0.8529411764705882,
          0.8661257606490872,
          0.8711967545638946
         ],
         "y0": " ",
         "yaxis": "y"
        },
        {
         "alignmentgroup": "True",
         "boxpoints": "all",
         "hovertemplate": "Machine Learning Model=%{x}<br>Accuracy=%{y}<extra></extra>",
         "legendgroup": "RandomForest",
         "marker": {
          "color": "#00cc96"
         },
         "name": "RandomForest",
         "notched": false,
         "offsetgroup": "RandomForest",
         "orientation": "v",
         "showlegend": true,
         "type": "box",
         "x": [
          "RandomForest",
          "RandomForest",
          "RandomForest",
          "RandomForest",
          "RandomForest",
          "RandomForest",
          "RandomForest",
          "RandomForest",
          "RandomForest",
          "RandomForest",
          "RandomForest",
          "RandomForest",
          "RandomForest",
          "RandomForest",
          "RandomForest",
          "RandomForest",
          "RandomForest",
          "RandomForest",
          "RandomForest",
          "RandomForest",
          "RandomForest",
          "RandomForest",
          "RandomForest",
          "RandomForest",
          "RandomForest",
          "RandomForest",
          "RandomForest",
          "RandomForest",
          "RandomForest",
          "RandomForest"
         ],
         "x0": " ",
         "xaxis": "x",
         "y": [
          0.9047619047619048,
          0.9027355623100304,
          0.894630192502533,
          0.9088145896656535,
          0.9107505070993914,
          0.9016227180527383,
          0.9016227180527383,
          0.8985801217038539,
          0.9006085192697769,
          0.8955375253549696,
          0.9067882472137792,
          0.9088145896656535,
          0.9017223910840932,
          0.9017223910840932,
          0.8894523326572008,
          0.9006085192697769,
          0.9148073022312373,
          0.8945233265720081,
          0.9107505070993914,
          0.9006085192697769,
          0.8996960486322189,
          0.8996960486322189,
          0.8926038500506586,
          0.8966565349544073,
          0.8945233265720081,
          0.9107505070993914,
          0.907707910750507,
          0.907707910750507,
          0.9006085192697769,
          0.9148073022312373
         ],
         "y0": " ",
         "yaxis": "y"
        },
        {
         "alignmentgroup": "True",
         "boxpoints": "all",
         "hovertemplate": "Machine Learning Model=%{x}<br>Accuracy=%{y}<extra></extra>",
         "legendgroup": "KNN",
         "marker": {
          "color": "#ab63fa"
         },
         "name": "KNN",
         "notched": false,
         "offsetgroup": "KNN",
         "orientation": "v",
         "showlegend": true,
         "type": "box",
         "x": [
          "KNN",
          "KNN",
          "KNN",
          "KNN",
          "KNN",
          "KNN",
          "KNN",
          "KNN",
          "KNN",
          "KNN",
          "KNN",
          "KNN",
          "KNN",
          "KNN",
          "KNN",
          "KNN",
          "KNN",
          "KNN",
          "KNN",
          "KNN",
          "KNN",
          "KNN",
          "KNN",
          "KNN",
          "KNN",
          "KNN",
          "KNN",
          "KNN",
          "KNN",
          "KNN"
         ],
         "x0": " ",
         "xaxis": "x",
         "y": [
          0.8581560283687943,
          0.851063829787234,
          0.8611955420466059,
          0.8551165146909828,
          0.859026369168357,
          0.8559837728194726,
          0.8610547667342799,
          0.8711967545638946,
          0.8600405679513184,
          0.8539553752535497,
          0.8530901722391084,
          0.8551165146909828,
          0.8530901722391084,
          0.8429584599797366,
          0.8549695740365112,
          0.8559837728194726,
          0.8762677484787018,
          0.8640973630831643,
          0.8671399594320487,
          0.8488843813387424,
          0.8520770010131712,
          0.8500506585612969,
          0.8541033434650456,
          0.8591691995947315,
          0.8630831643002028,
          0.8559837728194726,
          0.8580121703853956,
          0.8529411764705882,
          0.8610547667342799,
          0.8813387423935092
         ],
         "y0": " ",
         "yaxis": "y"
        },
        {
         "alignmentgroup": "True",
         "boxpoints": "all",
         "hovertemplate": "Machine Learning Model=%{x}<br>Accuracy=%{y}<extra></extra>",
         "legendgroup": "Bagging",
         "marker": {
          "color": "#FFA15A"
         },
         "name": "Bagging",
         "notched": false,
         "offsetgroup": "Bagging",
         "orientation": "v",
         "showlegend": true,
         "type": "box",
         "x": [
          "Bagging",
          "Bagging",
          "Bagging",
          "Bagging",
          "Bagging",
          "Bagging",
          "Bagging",
          "Bagging",
          "Bagging",
          "Bagging",
          "Bagging",
          "Bagging",
          "Bagging",
          "Bagging",
          "Bagging",
          "Bagging",
          "Bagging",
          "Bagging",
          "Bagging",
          "Bagging",
          "Bagging",
          "Bagging",
          "Bagging",
          "Bagging",
          "Bagging",
          "Bagging",
          "Bagging",
          "Bagging",
          "Bagging",
          "Bagging"
         ],
         "x0": " ",
         "xaxis": "x",
         "y": [
          0.8956433637284701,
          0.8966565349544073,
          0.8986828774062816,
          0.8926038500506586,
          0.9107505070993914,
          0.8955375253549696,
          0.8904665314401623,
          0.8975659229208925,
          0.8945233265720081,
          0.8884381338742393,
          0.8996960486322189,
          0.900709219858156,
          0.8814589665653495,
          0.8885511651469098,
          0.8874239350912779,
          0.9046653144016227,
          0.8935091277890467,
          0.8884381338742393,
          0.8935091277890467,
          0.8793103448275862,
          0.8905775075987842,
          0.8936170212765957,
          0.8713272543059777,
          0.8936170212765957,
          0.8894523326572008,
          0.8975659229208925,
          0.8985801217038539,
          0.8985801217038539,
          0.8955375253549696,
          0.9006085192697769
         ],
         "y0": " ",
         "yaxis": "y"
        },
        {
         "alignmentgroup": "True",
         "boxpoints": "all",
         "hovertemplate": "Machine Learning Model=%{x}<br>Accuracy=%{y}<extra></extra>",
         "legendgroup": "GBM",
         "marker": {
          "color": "#19d3f3"
         },
         "name": "GBM",
         "notched": false,
         "offsetgroup": "GBM",
         "orientation": "v",
         "showlegend": true,
         "type": "box",
         "x": [
          "GBM",
          "GBM",
          "GBM",
          "GBM",
          "GBM",
          "GBM",
          "GBM",
          "GBM",
          "GBM",
          "GBM",
          "GBM",
          "GBM",
          "GBM",
          "GBM",
          "GBM",
          "GBM",
          "GBM",
          "GBM",
          "GBM",
          "GBM",
          "GBM",
          "GBM",
          "GBM",
          "GBM",
          "GBM",
          "GBM",
          "GBM",
          "GBM",
          "GBM",
          "GBM"
         ],
         "x0": " ",
         "xaxis": "x",
         "y": [
          0.9027355623100304,
          0.9078014184397163,
          0.9047619047619048,
          0.9037487335359676,
          0.9087221095334685,
          0.8975659229208925,
          0.8904665314401623,
          0.8975659229208925,
          0.8985801217038539,
          0.8914807302231237,
          0.9057750759878419,
          0.9108409321175278,
          0.8936170212765957,
          0.9037487335359676,
          0.8843813387423936,
          0.8995943204868154,
          0.9066937119675457,
          0.8914807302231237,
          0.9056795131845842,
          0.8995943204868154,
          0.8986828774062816,
          0.8926038500506586,
          0.889564336372847,
          0.894630192502533,
          0.9026369168356998,
          0.9006085192697769,
          0.9117647058823529,
          0.8985801217038539,
          0.9056795131845842,
          0.9117647058823529
         ],
         "y0": " ",
         "yaxis": "y"
        },
        {
         "alignmentgroup": "True",
         "boxpoints": "all",
         "hovertemplate": "Machine Learning Model=%{x}<br>Accuracy=%{y}<extra></extra>",
         "legendgroup": "XGBoost",
         "marker": {
          "color": "#FF6692"
         },
         "name": "XGBoost",
         "notched": false,
         "offsetgroup": "XGBoost",
         "orientation": "v",
         "showlegend": true,
         "type": "box",
         "x": [
          "XGBoost",
          "XGBoost",
          "XGBoost",
          "XGBoost",
          "XGBoost",
          "XGBoost",
          "XGBoost",
          "XGBoost",
          "XGBoost",
          "XGBoost",
          "XGBoost",
          "XGBoost",
          "XGBoost",
          "XGBoost",
          "XGBoost",
          "XGBoost",
          "XGBoost",
          "XGBoost",
          "XGBoost",
          "XGBoost",
          "XGBoost",
          "XGBoost",
          "XGBoost",
          "XGBoost",
          "XGBoost",
          "XGBoost",
          "XGBoost",
          "XGBoost",
          "XGBoost",
          "XGBoost"
         ],
         "x0": " ",
         "xaxis": "x",
         "y": [
          0.9017223910840932,
          0.9067882472137792,
          0.9037487335359676,
          0.9047619047619048,
          0.9148073022312373,
          0.8975659229208925,
          0.9026369168356998,
          0.9026369168356998,
          0.896551724137931,
          0.8914807302231237,
          0.9088145896656535,
          0.9118541033434651,
          0.894630192502533,
          0.9027355623100304,
          0.8894523326572008,
          0.9066937119675457,
          0.9117647058823529,
          0.8975659229208925,
          0.9087221095334685,
          0.9117647058823529,
          0.900709219858156,
          0.9027355623100304,
          0.8885511651469098,
          0.8915906788247214,
          0.9066937119675457,
          0.8985801217038539,
          0.9127789046653144,
          0.90973630831643,
          0.8985801217038539,
          0.907707910750507
         ],
         "y0": " ",
         "yaxis": "y"
        },
        {
         "alignmentgroup": "True",
         "boxpoints": "all",
         "hovertemplate": "Machine Learning Model=%{x}<br>Accuracy=%{y}<extra></extra>",
         "legendgroup": "LightGBM",
         "marker": {
          "color": "#B6E880"
         },
         "name": "LightGBM",
         "notched": false,
         "offsetgroup": "LightGBM",
         "orientation": "v",
         "showlegend": true,
         "type": "box",
         "x": [
          "LightGBM",
          "LightGBM",
          "LightGBM",
          "LightGBM",
          "LightGBM",
          "LightGBM",
          "LightGBM",
          "LightGBM",
          "LightGBM",
          "LightGBM",
          "LightGBM",
          "LightGBM",
          "LightGBM",
          "LightGBM",
          "LightGBM",
          "LightGBM",
          "LightGBM",
          "LightGBM",
          "LightGBM",
          "LightGBM",
          "LightGBM",
          "LightGBM",
          "LightGBM",
          "LightGBM",
          "LightGBM",
          "LightGBM",
          "LightGBM",
          "LightGBM",
          "LightGBM",
          "LightGBM"
         ],
         "x0": " ",
         "xaxis": "x",
         "y": [
          0.9057750759878419,
          0.8956433637284701,
          0.8966565349544073,
          0.8986828774062816,
          0.90973630831643,
          0.8955375253549696,
          0.8813387423935092,
          0.907707910750507,
          0.8894523326572008,
          0.8945233265720081,
          0.9088145896656535,
          0.9047619047619048,
          0.8936170212765957,
          0.889564336372847,
          0.8853955375253549,
          0.896551724137931,
          0.9066937119675457,
          0.8955375253549696,
          0.896551724137931,
          0.8975659229208925,
          0.9017223910840932,
          0.8885511651469098,
          0.8926038500506586,
          0.8915906788247214,
          0.8884381338742393,
          0.8945233265720081,
          0.8955375253549696,
          0.8975659229208925,
          0.9056795131845842,
          0.9066937119675457
         ],
         "y0": " ",
         "yaxis": "y"
        }
       ],
       "layout": {
        "boxmode": "overlay",
        "legend": {
         "title": {
          "text": "Machine Learning Model"
         },
         "tracegroupgap": 0
        },
        "template": {
         "data": {
          "bar": [
           {
            "error_x": {
             "color": "#2a3f5f"
            },
            "error_y": {
             "color": "#2a3f5f"
            },
            "marker": {
             "line": {
              "color": "#E5ECF6",
              "width": 0.5
             },
             "pattern": {
              "fillmode": "overlay",
              "size": 10,
              "solidity": 0.2
             }
            },
            "type": "bar"
           }
          ],
          "barpolar": [
           {
            "marker": {
             "line": {
              "color": "#E5ECF6",
              "width": 0.5
             },
             "pattern": {
              "fillmode": "overlay",
              "size": 10,
              "solidity": 0.2
             }
            },
            "type": "barpolar"
           }
          ],
          "carpet": [
           {
            "aaxis": {
             "endlinecolor": "#2a3f5f",
             "gridcolor": "white",
             "linecolor": "white",
             "minorgridcolor": "white",
             "startlinecolor": "#2a3f5f"
            },
            "baxis": {
             "endlinecolor": "#2a3f5f",
             "gridcolor": "white",
             "linecolor": "white",
             "minorgridcolor": "white",
             "startlinecolor": "#2a3f5f"
            },
            "type": "carpet"
           }
          ],
          "choropleth": [
           {
            "colorbar": {
             "outlinewidth": 0,
             "ticks": ""
            },
            "type": "choropleth"
           }
          ],
          "contour": [
           {
            "colorbar": {
             "outlinewidth": 0,
             "ticks": ""
            },
            "colorscale": [
             [
              0,
              "#0d0887"
             ],
             [
              0.1111111111111111,
              "#46039f"
             ],
             [
              0.2222222222222222,
              "#7201a8"
             ],
             [
              0.3333333333333333,
              "#9c179e"
             ],
             [
              0.4444444444444444,
              "#bd3786"
             ],
             [
              0.5555555555555556,
              "#d8576b"
             ],
             [
              0.6666666666666666,
              "#ed7953"
             ],
             [
              0.7777777777777778,
              "#fb9f3a"
             ],
             [
              0.8888888888888888,
              "#fdca26"
             ],
             [
              1,
              "#f0f921"
             ]
            ],
            "type": "contour"
           }
          ],
          "contourcarpet": [
           {
            "colorbar": {
             "outlinewidth": 0,
             "ticks": ""
            },
            "type": "contourcarpet"
           }
          ],
          "heatmap": [
           {
            "colorbar": {
             "outlinewidth": 0,
             "ticks": ""
            },
            "colorscale": [
             [
              0,
              "#0d0887"
             ],
             [
              0.1111111111111111,
              "#46039f"
             ],
             [
              0.2222222222222222,
              "#7201a8"
             ],
             [
              0.3333333333333333,
              "#9c179e"
             ],
             [
              0.4444444444444444,
              "#bd3786"
             ],
             [
              0.5555555555555556,
              "#d8576b"
             ],
             [
              0.6666666666666666,
              "#ed7953"
             ],
             [
              0.7777777777777778,
              "#fb9f3a"
             ],
             [
              0.8888888888888888,
              "#fdca26"
             ],
             [
              1,
              "#f0f921"
             ]
            ],
            "type": "heatmap"
           }
          ],
          "heatmapgl": [
           {
            "colorbar": {
             "outlinewidth": 0,
             "ticks": ""
            },
            "colorscale": [
             [
              0,
              "#0d0887"
             ],
             [
              0.1111111111111111,
              "#46039f"
             ],
             [
              0.2222222222222222,
              "#7201a8"
             ],
             [
              0.3333333333333333,
              "#9c179e"
             ],
             [
              0.4444444444444444,
              "#bd3786"
             ],
             [
              0.5555555555555556,
              "#d8576b"
             ],
             [
              0.6666666666666666,
              "#ed7953"
             ],
             [
              0.7777777777777778,
              "#fb9f3a"
             ],
             [
              0.8888888888888888,
              "#fdca26"
             ],
             [
              1,
              "#f0f921"
             ]
            ],
            "type": "heatmapgl"
           }
          ],
          "histogram": [
           {
            "marker": {
             "pattern": {
              "fillmode": "overlay",
              "size": 10,
              "solidity": 0.2
             }
            },
            "type": "histogram"
           }
          ],
          "histogram2d": [
           {
            "colorbar": {
             "outlinewidth": 0,
             "ticks": ""
            },
            "colorscale": [
             [
              0,
              "#0d0887"
             ],
             [
              0.1111111111111111,
              "#46039f"
             ],
             [
              0.2222222222222222,
              "#7201a8"
             ],
             [
              0.3333333333333333,
              "#9c179e"
             ],
             [
              0.4444444444444444,
              "#bd3786"
             ],
             [
              0.5555555555555556,
              "#d8576b"
             ],
             [
              0.6666666666666666,
              "#ed7953"
             ],
             [
              0.7777777777777778,
              "#fb9f3a"
             ],
             [
              0.8888888888888888,
              "#fdca26"
             ],
             [
              1,
              "#f0f921"
             ]
            ],
            "type": "histogram2d"
           }
          ],
          "histogram2dcontour": [
           {
            "colorbar": {
             "outlinewidth": 0,
             "ticks": ""
            },
            "colorscale": [
             [
              0,
              "#0d0887"
             ],
             [
              0.1111111111111111,
              "#46039f"
             ],
             [
              0.2222222222222222,
              "#7201a8"
             ],
             [
              0.3333333333333333,
              "#9c179e"
             ],
             [
              0.4444444444444444,
              "#bd3786"
             ],
             [
              0.5555555555555556,
              "#d8576b"
             ],
             [
              0.6666666666666666,
              "#ed7953"
             ],
             [
              0.7777777777777778,
              "#fb9f3a"
             ],
             [
              0.8888888888888888,
              "#fdca26"
             ],
             [
              1,
              "#f0f921"
             ]
            ],
            "type": "histogram2dcontour"
           }
          ],
          "mesh3d": [
           {
            "colorbar": {
             "outlinewidth": 0,
             "ticks": ""
            },
            "type": "mesh3d"
           }
          ],
          "parcoords": [
           {
            "line": {
             "colorbar": {
              "outlinewidth": 0,
              "ticks": ""
             }
            },
            "type": "parcoords"
           }
          ],
          "pie": [
           {
            "automargin": true,
            "type": "pie"
           }
          ],
          "scatter": [
           {
            "marker": {
             "colorbar": {
              "outlinewidth": 0,
              "ticks": ""
             }
            },
            "type": "scatter"
           }
          ],
          "scatter3d": [
           {
            "line": {
             "colorbar": {
              "outlinewidth": 0,
              "ticks": ""
             }
            },
            "marker": {
             "colorbar": {
              "outlinewidth": 0,
              "ticks": ""
             }
            },
            "type": "scatter3d"
           }
          ],
          "scattercarpet": [
           {
            "marker": {
             "colorbar": {
              "outlinewidth": 0,
              "ticks": ""
             }
            },
            "type": "scattercarpet"
           }
          ],
          "scattergeo": [
           {
            "marker": {
             "colorbar": {
              "outlinewidth": 0,
              "ticks": ""
             }
            },
            "type": "scattergeo"
           }
          ],
          "scattergl": [
           {
            "marker": {
             "colorbar": {
              "outlinewidth": 0,
              "ticks": ""
             }
            },
            "type": "scattergl"
           }
          ],
          "scattermapbox": [
           {
            "marker": {
             "colorbar": {
              "outlinewidth": 0,
              "ticks": ""
             }
            },
            "type": "scattermapbox"
           }
          ],
          "scatterpolar": [
           {
            "marker": {
             "colorbar": {
              "outlinewidth": 0,
              "ticks": ""
             }
            },
            "type": "scatterpolar"
           }
          ],
          "scatterpolargl": [
           {
            "marker": {
             "colorbar": {
              "outlinewidth": 0,
              "ticks": ""
             }
            },
            "type": "scatterpolargl"
           }
          ],
          "scatterternary": [
           {
            "marker": {
             "colorbar": {
              "outlinewidth": 0,
              "ticks": ""
             }
            },
            "type": "scatterternary"
           }
          ],
          "surface": [
           {
            "colorbar": {
             "outlinewidth": 0,
             "ticks": ""
            },
            "colorscale": [
             [
              0,
              "#0d0887"
             ],
             [
              0.1111111111111111,
              "#46039f"
             ],
             [
              0.2222222222222222,
              "#7201a8"
             ],
             [
              0.3333333333333333,
              "#9c179e"
             ],
             [
              0.4444444444444444,
              "#bd3786"
             ],
             [
              0.5555555555555556,
              "#d8576b"
             ],
             [
              0.6666666666666666,
              "#ed7953"
             ],
             [
              0.7777777777777778,
              "#fb9f3a"
             ],
             [
              0.8888888888888888,
              "#fdca26"
             ],
             [
              1,
              "#f0f921"
             ]
            ],
            "type": "surface"
           }
          ],
          "table": [
           {
            "cells": {
             "fill": {
              "color": "#EBF0F8"
             },
             "line": {
              "color": "white"
             }
            },
            "header": {
             "fill": {
              "color": "#C8D4E3"
             },
             "line": {
              "color": "white"
             }
            },
            "type": "table"
           }
          ]
         },
         "layout": {
          "annotationdefaults": {
           "arrowcolor": "#2a3f5f",
           "arrowhead": 0,
           "arrowwidth": 1
          },
          "autotypenumbers": "strict",
          "coloraxis": {
           "colorbar": {
            "outlinewidth": 0,
            "ticks": ""
           }
          },
          "colorscale": {
           "diverging": [
            [
             0,
             "#8e0152"
            ],
            [
             0.1,
             "#c51b7d"
            ],
            [
             0.2,
             "#de77ae"
            ],
            [
             0.3,
             "#f1b6da"
            ],
            [
             0.4,
             "#fde0ef"
            ],
            [
             0.5,
             "#f7f7f7"
            ],
            [
             0.6,
             "#e6f5d0"
            ],
            [
             0.7,
             "#b8e186"
            ],
            [
             0.8,
             "#7fbc41"
            ],
            [
             0.9,
             "#4d9221"
            ],
            [
             1,
             "#276419"
            ]
           ],
           "sequential": [
            [
             0,
             "#0d0887"
            ],
            [
             0.1111111111111111,
             "#46039f"
            ],
            [
             0.2222222222222222,
             "#7201a8"
            ],
            [
             0.3333333333333333,
             "#9c179e"
            ],
            [
             0.4444444444444444,
             "#bd3786"
            ],
            [
             0.5555555555555556,
             "#d8576b"
            ],
            [
             0.6666666666666666,
             "#ed7953"
            ],
            [
             0.7777777777777778,
             "#fb9f3a"
            ],
            [
             0.8888888888888888,
             "#fdca26"
            ],
            [
             1,
             "#f0f921"
            ]
           ],
           "sequentialminus": [
            [
             0,
             "#0d0887"
            ],
            [
             0.1111111111111111,
             "#46039f"
            ],
            [
             0.2222222222222222,
             "#7201a8"
            ],
            [
             0.3333333333333333,
             "#9c179e"
            ],
            [
             0.4444444444444444,
             "#bd3786"
            ],
            [
             0.5555555555555556,
             "#d8576b"
            ],
            [
             0.6666666666666666,
             "#ed7953"
            ],
            [
             0.7777777777777778,
             "#fb9f3a"
            ],
            [
             0.8888888888888888,
             "#fdca26"
            ],
            [
             1,
             "#f0f921"
            ]
           ]
          },
          "colorway": [
           "#636efa",
           "#EF553B",
           "#00cc96",
           "#ab63fa",
           "#FFA15A",
           "#19d3f3",
           "#FF6692",
           "#B6E880",
           "#FF97FF",
           "#FECB52"
          ],
          "font": {
           "color": "#2a3f5f"
          },
          "geo": {
           "bgcolor": "white",
           "lakecolor": "white",
           "landcolor": "#E5ECF6",
           "showlakes": true,
           "showland": true,
           "subunitcolor": "white"
          },
          "hoverlabel": {
           "align": "left"
          },
          "hovermode": "closest",
          "mapbox": {
           "style": "light"
          },
          "paper_bgcolor": "white",
          "plot_bgcolor": "#E5ECF6",
          "polar": {
           "angularaxis": {
            "gridcolor": "white",
            "linecolor": "white",
            "ticks": ""
           },
           "bgcolor": "#E5ECF6",
           "radialaxis": {
            "gridcolor": "white",
            "linecolor": "white",
            "ticks": ""
           }
          },
          "scene": {
           "xaxis": {
            "backgroundcolor": "#E5ECF6",
            "gridcolor": "white",
            "gridwidth": 2,
            "linecolor": "white",
            "showbackground": true,
            "ticks": "",
            "zerolinecolor": "white"
           },
           "yaxis": {
            "backgroundcolor": "#E5ECF6",
            "gridcolor": "white",
            "gridwidth": 2,
            "linecolor": "white",
            "showbackground": true,
            "ticks": "",
            "zerolinecolor": "white"
           },
           "zaxis": {
            "backgroundcolor": "#E5ECF6",
            "gridcolor": "white",
            "gridwidth": 2,
            "linecolor": "white",
            "showbackground": true,
            "ticks": "",
            "zerolinecolor": "white"
           }
          },
          "shapedefaults": {
           "line": {
            "color": "#2a3f5f"
           }
          },
          "ternary": {
           "aaxis": {
            "gridcolor": "white",
            "linecolor": "white",
            "ticks": ""
           },
           "baxis": {
            "gridcolor": "white",
            "linecolor": "white",
            "ticks": ""
           },
           "bgcolor": "#E5ECF6",
           "caxis": {
            "gridcolor": "white",
            "linecolor": "white",
            "ticks": ""
           }
          },
          "title": {
           "x": 0.05
          },
          "xaxis": {
           "automargin": true,
           "gridcolor": "white",
           "linecolor": "white",
           "ticks": "",
           "title": {
            "standoff": 15
           },
           "zerolinecolor": "white",
           "zerolinewidth": 2
          },
          "yaxis": {
           "automargin": true,
           "gridcolor": "white",
           "linecolor": "white",
           "ticks": "",
           "title": {
            "standoff": 15
           },
           "zerolinecolor": "white",
           "zerolinewidth": 2
          }
         }
        },
        "title": {
         "text": "Model Performance"
        },
        "xaxis": {
         "anchor": "y",
         "categoryarray": [
          "Logistic",
          "DecisionTree",
          "RandomForest",
          "KNN",
          "Bagging",
          "GBM",
          "XGBoost",
          "LightGBM"
         ],
         "categoryorder": "array",
         "domain": [
          0,
          1
         ],
         "title": {
          "text": "Machine Learning Model"
         }
        },
        "yaxis": {
         "anchor": "x",
         "domain": [
          0,
          1
         ],
         "title": {
          "text": "Accuracy"
         }
        }
       }
      }
     },
     "metadata": {},
     "output_type": "display_data"
    }
   ],
   "source": [
    "fig = px.box(classificationmod, x=\"Model\", y=\"Score\",color=\"Model\",points='all',\n",
    "labels={\"Model\": \"Machine Learning Model\",\n",
    "        \"Score\": \"Accuracy\"\n",
    "        },title=\"Model Performance\")\n",
    "fig.show()\n",
    "#fig.write_image(\"Boxplot.jpeg\",engine=\"kaleido\",format=\"png\", width=1600, height=700, scale=0.75)"
   ]
  },
  {
   "cell_type": "markdown",
   "id": "275b93e9",
   "metadata": {},
   "source": [
    " # Hyperparameter Search"
   ]
  },
  {
   "cell_type": "markdown",
   "id": "c1d88649",
   "metadata": {},
   "source": [
    "# ----------------- Note -------------------\n",
    "# Done part 5 and 6 for Random Forest only. Not sure if we have to do it separetely for each model or if there is a way to do it for all at the same time\n",
    "# ------------------------------------------"
   ]
  },
  {
   "cell_type": "markdown",
   "id": "61131e3a",
   "metadata": {},
   "source": [
    " ## Hyperparameter Search for Random Forest Classifier"
   ]
  },
  {
   "cell_type": "markdown",
   "id": "bc5fb91e",
   "metadata": {},
   "source": [
    "Define model parameters"
   ]
  },
  {
   "cell_type": "code",
   "execution_count": 29,
   "id": "a19ad5f8",
   "metadata": {},
   "outputs": [],
   "source": [
    "from sklearn.model_selection import RepeatedStratifiedKFold\n",
    "from sklearn.model_selection import GridSearchCV\n",
    "\n",
    "# define models and parameters\n",
    "model = RandomForestClassifier()\n",
    "n_estimators = [10, 25, 50, 100,150, 250, 1000]\n",
    "max_features = ['sqrt', 'log2']\n",
    "max_depth = [None, 5, 10, 20, 50, 100]\n",
    "# define grid\n",
    "grid = {'n_estimators': n_estimators,\n",
    "               'max_features': max_features,\n",
    "               'max_depth': max_depth}"
   ]
  },
  {
   "cell_type": "markdown",
   "id": "fa96603c",
   "metadata": {},
   "source": [
    "### Grid search"
   ]
  },
  {
   "cell_type": "code",
   "execution_count": 30,
   "id": "834f15d1",
   "metadata": {},
   "outputs": [],
   "source": [
    "grid_search = GridSearchCV(estimator=model, param_grid=grid, n_jobs=-1, cv=10, scoring='accuracy',error_score=0)\n",
    "grid_result = grid_search.fit(X, y)"
   ]
  },
  {
   "cell_type": "code",
   "execution_count": 31,
   "id": "411f9218",
   "metadata": {},
   "outputs": [
    {
     "name": "stdout",
     "output_type": "stream",
     "text": [
      "Best: 0.892944 using {'max_depth': 10, 'max_features': 'sqrt', 'n_estimators': 50}\n",
      "0.885077 (0.015444) with: {'max_depth': None, 'max_features': 'sqrt', 'n_estimators': 10}\n",
      "0.886537 (0.014096) with: {'max_depth': None, 'max_features': 'sqrt', 'n_estimators': 25}\n",
      "0.889619 (0.015907) with: {'max_depth': None, 'max_features': 'sqrt', 'n_estimators': 50}\n",
      "0.888402 (0.016310) with: {'max_depth': None, 'max_features': 'sqrt', 'n_estimators': 100}\n",
      "0.888970 (0.016332) with: {'max_depth': None, 'max_features': 'sqrt', 'n_estimators': 150}\n",
      "0.890105 (0.015848) with: {'max_depth': None, 'max_features': 'sqrt', 'n_estimators': 250}\n",
      "0.888970 (0.016190) with: {'max_depth': None, 'max_features': 'sqrt', 'n_estimators': 1000}\n",
      "0.880130 (0.016441) with: {'max_depth': None, 'max_features': 'log2', 'n_estimators': 10}\n",
      "0.884996 (0.016852) with: {'max_depth': None, 'max_features': 'log2', 'n_estimators': 25}\n",
      "0.887510 (0.015512) with: {'max_depth': None, 'max_features': 'log2', 'n_estimators': 50}\n",
      "0.887429 (0.015921) with: {'max_depth': None, 'max_features': 'log2', 'n_estimators': 100}\n",
      "0.888402 (0.016254) with: {'max_depth': None, 'max_features': 'log2', 'n_estimators': 150}\n",
      "0.888646 (0.014893) with: {'max_depth': None, 'max_features': 'log2', 'n_estimators': 250}\n",
      "0.888483 (0.015898) with: {'max_depth': None, 'max_features': 'log2', 'n_estimators': 1000}\n",
      "0.881103 (0.018223) with: {'max_depth': 5, 'max_features': 'sqrt', 'n_estimators': 10}\n",
      "0.876237 (0.014947) with: {'max_depth': 5, 'max_features': 'sqrt', 'n_estimators': 25}\n",
      "0.882563 (0.013777) with: {'max_depth': 5, 'max_features': 'sqrt', 'n_estimators': 50}\n",
      "0.878670 (0.014128) with: {'max_depth': 5, 'max_features': 'sqrt', 'n_estimators': 100}\n",
      "0.880535 (0.016763) with: {'max_depth': 5, 'max_features': 'sqrt', 'n_estimators': 150}\n",
      "0.881752 (0.011554) with: {'max_depth': 5, 'max_features': 'sqrt', 'n_estimators': 250}\n",
      "0.882238 (0.014790) with: {'max_depth': 5, 'max_features': 'sqrt', 'n_estimators': 1000}\n",
      "0.866342 (0.011990) with: {'max_depth': 5, 'max_features': 'log2', 'n_estimators': 10}\n",
      "0.870803 (0.010686) with: {'max_depth': 5, 'max_features': 'log2', 'n_estimators': 25}\n",
      "0.864558 (0.009603) with: {'max_depth': 5, 'max_features': 'log2', 'n_estimators': 50}\n",
      "0.866586 (0.007391) with: {'max_depth': 5, 'max_features': 'log2', 'n_estimators': 100}\n",
      "0.871208 (0.011347) with: {'max_depth': 5, 'max_features': 'log2', 'n_estimators': 150}\n",
      "0.868451 (0.008964) with: {'max_depth': 5, 'max_features': 'log2', 'n_estimators': 250}\n",
      "0.868938 (0.009404) with: {'max_depth': 5, 'max_features': 'log2', 'n_estimators': 1000}\n",
      "0.885239 (0.014184) with: {'max_depth': 10, 'max_features': 'sqrt', 'n_estimators': 10}\n",
      "0.888808 (0.015179) with: {'max_depth': 10, 'max_features': 'sqrt', 'n_estimators': 25}\n",
      "0.892944 (0.014038) with: {'max_depth': 10, 'max_features': 'sqrt', 'n_estimators': 50}\n",
      "0.892376 (0.013479) with: {'max_depth': 10, 'max_features': 'sqrt', 'n_estimators': 100}\n",
      "0.891727 (0.014757) with: {'max_depth': 10, 'max_features': 'sqrt', 'n_estimators': 150}\n",
      "0.890916 (0.014487) with: {'max_depth': 10, 'max_features': 'sqrt', 'n_estimators': 250}\n",
      "0.891646 (0.014725) with: {'max_depth': 10, 'max_features': 'sqrt', 'n_estimators': 1000}\n",
      "0.890916 (0.016079) with: {'max_depth': 10, 'max_features': 'log2', 'n_estimators': 10}\n",
      "0.889862 (0.013748) with: {'max_depth': 10, 'max_features': 'log2', 'n_estimators': 25}\n",
      "0.889700 (0.014490) with: {'max_depth': 10, 'max_features': 'log2', 'n_estimators': 50}\n",
      "0.891160 (0.014293) with: {'max_depth': 10, 'max_features': 'log2', 'n_estimators': 100}\n",
      "0.892214 (0.012969) with: {'max_depth': 10, 'max_features': 'log2', 'n_estimators': 150}\n",
      "0.890592 (0.013951) with: {'max_depth': 10, 'max_features': 'log2', 'n_estimators': 250}\n",
      "0.891809 (0.012492) with: {'max_depth': 10, 'max_features': 'log2', 'n_estimators': 1000}\n",
      "0.879400 (0.015668) with: {'max_depth': 20, 'max_features': 'sqrt', 'n_estimators': 10}\n",
      "0.886131 (0.017243) with: {'max_depth': 20, 'max_features': 'sqrt', 'n_estimators': 25}\n",
      "0.888808 (0.014979) with: {'max_depth': 20, 'max_features': 'sqrt', 'n_estimators': 50}\n",
      "0.889781 (0.014908) with: {'max_depth': 20, 'max_features': 'sqrt', 'n_estimators': 100}\n",
      "0.888078 (0.014215) with: {'max_depth': 20, 'max_features': 'sqrt', 'n_estimators': 150}\n",
      "0.888078 (0.016111) with: {'max_depth': 20, 'max_features': 'sqrt', 'n_estimators': 250}\n",
      "0.889376 (0.016083) with: {'max_depth': 20, 'max_features': 'sqrt', 'n_estimators': 1000}\n",
      "0.879562 (0.014752) with: {'max_depth': 20, 'max_features': 'log2', 'n_estimators': 10}\n",
      "0.885888 (0.017266) with: {'max_depth': 20, 'max_features': 'log2', 'n_estimators': 25}\n",
      "0.885564 (0.017153) with: {'max_depth': 20, 'max_features': 'log2', 'n_estimators': 50}\n",
      "0.885969 (0.015513) with: {'max_depth': 20, 'max_features': 'log2', 'n_estimators': 100}\n",
      "0.887591 (0.015445) with: {'max_depth': 20, 'max_features': 'log2', 'n_estimators': 150}\n",
      "0.888889 (0.014558) with: {'max_depth': 20, 'max_features': 'log2', 'n_estimators': 250}\n",
      "0.889700 (0.015533) with: {'max_depth': 20, 'max_features': 'log2', 'n_estimators': 1000}\n",
      "0.881833 (0.018362) with: {'max_depth': 50, 'max_features': 'sqrt', 'n_estimators': 10}\n",
      "0.884185 (0.017473) with: {'max_depth': 50, 'max_features': 'sqrt', 'n_estimators': 25}\n",
      "0.888402 (0.018295) with: {'max_depth': 50, 'max_features': 'sqrt', 'n_estimators': 50}\n",
      "0.887591 (0.016335) with: {'max_depth': 50, 'max_features': 'sqrt', 'n_estimators': 100}\n",
      "0.888240 (0.016593) with: {'max_depth': 50, 'max_features': 'sqrt', 'n_estimators': 150}\n",
      "0.888646 (0.015435) with: {'max_depth': 50, 'max_features': 'sqrt', 'n_estimators': 250}\n",
      "0.888970 (0.016287) with: {'max_depth': 50, 'max_features': 'sqrt', 'n_estimators': 1000}\n",
      "0.880941 (0.018586) with: {'max_depth': 50, 'max_features': 'log2', 'n_estimators': 10}\n",
      "0.887510 (0.015268) with: {'max_depth': 50, 'max_features': 'log2', 'n_estimators': 25}\n",
      "0.887024 (0.016578) with: {'max_depth': 50, 'max_features': 'log2', 'n_estimators': 50}\n",
      "0.885969 (0.017171) with: {'max_depth': 50, 'max_features': 'log2', 'n_estimators': 100}\n",
      "0.887591 (0.014947) with: {'max_depth': 50, 'max_features': 'log2', 'n_estimators': 150}\n",
      "0.887510 (0.016574) with: {'max_depth': 50, 'max_features': 'log2', 'n_estimators': 250}\n",
      "0.888564 (0.015187) with: {'max_depth': 50, 'max_features': 'log2', 'n_estimators': 1000}\n",
      "0.882644 (0.018604) with: {'max_depth': 100, 'max_features': 'sqrt', 'n_estimators': 10}\n",
      "0.885969 (0.016021) with: {'max_depth': 100, 'max_features': 'sqrt', 'n_estimators': 25}\n",
      "0.886212 (0.015320) with: {'max_depth': 100, 'max_features': 'sqrt', 'n_estimators': 50}\n",
      "0.888402 (0.015295) with: {'max_depth': 100, 'max_features': 'sqrt', 'n_estimators': 100}\n",
      "0.888240 (0.015888) with: {'max_depth': 100, 'max_features': 'sqrt', 'n_estimators': 150}\n",
      "0.888321 (0.014836) with: {'max_depth': 100, 'max_features': 'sqrt', 'n_estimators': 250}\n",
      "0.889213 (0.015491) with: {'max_depth': 100, 'max_features': 'sqrt', 'n_estimators': 1000}\n",
      "0.884509 (0.014409) with: {'max_depth': 100, 'max_features': 'log2', 'n_estimators': 10}\n",
      "0.885320 (0.015542) with: {'max_depth': 100, 'max_features': 'log2', 'n_estimators': 25}\n",
      "0.889700 (0.016172) with: {'max_depth': 100, 'max_features': 'log2', 'n_estimators': 50}\n",
      "0.887267 (0.014485) with: {'max_depth': 100, 'max_features': 'log2', 'n_estimators': 100}\n",
      "0.887916 (0.015451) with: {'max_depth': 100, 'max_features': 'log2', 'n_estimators': 150}\n",
      "0.887267 (0.015268) with: {'max_depth': 100, 'max_features': 'log2', 'n_estimators': 250}\n",
      "0.888402 (0.015525) with: {'max_depth': 100, 'max_features': 'log2', 'n_estimators': 1000}\n"
     ]
    }
   ],
   "source": [
    "# summarize results\n",
    "print(\"Best: %f using %s\" % (grid_result.best_score_, grid_result.best_params_))\n",
    "means = grid_result.cv_results_['mean_test_score']\n",
    "stds = grid_result.cv_results_['std_test_score']\n",
    "params = grid_result.cv_results_['params']\n",
    "for mean, stdev, param in zip(means, stds, params):\n",
    "    print(\"%f (%f) with: %r\" % (mean, stdev, param))"
   ]
  },
  {
   "cell_type": "markdown",
   "id": "a15deb77",
   "metadata": {},
   "source": [
    " ### Randomized Search"
   ]
  },
  {
   "cell_type": "code",
   "execution_count": 32,
   "id": "b897256a",
   "metadata": {},
   "outputs": [
    {
     "name": "stdout",
     "output_type": "stream",
     "text": [
      "Fitting 10 folds for each of 10 candidates, totalling 100 fits\n"
     ]
    },
    {
     "data": {
      "text/plain": [
       "RandomizedSearchCV(cv=10, estimator=RandomForestClassifier(), n_jobs=-1,\n",
       "                   param_distributions={'max_depth': [None, 5, 10, 20, 50, 100],\n",
       "                                        'max_features': ['sqrt', 'log2'],\n",
       "                                        'n_estimators': [10, 25, 50, 100, 150,\n",
       "                                                         250, 1000]},\n",
       "                   random_state=2535, scoring='neg_mean_squared_error',\n",
       "                   verbose=2)"
      ]
     },
     "execution_count": 32,
     "metadata": {},
     "output_type": "execute_result"
    }
   ],
   "source": [
    "from sklearn.model_selection import RandomizedSearchCV\n",
    "\n",
    "rf_random = RandomizedSearchCV(estimator = model, param_distributions = grid, n_iter = 10, cv = 10, verbose=2, random_state=2535, n_jobs = -1, scoring='neg_mean_squared_error')\n",
    "# Fit the random search model\n",
    "rf_random.fit(X_train, y_train)"
   ]
  },
  {
   "cell_type": "code",
   "execution_count": 33,
   "id": "ff44a492",
   "metadata": {},
   "outputs": [
    {
     "name": "stdout",
     "output_type": "stream",
     "text": [
      "Best: nan using {'n_estimators': 150, 'max_features': 'log2', 'max_depth': 10}\n",
      "nan (nan) with: {'n_estimators': 150, 'max_features': 'log2', 'max_depth': 10}\n",
      "nan (nan) with: {'n_estimators': 50, 'max_features': 'log2', 'max_depth': 100}\n",
      "nan (nan) with: {'n_estimators': 150, 'max_features': 'log2', 'max_depth': 100}\n",
      "nan (nan) with: {'n_estimators': 50, 'max_features': 'log2', 'max_depth': 5}\n",
      "nan (nan) with: {'n_estimators': 1000, 'max_features': 'sqrt', 'max_depth': 5}\n",
      "nan (nan) with: {'n_estimators': 25, 'max_features': 'log2', 'max_depth': 50}\n",
      "nan (nan) with: {'n_estimators': 10, 'max_features': 'log2', 'max_depth': 20}\n",
      "nan (nan) with: {'n_estimators': 1000, 'max_features': 'sqrt', 'max_depth': None}\n",
      "nan (nan) with: {'n_estimators': 1000, 'max_features': 'log2', 'max_depth': 100}\n",
      "nan (nan) with: {'n_estimators': 250, 'max_features': 'sqrt', 'max_depth': None}\n"
     ]
    }
   ],
   "source": [
    "# summarize results\n",
    "print(\"Best: %f using %s\" % (rf_random.best_score_, rf_random.best_params_))\n",
    "means = rf_random.cv_results_['mean_test_score']\n",
    "stds = rf_random.cv_results_['std_test_score']\n",
    "params = rf_random.cv_results_['params']\n",
    "for mean, stdev, param in zip(means, stds, params):\n",
    "    print(\"%f (%f) with: %r\" % (mean, stdev, param))\n",
    "    "
   ]
  },
  {
   "cell_type": "markdown",
   "id": "a7f0aa47",
   "metadata": {},
   "source": [
    "### Grid search with muplitle estimator"
   ]
  },
  {
   "cell_type": "code",
   "execution_count": 68,
   "id": "f6414473",
   "metadata": {},
   "outputs": [],
   "source": [
    "Names=['RandomForest','Bagging','Gradient Boosting','XGBoost']\n",
    "Models=[RandomForestClassifier(),BaggingClassifier(),\n",
    "        GradientBoostingClassifier(),XGBClassifier()]\n",
    "Grids=[{'n_estimators': n_estimators,'max_features': max_features,'max_depth': max_depth},\n",
    "       {'n_estimators':'n_estimators'},\n",
    "       {'n_estimators':n_estimators, 'max_depth':max_depth},\n",
    "       {'min_child_weight': [1, 5, 10],'gamma': [0.5, 1, 1.5, 2, 5], 'subsample': [0.6, 0.8, 1.0],\n",
    "        'colsample_bytree': [0.6, 0.8, 1.0],'max_depth': [3, 4, 5]}]"
   ]
  },
  {
   "cell_type": "code",
   "execution_count": 41,
   "id": "377f051c",
   "metadata": {},
   "outputs": [
    {
     "name": "stdout",
     "output_type": "stream",
     "text": [
      "Logistic\n",
      "Best : 0.882157 using {'C': 0.001, 'penalty': 'l2'}\n",
      "0.000000 (0.000000) with: {'C': 0.001, 'penalty': 'l1'}\n",
      "0.882157 (0.014326) with: {'C': 0.001, 'penalty': 'l2'}\n",
      "0.000000 (0.000000) with: {'C': 0.01, 'penalty': 'l1'}\n",
      "0.880130 (0.015830) with: {'C': 0.01, 'penalty': 'l2'}\n",
      "0.000000 (0.000000) with: {'C': 0.1, 'penalty': 'l1'}\n",
      "0.881427 (0.013953) with: {'C': 0.1, 'penalty': 'l2'}\n",
      "0.000000 (0.000000) with: {'C': 1.0, 'penalty': 'l1'}\n",
      "0.880941 (0.014302) with: {'C': 1.0, 'penalty': 'l2'}\n",
      "0.000000 (0.000000) with: {'C': 10.0, 'penalty': 'l1'}\n",
      "0.880130 (0.015293) with: {'C': 10.0, 'penalty': 'l2'}\n",
      "0.000000 (0.000000) with: {'C': 100.0, 'penalty': 'l1'}\n",
      "0.879968 (0.014440) with: {'C': 100.0, 'penalty': 'l2'}\n",
      "0.000000 (0.000000) with: {'C': 1000.0, 'penalty': 'l1'}\n",
      "0.880292 (0.014841) with: {'C': 1000.0, 'penalty': 'l2'}\n",
      "RandomForest\n",
      "Best : 0.892944 using {'max_depth': 10, 'max_features': 'sqrt', 'n_estimators': 50}\n",
      "0.884753 (0.013602) with: {'max_depth': None, 'max_features': 'sqrt', 'n_estimators': 10}\n",
      "0.887186 (0.014632) with: {'max_depth': None, 'max_features': 'sqrt', 'n_estimators': 25}\n",
      "0.888321 (0.016857) with: {'max_depth': None, 'max_features': 'sqrt', 'n_estimators': 50}\n",
      "0.887997 (0.015703) with: {'max_depth': None, 'max_features': 'sqrt', 'n_estimators': 100}\n",
      "0.888483 (0.016095) with: {'max_depth': None, 'max_features': 'sqrt', 'n_estimators': 150}\n",
      "0.888402 (0.014911) with: {'max_depth': None, 'max_features': 'sqrt', 'n_estimators': 250}\n",
      "0.888808 (0.015778) with: {'max_depth': None, 'max_features': 'sqrt', 'n_estimators': 1000}\n",
      "0.881427 (0.014562) with: {'max_depth': None, 'max_features': 'log2', 'n_estimators': 10}\n",
      "0.886050 (0.017825) with: {'max_depth': None, 'max_features': 'log2', 'n_estimators': 25}\n",
      "0.885320 (0.015976) with: {'max_depth': None, 'max_features': 'log2', 'n_estimators': 50}\n",
      "0.888078 (0.016366) with: {'max_depth': None, 'max_features': 'log2', 'n_estimators': 100}\n",
      "0.886861 (0.016642) with: {'max_depth': None, 'max_features': 'log2', 'n_estimators': 150}\n",
      "0.888078 (0.014977) with: {'max_depth': None, 'max_features': 'log2', 'n_estimators': 250}\n",
      "0.888727 (0.015168) with: {'max_depth': None, 'max_features': 'log2', 'n_estimators': 1000}\n",
      "0.885726 (0.015649) with: {'max_depth': 5, 'max_features': 'sqrt', 'n_estimators': 10}\n",
      "0.882076 (0.011602) with: {'max_depth': 5, 'max_features': 'sqrt', 'n_estimators': 25}\n",
      "0.882563 (0.016612) with: {'max_depth': 5, 'max_features': 'sqrt', 'n_estimators': 50}\n",
      "0.881265 (0.014938) with: {'max_depth': 5, 'max_features': 'sqrt', 'n_estimators': 100}\n",
      "0.881914 (0.012194) with: {'max_depth': 5, 'max_features': 'sqrt', 'n_estimators': 150}\n",
      "0.881022 (0.014773) with: {'max_depth': 5, 'max_features': 'sqrt', 'n_estimators': 250}\n",
      "0.883455 (0.015143) with: {'max_depth': 5, 'max_features': 'sqrt', 'n_estimators': 1000}\n",
      "0.865856 (0.018962) with: {'max_depth': 5, 'max_features': 'log2', 'n_estimators': 10}\n",
      "0.869019 (0.010331) with: {'max_depth': 5, 'max_features': 'log2', 'n_estimators': 25}\n",
      "0.869262 (0.010517) with: {'max_depth': 5, 'max_features': 'log2', 'n_estimators': 50}\n",
      "0.866018 (0.006909) with: {'max_depth': 5, 'max_features': 'log2', 'n_estimators': 100}\n",
      "0.867153 (0.009711) with: {'max_depth': 5, 'max_features': 'log2', 'n_estimators': 150}\n",
      "0.866586 (0.009727) with: {'max_depth': 5, 'max_features': 'log2', 'n_estimators': 250}\n",
      "0.866504 (0.008152) with: {'max_depth': 5, 'max_features': 'log2', 'n_estimators': 1000}\n",
      "0.886618 (0.017066) with: {'max_depth': 10, 'max_features': 'sqrt', 'n_estimators': 10}\n",
      "0.889457 (0.014215) with: {'max_depth': 10, 'max_features': 'sqrt', 'n_estimators': 25}\n",
      "0.892944 (0.013297) with: {'max_depth': 10, 'max_features': 'sqrt', 'n_estimators': 50}\n",
      "0.890349 (0.015024) with: {'max_depth': 10, 'max_features': 'sqrt', 'n_estimators': 100}\n",
      "0.891890 (0.014831) with: {'max_depth': 10, 'max_features': 'sqrt', 'n_estimators': 150}\n",
      "0.891241 (0.014161) with: {'max_depth': 10, 'max_features': 'sqrt', 'n_estimators': 250}\n",
      "0.892052 (0.015136) with: {'max_depth': 10, 'max_features': 'sqrt', 'n_estimators': 1000}\n",
      "0.881914 (0.015187) with: {'max_depth': 10, 'max_features': 'log2', 'n_estimators': 10}\n",
      "0.887186 (0.013622) with: {'max_depth': 10, 'max_features': 'log2', 'n_estimators': 25}\n",
      "0.891079 (0.014599) with: {'max_depth': 10, 'max_features': 'log2', 'n_estimators': 50}\n",
      "0.890916 (0.014267) with: {'max_depth': 10, 'max_features': 'log2', 'n_estimators': 100}\n",
      "0.891484 (0.015366) with: {'max_depth': 10, 'max_features': 'log2', 'n_estimators': 150}\n",
      "0.890835 (0.014142) with: {'max_depth': 10, 'max_features': 'log2', 'n_estimators': 250}\n",
      "0.891565 (0.013153) with: {'max_depth': 10, 'max_features': 'log2', 'n_estimators': 1000}\n",
      "0.879886 (0.017925) with: {'max_depth': 20, 'max_features': 'sqrt', 'n_estimators': 10}\n",
      "0.885320 (0.017194) with: {'max_depth': 20, 'max_features': 'sqrt', 'n_estimators': 25}\n",
      "0.887997 (0.017083) with: {'max_depth': 20, 'max_features': 'sqrt', 'n_estimators': 50}\n",
      "0.888564 (0.016225) with: {'max_depth': 20, 'max_features': 'sqrt', 'n_estimators': 100}\n",
      "0.888564 (0.016197) with: {'max_depth': 20, 'max_features': 'sqrt', 'n_estimators': 150}\n",
      "0.889294 (0.016447) with: {'max_depth': 20, 'max_features': 'sqrt', 'n_estimators': 250}\n",
      "0.889862 (0.016256) with: {'max_depth': 20, 'max_features': 'sqrt', 'n_estimators': 1000}\n",
      "0.881184 (0.015144) with: {'max_depth': 20, 'max_features': 'log2', 'n_estimators': 10}\n",
      "0.886699 (0.015242) with: {'max_depth': 20, 'max_features': 'log2', 'n_estimators': 25}\n",
      "0.887105 (0.015570) with: {'max_depth': 20, 'max_features': 'log2', 'n_estimators': 50}\n",
      "0.886861 (0.016901) with: {'max_depth': 20, 'max_features': 'log2', 'n_estimators': 100}\n",
      "0.887672 (0.016367) with: {'max_depth': 20, 'max_features': 'log2', 'n_estimators': 150}\n",
      "0.888970 (0.015820) with: {'max_depth': 20, 'max_features': 'log2', 'n_estimators': 250}\n",
      "0.888321 (0.014169) with: {'max_depth': 20, 'max_features': 'log2', 'n_estimators': 1000}\n",
      "0.881590 (0.016625) with: {'max_depth': 50, 'max_features': 'sqrt', 'n_estimators': 10}\n",
      "0.887267 (0.016779) with: {'max_depth': 50, 'max_features': 'sqrt', 'n_estimators': 25}\n",
      "0.888646 (0.015722) with: {'max_depth': 50, 'max_features': 'sqrt', 'n_estimators': 50}\n",
      "0.888402 (0.015513) with: {'max_depth': 50, 'max_features': 'sqrt', 'n_estimators': 100}\n",
      "0.888808 (0.016010) with: {'max_depth': 50, 'max_features': 'sqrt', 'n_estimators': 150}\n",
      "0.888402 (0.016042) with: {'max_depth': 50, 'max_features': 'sqrt', 'n_estimators': 250}\n",
      "0.888970 (0.016198) with: {'max_depth': 50, 'max_features': 'sqrt', 'n_estimators': 1000}\n",
      "0.879724 (0.017806) with: {'max_depth': 50, 'max_features': 'log2', 'n_estimators': 10}\n",
      "0.883942 (0.016352) with: {'max_depth': 50, 'max_features': 'log2', 'n_estimators': 25}\n",
      "0.886456 (0.016037) with: {'max_depth': 50, 'max_features': 'log2', 'n_estimators': 50}\n",
      "0.888321 (0.017247) with: {'max_depth': 50, 'max_features': 'log2', 'n_estimators': 100}\n",
      "0.890024 (0.014258) with: {'max_depth': 50, 'max_features': 'log2', 'n_estimators': 150}\n",
      "0.888808 (0.015577) with: {'max_depth': 50, 'max_features': 'log2', 'n_estimators': 250}\n",
      "0.888402 (0.015487) with: {'max_depth': 50, 'max_features': 'log2', 'n_estimators': 1000}\n",
      "0.883861 (0.016481) with: {'max_depth': 100, 'max_features': 'sqrt', 'n_estimators': 10}\n",
      "0.886294 (0.015033) with: {'max_depth': 100, 'max_features': 'sqrt', 'n_estimators': 25}\n",
      "0.885969 (0.017247) with: {'max_depth': 100, 'max_features': 'sqrt', 'n_estimators': 50}\n",
      "0.887591 (0.015848) with: {'max_depth': 100, 'max_features': 'sqrt', 'n_estimators': 100}\n",
      "0.888321 (0.017124) with: {'max_depth': 100, 'max_features': 'sqrt', 'n_estimators': 150}\n",
      "0.889943 (0.016033) with: {'max_depth': 100, 'max_features': 'sqrt', 'n_estimators': 250}\n",
      "0.889781 (0.015758) with: {'max_depth': 100, 'max_features': 'sqrt', 'n_estimators': 1000}\n",
      "0.881671 (0.014987) with: {'max_depth': 100, 'max_features': 'log2', 'n_estimators': 10}\n",
      "0.886050 (0.014912) with: {'max_depth': 100, 'max_features': 'log2', 'n_estimators': 25}\n",
      "0.888321 (0.015930) with: {'max_depth': 100, 'max_features': 'log2', 'n_estimators': 50}\n",
      "0.887753 (0.016009) with: {'max_depth': 100, 'max_features': 'log2', 'n_estimators': 100}\n",
      "0.889132 (0.016017) with: {'max_depth': 100, 'max_features': 'log2', 'n_estimators': 150}\n",
      "0.888483 (0.014872) with: {'max_depth': 100, 'max_features': 'log2', 'n_estimators': 250}\n",
      "0.888727 (0.015400) with: {'max_depth': 100, 'max_features': 'log2', 'n_estimators': 1000}\n"
     ]
    }
   ],
   "source": [
    "for i in range(len(Names)):\n",
    "    grid_search = GridSearchCV(estimator=Models[i], param_grid=Grids[i], n_jobs=-1, cv=10, scoring='accuracy',error_score=0)\n",
    "    grid_result = grid_search.fit(X, y)\n",
    "    print(Names[i])\n",
    "    print(\"Best : %f using %s\" % (grid_result.best_score_, grid_result.best_params_))\n",
    "    means = grid_result.cv_results_['mean_test_score']\n",
    "    stds = grid_result.cv_results_['std_test_score']\n",
    "    params = grid_result.cv_results_['params']\n",
    "    for mean, stdev, param in zip(means, stds, params):\n",
    "        print(\"%f (%f) with: %r\" % (mean, stdev, param))"
   ]
  }
 ],
 "metadata": {
  "kernelspec": {
   "display_name": "Python 3",
   "language": "python",
   "name": "python3"
  },
  "language_info": {
   "codemirror_mode": {
    "name": "ipython",
    "version": 3
   },
   "file_extension": ".py",
   "mimetype": "text/x-python",
   "name": "python",
   "nbconvert_exporter": "python",
   "pygments_lexer": "ipython3",
   "version": "3.8.5"
  }
 },
 "nbformat": 4,
 "nbformat_minor": 5
}
