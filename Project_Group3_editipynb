{
 "cells": [
  {
   "cell_type": "markdown",
   "id": "b2fc344f-4569-4a5a-affb-2a2bfcf3789c",
   "metadata": {
    "id": "C-wZ7CG-DiKQ"
   },
   "source": [
    "# Project"
   ]
  },
  {
   "cell_type": "markdown",
   "id": "d0005c5c-9f5c-48aa-b307-cd7e856add3e",
   "metadata": {},
   "source": [
    "#### Group3 - Lin Meng - lm1398\n",
    "#### Group3 - Pedro Barbosa - pvb16\n",
    "#### Group3 - Yiming Yu - yy628"
   ]
  },
  {
   "cell_type": "markdown",
   "id": "5538b50a-7308-420c-9a99-0fd9904a12d5",
   "metadata": {
    "id": "SAS8Ge2kfEsW"
   },
   "source": [
    "<hr>"
   ]
  },
  {
   "cell_type": "markdown",
   "id": "3ca0e859-4ac0-44d0-8170-ed4b5dcc4a72",
   "metadata": {},
   "source": [
    "## Loading packages"
   ]
  },
  {
   "cell_type": "markdown",
   "id": "984d3be5",
   "metadata": {},
   "source": [
    "Show the first 5 lines of data to get an idea how the dataset looks like."
   ]
  },
  {
   "cell_type": "code",
   "execution_count": 1,
   "id": "d8c5bac0-b7b6-4e17-907e-e5a15ed3734f",
   "metadata": {},
   "outputs": [],
   "source": [
    "import pandas as pd\n",
    "import numpy as np\n",
    "import matplotlib.pyplot as plt\n",
    "import seaborn as sns\n",
    "import plotly.express as px\n",
    "from plotly.subplots import make_subplots\n",
    "import plotly.graph_objs as go"
   ]
  },
  {
   "cell_type": "markdown",
   "id": "499704ea-e6b3-4706-be95-441f57d43ab0",
   "metadata": {},
   "source": [
    "### Loading data"
   ]
  },
  {
   "cell_type": "markdown",
   "id": "984d3be5",
   "metadata": {},
   "source": [
    "Show the first 5 lines of data to get an idea how the dataset looks like."
   ]
  },
  {
   "cell_type": "code",
   "execution_count": 2,
   "id": "b0c8029e-1fe9-424e-93c3-e9a6892adfdc",
   "metadata": {},
   "outputs": [
    {
     "data": {
      "text/html": [
       "<div>\n",
       "<style scoped>\n",
       "    .dataframe tbody tr th:only-of-type {\n",
       "        vertical-align: middle;\n",
       "    }\n",
       "\n",
       "    .dataframe tbody tr th {\n",
       "        vertical-align: top;\n",
       "    }\n",
       "\n",
       "    .dataframe thead th {\n",
       "        text-align: right;\n",
       "    }\n",
       "</style>\n",
       "<table border=\"1\" class=\"dataframe\">\n",
       "  <thead>\n",
       "    <tr style=\"text-align: right;\">\n",
       "      <th></th>\n",
       "      <th>age</th>\n",
       "      <th>job</th>\n",
       "      <th>marital</th>\n",
       "      <th>education</th>\n",
       "      <th>default</th>\n",
       "      <th>housing</th>\n",
       "      <th>loan</th>\n",
       "      <th>contact</th>\n",
       "      <th>month</th>\n",
       "      <th>day_of_week</th>\n",
       "      <th>...</th>\n",
       "      <th>campaign</th>\n",
       "      <th>pdays</th>\n",
       "      <th>previous</th>\n",
       "      <th>poutcome</th>\n",
       "      <th>emp.var.rate</th>\n",
       "      <th>cons.price.idx</th>\n",
       "      <th>cons.conf.idx</th>\n",
       "      <th>euribor3m</th>\n",
       "      <th>nr.employed</th>\n",
       "      <th>y</th>\n",
       "    </tr>\n",
       "  </thead>\n",
       "  <tbody>\n",
       "    <tr>\n",
       "      <th>0</th>\n",
       "      <td>56</td>\n",
       "      <td>housemaid</td>\n",
       "      <td>married</td>\n",
       "      <td>basic.4y</td>\n",
       "      <td>no</td>\n",
       "      <td>no</td>\n",
       "      <td>no</td>\n",
       "      <td>telephone</td>\n",
       "      <td>may</td>\n",
       "      <td>mon</td>\n",
       "      <td>...</td>\n",
       "      <td>1</td>\n",
       "      <td>999</td>\n",
       "      <td>0</td>\n",
       "      <td>nonexistent</td>\n",
       "      <td>1.1</td>\n",
       "      <td>93.994</td>\n",
       "      <td>-36.4</td>\n",
       "      <td>4.857</td>\n",
       "      <td>5191.0</td>\n",
       "      <td>no</td>\n",
       "    </tr>\n",
       "    <tr>\n",
       "      <th>1</th>\n",
       "      <td>57</td>\n",
       "      <td>services</td>\n",
       "      <td>married</td>\n",
       "      <td>high.school</td>\n",
       "      <td>unknown</td>\n",
       "      <td>no</td>\n",
       "      <td>no</td>\n",
       "      <td>telephone</td>\n",
       "      <td>may</td>\n",
       "      <td>mon</td>\n",
       "      <td>...</td>\n",
       "      <td>1</td>\n",
       "      <td>999</td>\n",
       "      <td>0</td>\n",
       "      <td>nonexistent</td>\n",
       "      <td>1.1</td>\n",
       "      <td>93.994</td>\n",
       "      <td>-36.4</td>\n",
       "      <td>4.857</td>\n",
       "      <td>5191.0</td>\n",
       "      <td>no</td>\n",
       "    </tr>\n",
       "    <tr>\n",
       "      <th>2</th>\n",
       "      <td>37</td>\n",
       "      <td>services</td>\n",
       "      <td>married</td>\n",
       "      <td>high.school</td>\n",
       "      <td>no</td>\n",
       "      <td>yes</td>\n",
       "      <td>no</td>\n",
       "      <td>telephone</td>\n",
       "      <td>may</td>\n",
       "      <td>mon</td>\n",
       "      <td>...</td>\n",
       "      <td>1</td>\n",
       "      <td>999</td>\n",
       "      <td>0</td>\n",
       "      <td>nonexistent</td>\n",
       "      <td>1.1</td>\n",
       "      <td>93.994</td>\n",
       "      <td>-36.4</td>\n",
       "      <td>4.857</td>\n",
       "      <td>5191.0</td>\n",
       "      <td>no</td>\n",
       "    </tr>\n",
       "    <tr>\n",
       "      <th>3</th>\n",
       "      <td>40</td>\n",
       "      <td>admin.</td>\n",
       "      <td>married</td>\n",
       "      <td>basic.6y</td>\n",
       "      <td>no</td>\n",
       "      <td>no</td>\n",
       "      <td>no</td>\n",
       "      <td>telephone</td>\n",
       "      <td>may</td>\n",
       "      <td>mon</td>\n",
       "      <td>...</td>\n",
       "      <td>1</td>\n",
       "      <td>999</td>\n",
       "      <td>0</td>\n",
       "      <td>nonexistent</td>\n",
       "      <td>1.1</td>\n",
       "      <td>93.994</td>\n",
       "      <td>-36.4</td>\n",
       "      <td>4.857</td>\n",
       "      <td>5191.0</td>\n",
       "      <td>no</td>\n",
       "    </tr>\n",
       "    <tr>\n",
       "      <th>4</th>\n",
       "      <td>56</td>\n",
       "      <td>services</td>\n",
       "      <td>married</td>\n",
       "      <td>high.school</td>\n",
       "      <td>no</td>\n",
       "      <td>no</td>\n",
       "      <td>yes</td>\n",
       "      <td>telephone</td>\n",
       "      <td>may</td>\n",
       "      <td>mon</td>\n",
       "      <td>...</td>\n",
       "      <td>1</td>\n",
       "      <td>999</td>\n",
       "      <td>0</td>\n",
       "      <td>nonexistent</td>\n",
       "      <td>1.1</td>\n",
       "      <td>93.994</td>\n",
       "      <td>-36.4</td>\n",
       "      <td>4.857</td>\n",
       "      <td>5191.0</td>\n",
       "      <td>no</td>\n",
       "    </tr>\n",
       "  </tbody>\n",
       "</table>\n",
       "<p>5 rows × 21 columns</p>\n",
       "</div>"
      ],
      "text/plain": [
       "   age        job  marital    education  default housing loan    contact  \\\n",
       "0   56  housemaid  married     basic.4y       no      no   no  telephone   \n",
       "1   57   services  married  high.school  unknown      no   no  telephone   \n",
       "2   37   services  married  high.school       no     yes   no  telephone   \n",
       "3   40     admin.  married     basic.6y       no      no   no  telephone   \n",
       "4   56   services  married  high.school       no      no  yes  telephone   \n",
       "\n",
       "  month day_of_week  ...  campaign  pdays  previous     poutcome emp.var.rate  \\\n",
       "0   may         mon  ...         1    999         0  nonexistent          1.1   \n",
       "1   may         mon  ...         1    999         0  nonexistent          1.1   \n",
       "2   may         mon  ...         1    999         0  nonexistent          1.1   \n",
       "3   may         mon  ...         1    999         0  nonexistent          1.1   \n",
       "4   may         mon  ...         1    999         0  nonexistent          1.1   \n",
       "\n",
       "   cons.price.idx  cons.conf.idx  euribor3m  nr.employed   y  \n",
       "0          93.994          -36.4      4.857       5191.0  no  \n",
       "1          93.994          -36.4      4.857       5191.0  no  \n",
       "2          93.994          -36.4      4.857       5191.0  no  \n",
       "3          93.994          -36.4      4.857       5191.0  no  \n",
       "4          93.994          -36.4      4.857       5191.0  no  \n",
       "\n",
       "[5 rows x 21 columns]"
      ]
     },
     "execution_count": 2,
     "metadata": {},
     "output_type": "execute_result"
    }
   ],
   "source": [
    "df = pd.read_csv(\"bank-additional-full.csv\", sep = \";\")\n",
    "df.head()"
   ]
  },
  {
   "cell_type": "markdown",
   "id": "f885b5df",
   "metadata": {},
   "source": [
    "Use describe function to show the statistical summary like mean, standard deviation, min, and max of each variable in the dataset."
   ]
  },
  {
   "cell_type": "code",
   "execution_count": 3,
   "id": "c4da1a95-a735-4713-85a4-b3dbc975c5d1",
   "metadata": {},
   "outputs": [
    {
     "data": {
      "text/html": [
       "<div>\n",
       "<style scoped>\n",
       "    .dataframe tbody tr th:only-of-type {\n",
       "        vertical-align: middle;\n",
       "    }\n",
       "\n",
       "    .dataframe tbody tr th {\n",
       "        vertical-align: top;\n",
       "    }\n",
       "\n",
       "    .dataframe thead th {\n",
       "        text-align: right;\n",
       "    }\n",
       "</style>\n",
       "<table border=\"1\" class=\"dataframe\">\n",
       "  <thead>\n",
       "    <tr style=\"text-align: right;\">\n",
       "      <th></th>\n",
       "      <th>age</th>\n",
       "      <th>duration</th>\n",
       "      <th>campaign</th>\n",
       "      <th>pdays</th>\n",
       "      <th>previous</th>\n",
       "      <th>emp.var.rate</th>\n",
       "      <th>cons.price.idx</th>\n",
       "      <th>cons.conf.idx</th>\n",
       "      <th>euribor3m</th>\n",
       "      <th>nr.employed</th>\n",
       "    </tr>\n",
       "  </thead>\n",
       "  <tbody>\n",
       "    <tr>\n",
       "      <th>count</th>\n",
       "      <td>41188.00000</td>\n",
       "      <td>41188.000000</td>\n",
       "      <td>41188.000000</td>\n",
       "      <td>41188.000000</td>\n",
       "      <td>41188.000000</td>\n",
       "      <td>41188.000000</td>\n",
       "      <td>41188.000000</td>\n",
       "      <td>41188.000000</td>\n",
       "      <td>41188.000000</td>\n",
       "      <td>41188.000000</td>\n",
       "    </tr>\n",
       "    <tr>\n",
       "      <th>mean</th>\n",
       "      <td>40.02406</td>\n",
       "      <td>258.285010</td>\n",
       "      <td>2.567593</td>\n",
       "      <td>962.475454</td>\n",
       "      <td>0.172963</td>\n",
       "      <td>0.081886</td>\n",
       "      <td>93.575664</td>\n",
       "      <td>-40.502600</td>\n",
       "      <td>3.621291</td>\n",
       "      <td>5167.035911</td>\n",
       "    </tr>\n",
       "    <tr>\n",
       "      <th>std</th>\n",
       "      <td>10.42125</td>\n",
       "      <td>259.279249</td>\n",
       "      <td>2.770014</td>\n",
       "      <td>186.910907</td>\n",
       "      <td>0.494901</td>\n",
       "      <td>1.570960</td>\n",
       "      <td>0.578840</td>\n",
       "      <td>4.628198</td>\n",
       "      <td>1.734447</td>\n",
       "      <td>72.251528</td>\n",
       "    </tr>\n",
       "    <tr>\n",
       "      <th>min</th>\n",
       "      <td>17.00000</td>\n",
       "      <td>0.000000</td>\n",
       "      <td>1.000000</td>\n",
       "      <td>0.000000</td>\n",
       "      <td>0.000000</td>\n",
       "      <td>-3.400000</td>\n",
       "      <td>92.201000</td>\n",
       "      <td>-50.800000</td>\n",
       "      <td>0.634000</td>\n",
       "      <td>4963.600000</td>\n",
       "    </tr>\n",
       "    <tr>\n",
       "      <th>25%</th>\n",
       "      <td>32.00000</td>\n",
       "      <td>102.000000</td>\n",
       "      <td>1.000000</td>\n",
       "      <td>999.000000</td>\n",
       "      <td>0.000000</td>\n",
       "      <td>-1.800000</td>\n",
       "      <td>93.075000</td>\n",
       "      <td>-42.700000</td>\n",
       "      <td>1.344000</td>\n",
       "      <td>5099.100000</td>\n",
       "    </tr>\n",
       "    <tr>\n",
       "      <th>50%</th>\n",
       "      <td>38.00000</td>\n",
       "      <td>180.000000</td>\n",
       "      <td>2.000000</td>\n",
       "      <td>999.000000</td>\n",
       "      <td>0.000000</td>\n",
       "      <td>1.100000</td>\n",
       "      <td>93.749000</td>\n",
       "      <td>-41.800000</td>\n",
       "      <td>4.857000</td>\n",
       "      <td>5191.000000</td>\n",
       "    </tr>\n",
       "    <tr>\n",
       "      <th>75%</th>\n",
       "      <td>47.00000</td>\n",
       "      <td>319.000000</td>\n",
       "      <td>3.000000</td>\n",
       "      <td>999.000000</td>\n",
       "      <td>0.000000</td>\n",
       "      <td>1.400000</td>\n",
       "      <td>93.994000</td>\n",
       "      <td>-36.400000</td>\n",
       "      <td>4.961000</td>\n",
       "      <td>5228.100000</td>\n",
       "    </tr>\n",
       "    <tr>\n",
       "      <th>max</th>\n",
       "      <td>98.00000</td>\n",
       "      <td>4918.000000</td>\n",
       "      <td>56.000000</td>\n",
       "      <td>999.000000</td>\n",
       "      <td>7.000000</td>\n",
       "      <td>1.400000</td>\n",
       "      <td>94.767000</td>\n",
       "      <td>-26.900000</td>\n",
       "      <td>5.045000</td>\n",
       "      <td>5228.100000</td>\n",
       "    </tr>\n",
       "  </tbody>\n",
       "</table>\n",
       "</div>"
      ],
      "text/plain": [
       "               age      duration      campaign         pdays      previous  \\\n",
       "count  41188.00000  41188.000000  41188.000000  41188.000000  41188.000000   \n",
       "mean      40.02406    258.285010      2.567593    962.475454      0.172963   \n",
       "std       10.42125    259.279249      2.770014    186.910907      0.494901   \n",
       "min       17.00000      0.000000      1.000000      0.000000      0.000000   \n",
       "25%       32.00000    102.000000      1.000000    999.000000      0.000000   \n",
       "50%       38.00000    180.000000      2.000000    999.000000      0.000000   \n",
       "75%       47.00000    319.000000      3.000000    999.000000      0.000000   \n",
       "max       98.00000   4918.000000     56.000000    999.000000      7.000000   \n",
       "\n",
       "       emp.var.rate  cons.price.idx  cons.conf.idx     euribor3m   nr.employed  \n",
       "count  41188.000000    41188.000000   41188.000000  41188.000000  41188.000000  \n",
       "mean       0.081886       93.575664     -40.502600      3.621291   5167.035911  \n",
       "std        1.570960        0.578840       4.628198      1.734447     72.251528  \n",
       "min       -3.400000       92.201000     -50.800000      0.634000   4963.600000  \n",
       "25%       -1.800000       93.075000     -42.700000      1.344000   5099.100000  \n",
       "50%        1.100000       93.749000     -41.800000      4.857000   5191.000000  \n",
       "75%        1.400000       93.994000     -36.400000      4.961000   5228.100000  \n",
       "max        1.400000       94.767000     -26.900000      5.045000   5228.100000  "
      ]
     },
     "execution_count": 3,
     "metadata": {},
     "output_type": "execute_result"
    }
   ],
   "source": [
    "df.describe()"
   ]
  },
  {
   "cell_type": "markdown",
   "id": "69b56fa7",
   "metadata": {},
   "source": [
    "## Exploratory Data Analysis"
   ]
  },
  {
   "cell_type": "markdown",
   "id": "a8f44a1b",
   "metadata": {},
   "source": [
    "Creat a histgram for the age."
   ]
  },
  {
   "cell_type": "code",
   "execution_count": 4,
   "metadata": {},
   "outputs": [
    {
     "data": {
      "text/plain": [
       "<AxesSubplot:title={'center':'Age'}, xlabel='age', ylabel='Count'>"
      ]
     },
     "execution_count": 4,
     "metadata": {},
     "output_type": "execute_result"
    },
    {
     "data": {
      "image/png": "[encoded data removed]",
      "text/plain": [
       "<Figure size 500x500 with 1 Axes>"
      ]
     },
     "metadata": {
      "needs_background": "light"
     },
     "output_type": "display_data"
    }
   ],
   "source": [
    "plt.figure(figsize=(5, 5),dpi=100)\n",
    "plt.title(\"Age\")\n",
    "sns.histplot(data=df[\"age\"], bins= 20, color = \"green\")"
   ]
  },
  {
   "cell_type": "markdown",
   "id": "a1919d4b",
   "metadata": {},
   "source": [
    "Creat a histgram for the job type."
   ]
  },
  {
   "cell_type": "code",
   "execution_count": 5,
   "id": "4e3d7d37",
   "metadata": {},
   "outputs": [
    {
     "data": {
      "text/plain": [
       "<AxesSubplot:title={'center':'Job'}, xlabel='job', ylabel='Count'>"
      ]
     },
     "execution_count": 5,
     "metadata": {},
     "output_type": "execute_result"
    },
    {
     "data": {
      "image/png": "[encoded data removed]",
      "text/plain": [
       "<Figure size 500x500 with 1 Axes>"
      ]
     },
     "metadata": {
      "needs_background": "light"
     },
     "output_type": "display_data"
    }
   ],
   "source": [
    "plt.figure(figsize=(5, 5),dpi=100)\n",
    "plt.title(\"Job\")\n",
    "plt.xticks(rotation=90)\n",
    "sns.histplot(data=df[\"job\"], bins= 20)"
   ]
  },
  {
   "cell_type": "markdown",
   "id": "5904f058",
   "metadata": {},
   "source": [
    "Creat a histgram for the marital type."
   ]
  },
  {
   "cell_type": "code",
   "execution_count": 6,
   "id": "75b966c0",
   "metadata": {},
   "outputs": [
    {
     "data": {
      "text/plain": [
       "<AxesSubplot:title={'center':'Marital'}, xlabel='marital', ylabel='Count'>"
      ]
     },
     "execution_count": 6,
     "metadata": {},
     "output_type": "execute_result"
    },
    {
     "data": {
      "image/png": "[encoded data removed]",
      "text/plain": [
       "<Figure size 500x500 with 1 Axes>"
      ]
     },
     "metadata": {
      "needs_background": "light"
     },
     "output_type": "display_data"
    }
   ],
   "source": [
    "plt.figure(figsize=(5, 5),dpi=100)\n",
    "plt.title(\"Marital\")\n",
    "sns.histplot(data=df[\"marital\"], bins= 20, color = \"red\")"
   ]
  },
  {
   "cell_type": "markdown",
   "id": "25891e3a",
   "metadata": {},
   "source": [
    "Creat a histgram for the education level."
   ]
  },
  {
   "cell_type": "code",
   "execution_count": 7,
   "id": "1a18fd8d",
   "metadata": {},
   "outputs": [
    {
     "data": {
      "text/plain": [
       "<AxesSubplot:title={'center':'Education'}, xlabel='education', ylabel='Count'>"
      ]
     },
     "execution_count": 7,
     "metadata": {},
     "output_type": "execute_result"
    },
    {
     "data": {
      "image/png": "[encoded data removed]",
      "text/plain": [
       "<Figure size 500x500 with 1 Axes>"
      ]
     },
     "metadata": {
      "needs_background": "light"
     },
     "output_type": "display_data"
    }
   ],
   "source": [
    "plt.figure(figsize=(5, 5),dpi=100)\n",
    "plt.title(\"Education\")\n",
    "plt.xticks(rotation=90)\n",
    "sns.histplot(data=df[\"education\"], bins= 20, color = \"orange\")"
   ]
  },
  {
   "cell_type": "markdown",
   "id": "3dce69e6",
   "metadata": {},
   "source": [
    "Creat a histgram for the credit default."
   ]
  },
  {
   "cell_type": "code",
   "execution_count": 8,
   "id": "1eb15556",
   "metadata": {},
   "outputs": [
    {
     "data": {
      "text/plain": [
       "<AxesSubplot:title={'center':'Has credit in default?'}, xlabel='default', ylabel='Count'>"
      ]
     },
     "execution_count": 8,
     "metadata": {},
     "output_type": "execute_result"
    },
    {
     "data": {
      "image/png": "[encoded data removed]",
      "text/plain": [
       "<Figure size 500x500 with 1 Axes>"
      ]
     },
     "metadata": {
      "needs_background": "light"
     },
     "output_type": "display_data"
    }
   ],
   "source": [
    "plt.figure(figsize=(5, 5),dpi=100)\n",
    "plt.title(\"Has credit in default?\")\n",
    "sns.histplot(data=df[\"default\"], bins= 20, color = \"green\")"
   ]
  },
  {
   "cell_type": "markdown",
   "id": "aaf36a0b",
   "metadata": {},
   "source": [
    "Creat a histgram for housing loan."
   ]
  },
  {
   "cell_type": "code",
   "execution_count": 9,
   "id": "b989e8da",
   "metadata": {},
   "outputs": [
    {
     "data": {
      "text/plain": [
       "<AxesSubplot:title={'center':'Has housing loan?'}, xlabel='housing', ylabel='Count'>"
      ]
     },
     "execution_count": 9,
     "metadata": {},
     "output_type": "execute_result"
    },
    {
     "data": {
      "image/png": "[encoded data removed]",
      "text/plain": [
       "<Figure size 500x500 with 1 Axes>"
      ]
     },
     "metadata": {
      "needs_background": "light"
     },
     "output_type": "display_data"
    }
   ],
   "source": [
    "plt.figure(figsize=(5, 5),dpi=100)\n",
    "plt.title(\"Has housing loan?\")\n",
    "sns.histplot(data=df[\"housing\"], bins= 20, color = \"yellow\")"
   ]
  },
  {
   "cell_type": "code",
   "execution_count": 10,
   "id": "36ee1ab5",
   "metadata": {},
   "outputs": [
    {
     "data": {
      "text/plain": [
       "<AxesSubplot:title={'center':'Has personal loan?'}, xlabel='loan', ylabel='Count'>"
      ]
     },
     "execution_count": 10,
     "metadata": {},
     "output_type": "execute_result"
    },
    {
     "data": {
      "image/png": "[encoded data removed]",
      "text/plain": [
       "<Figure size 500x500 with 1 Axes>"
      ]
     },
     "metadata": {
      "needs_background": "light"
     },
     "output_type": "display_data"
    }
   ],
   "source": [
    "plt.figure(figsize=(5, 5),dpi=100)\n",
    "plt.title(\"Has personal loan?\")\n",
    "sns.histplot(data=df[\"loan\"], bins= 20, color = \"darkblue\")"
   ]
  },
  {
   "cell_type": "markdown",
   "id": "bb2ed215",
   "metadata": {},
   "source": [
    "Creat a histgram for the contact type."
   ]
  },
  {
   "cell_type": "code",
   "execution_count": 11,
   "id": "39d8207c",
   "metadata": {},
   "outputs": [
    {
     "data": {
      "text/plain": [
       "<AxesSubplot:title={'center':'Contact type'}, xlabel='contact', ylabel='Count'>"
      ]
     },
     "execution_count": 11,
     "metadata": {},
     "output_type": "execute_result"
    },
    {
     "data": {
      "image/png": "[encoded data removed]",
      "text/plain": [
       "<Figure size 500x500 with 1 Axes>"
      ]
     },
     "metadata": {
      "needs_background": "light"
     },
     "output_type": "display_data"
    }
   ],
   "source": [
    "plt.figure(figsize=(5, 5),dpi=100)\n",
    "plt.title(\"Contact type\")\n",
    "sns.histplot(data=df[\"contact\"], bins= 20, color = \"darkorange\")"
   ]
  },
  {
   "cell_type": "markdown",
   "id": "3a3f8299",
   "metadata": {},
   "source": [
    "Creat a histgram for the target class."
   ]
  },
  {
   "cell_type": "code",
   "execution_count": 12,
   "id": "53fd8e30",
   "metadata": {},
   "outputs": [
    {
     "data": {
      "text/plain": [
       "<AxesSubplot:title={'center':'Target Class'}, xlabel='y', ylabel='Count'>"
      ]
     },
     "execution_count": 12,
     "metadata": {},
     "output_type": "execute_result"
    },
    {
     "data": {
      "image/png": "[encoded data removed]",
      "text/plain": [
       "<Figure size 500x500 with 1 Axes>"
      ]
     },
     "metadata": {
      "needs_background": "light"
     },
     "output_type": "display_data"
    }
   ],
   "source": [
    "plt.figure(figsize=(5, 5),dpi=100)\n",
    "plt.title(\"Target Class\")\n",
    "sns.histplot(data=df[\"y\"], color = \"darkorange\")"
   ]
  },
  {
   "cell_type": "markdown",
   "id": "e2fa44fa",
   "metadata": {},
   "source": [
    "Creat a bar plot for the last contact month."
   ]
  },
  {
   "cell_type": "code",
   "execution_count": 13,
   "id": "7f3a2c3f",
   "metadata": {},
   "outputs": [
    {
     "data": {
      "text/plain": [
       "<AxesSubplot:title={'center':'Last contact month'}, xlabel='month', ylabel='count'>"
      ]
     },
     "execution_count": 13,
     "metadata": {},
     "output_type": "execute_result"
    },
    {
     "data": {
      "image/png": "[encoded data removed]",
      "text/plain": [
       "<Figure size 500x500 with 1 Axes>"
      ]
     },
     "metadata": {
      "needs_background": "light"
     },
     "output_type": "display_data"
    }
   ],
   "source": [
    "plt.figure(figsize=(5, 5),dpi=100)\n",
    "plt.title(\"Last contact month\")\n",
    "month_order = [\"mar\", \"apr\", \"may\", \"jun\", \"jul\", \"aug\", \"sep\", \"oct\", \"nov\", \"dec\"]\n",
    "sns.countplot(x = \"month\", data=df, color = \"lightblue\", order = month_order)"
   ]
  },
  {
   "cell_type": "markdown",
   "id": "0438b1f9",
   "metadata": {},
   "source": [
    "Creat a hbar plot for the last contact day of week."
   ]
  },
  {
   "cell_type": "code",
   "execution_count": 14,
   "id": "7f3a2c3f",
   "metadata": {},
   "outputs": [
    {
     "data": {
      "text/plain": [
       "<AxesSubplot:title={'center':'Last contact day of the week'}, xlabel='day_of_week', ylabel='count'>"
      ]
     },
     "execution_count": 14,
     "metadata": {},
     "output_type": "execute_result"
    },
    {
     "data": {
      "image/png": "[encoded data removed]",
      "text/plain": [
       "<Figure size 500x500 with 1 Axes>"
      ]
     },
     "metadata": {
      "needs_background": "light"
     },
     "output_type": "display_data"
    }
   ],
   "source": [
    "plt.figure(figsize=(5, 5),dpi=100)\n",
    "plt.title(\"Last contact day of the week\")\n",
    "week_order = [\"mon\", \"tue\", \"wed\", \"thu\", \"fri\"]\n",
    "sns.countplot(x = \"day_of_week\", data=df, color = \"lightgreen\", order = week_order)"
   ]
  },
  {
   "cell_type": "markdown",
   "id": "7b0b2bd4",
   "metadata": {},
   "source": [
    "Creat a histgram for the contact duration."
   ]
  },
  {
   "cell_type": "code",
   "execution_count": 15,
   "id": "b40d3d6c",
   "metadata": {},
   "outputs": [
    {
     "data": {
      "text/plain": [
       "<AxesSubplot:title={'center':'Last contact duration [min]'}, xlabel='duration', ylabel='Count'>"
      ]
     },
     "execution_count": 15,
     "metadata": {},
     "output_type": "execute_result"
    },
    {
     "data": {
      "image/png": "[encoded data removed]",
      "text/plain": [
       "<Figure size 500x500 with 1 Axes>"
      ]
     },
     "metadata": {
      "needs_background": "light"
     },
     "output_type": "display_data"
    }
   ],
   "source": [
    "plt.figure(figsize=(5, 5),dpi=100)\n",
    "plt.title(\"Last contact duration [min]\")\n",
    "sns.histplot(data=df[\"duration\"][df[\"duration\"]<1000]/60, bins= 10, color = \"pink\")"
   ]
  },
  {
   "cell_type": "markdown",
   "id": "36eccfd1",
   "metadata": {},
   "source": [
    "Creat a histgram for the number of contacts during campaign."
   ]
  },
  {
   "cell_type": "code",
   "execution_count": 16,
   "id": "b40d3d6c",
   "metadata": {},
   "outputs": [
    {
     "data": {
      "text/plain": [
       "<AxesSubplot:title={'center':'Number of contacts during campaign'}, xlabel='campaign', ylabel='Count'>"
      ]
     },
     "execution_count": 16,
     "metadata": {},
     "output_type": "execute_result"
    },
    {
     "data": {
      "image/png": "[encoded data removed]",
      "text/plain": [
       "<Figure size 500x500 with 1 Axes>"
      ]
     },
     "metadata": {
      "needs_background": "light"
     },
     "output_type": "display_data"
    }
   ],
   "source": [
    "plt.figure(figsize=(5, 5),dpi=100)\n",
    "plt.title(\"Number of contacts during campaign\")\n",
    "sns.histplot(data=df[\"campaign\"][df[\"campaign\"]<10], bins= 9, color = \"brown\")"
   ]
  },
  {
   "cell_type": "markdown",
   "id": "9817ea1e",
   "metadata": {},
   "source": [
    "Creat a histgram for the days since last campaign contactn."
   ]
  },
  {
   "cell_type": "code",
   "execution_count": 17,
   "id": "b40d3d6c",
   "metadata": {},
   "outputs": [
    {
     "data": {
      "text/plain": [
       "<AxesSubplot:title={'center':'Days since last campaign contact'}, xlabel='pdays', ylabel='Count'>"
      ]
     },
     "execution_count": 17,
     "metadata": {},
     "output_type": "execute_result"
    },
    {
     "data": {
      "image/png": "[encoded data removed]",
      "text/plain": [
       "<Figure size 500x500 with 1 Axes>"
      ]
     },
     "metadata": {
      "needs_background": "light"
     },
     "output_type": "display_data"
    }
   ],
   "source": [
    "plt.figure(figsize=(5, 5),dpi=100)\n",
    "plt.title(\"Days since last campaign contact\")\n",
    "sns.histplot(data=df[\"pdays\"], bins= 10, color = \"darkgreen\")"
   ]
  },
  {
   "cell_type": "markdown",
   "id": "7d41f364",
   "metadata": {},
   "source": [
    "Creat a histgram for the days(less than 50) since last campaign contact."
   ]
  },
  {
   "cell_type": "code",
   "execution_count": 18,
   "id": "b40d3d6c",
   "metadata": {},
   "outputs": [
    {
     "data": {
      "text/plain": [
       "<AxesSubplot:title={'center':'Days since last campaign contact'}, xlabel='pdays', ylabel='Count'>"
      ]
     },
     "execution_count": 18,
     "metadata": {},
     "output_type": "execute_result"
    },
    {
     "data": {
      "image/png": "[encoded data removed]",
      "text/plain": [
       "<Figure size 500x500 with 1 Axes>"
      ]
     },
     "metadata": {
      "needs_background": "light"
     },
     "output_type": "display_data"
    }
   ],
   "source": [
    "plt.figure(figsize=(5, 5),dpi=100)\n",
    "plt.title(\"Days since last campaign contact\")\n",
    "sns.histplot(data=df[\"pdays\"][df[\"pdays\"]<50], bins= 10, color = \"darkgreen\")"
   ]
  },
  {
   "cell_type": "markdown",
   "id": "f94ad390",
   "metadata": {},
   "source": [
    "Creat a histgram for the number of contacts before this campaign."
   ]
  },
  {
   "cell_type": "code",
   "execution_count": 19,
   "id": "b40d3d6c",
   "metadata": {},
   "outputs": [
    {
     "data": {
      "text/plain": [
       "<AxesSubplot:title={'center':'Number of contacts before this campaign'}, xlabel='previous', ylabel='Count'>"
      ]
     },
     "execution_count": 19,
     "metadata": {},
     "output_type": "execute_result"
    },
    {
     "data": {
      "image/png": "[encoded data removed]",
      "text/plain": [
       "<Figure size 500x500 with 1 Axes>"
      ]
     },
     "metadata": {
      "needs_background": "light"
     },
     "output_type": "display_data"
    }
   ],
   "source": [
    "plt.figure(figsize=(5, 5),dpi=100)\n",
    "plt.title(\"Number of contacts before this campaign\")\n",
    "sns.histplot(data=df[\"previous\"], color = \"lime\")"
   ]
  },
  {
   "cell_type": "markdown",
   "id": "448d4d15",
   "metadata": {},
   "source": [
    "Creat a histgram for the previous campaign outcome."
   ]
  },
  {
   "cell_type": "code",
   "execution_count": 20,
   "id": "b40d3d6c",
   "metadata": {},
   "outputs": [
    {
     "data": {
      "text/plain": [
       "<AxesSubplot:title={'center':'Previous campaign outcome'}, xlabel='poutcome', ylabel='Count'>"
      ]
     },
     "execution_count": 20,
     "metadata": {},
     "output_type": "execute_result"
    },
    {
     "data": {
      "image/png": "[encoded data removed]",
      "text/plain": [
       "<Figure size 500x500 with 1 Axes>"
      ]
     },
     "metadata": {
      "needs_background": "light"
     },
     "output_type": "display_data"
    }
   ],
   "source": [
    "plt.figure(figsize=(5, 5),dpi=100)\n",
    "plt.title(\"Previous campaign outcome\")\n",
    "sns.histplot(data=df[\"poutcome\"][df[\"poutcome\"]!=\"nonexistent\"], color = \"#6c3461\")"
   ]
  },
  {
   "cell_type": "markdown",
   "id": "9be64d17",
   "metadata": {},
   "source": [
    "The output shows correlation heat plot of the entire dataset. If the color between two variables is closer to light bllue and the number between two variables is closer to -1, it means they have higher negative correlation. If the color closer to the light orange and the number between two variables is closer to 1, it means they have higher positive correlation. If the color is darker and the number between two variables is closer to 0, they have a weaker relation even no relation. "
   ]
  },
  {
   "cell_type": "code",
   "execution_count": 21,
   "id": "2f8b1eb7",
   "metadata": {},
   "outputs": [
    {
     "data": {
      "image/png": "[encoded data removed]",
      "text/plain": [
       "<Figure size 1440x864 with 2 Axes>"
      ]
     },
     "metadata": {
      "needs_background": "light"
     },
     "output_type": "display_data"
    },
    {
     "data": {
      "text/plain": [
       "{'corr':                       age (con)  job (nom)  marital (nom)  education (nom)  \\\n",
       " age (con)              1.000000   0.504788       0.418870         0.268502   \n",
       " job (nom)              0.504788   1.000000       0.183590         0.359526   \n",
       " marital (nom)          0.418870   0.183590       1.000000         0.116240   \n",
       " education (nom)        0.268502   0.359526       0.116240         1.000000   \n",
       " default (nom)          0.165022   0.152101       0.095434         0.170355   \n",
       " housing (nom)          0.001951   0.010630       0.009170         0.013316   \n",
       " loan (nom)             0.007368   0.010218       0.000000         0.000000   \n",
       " contact (nom)          0.007021   0.127856       0.071993         0.123302   \n",
       " month (nom)            0.126287   0.109835       0.050174         0.094718   \n",
       " day_of_week (nom)      0.037857   0.016458       0.010888         0.019725   \n",
       " duration (con)        -0.000866   0.028731       0.013022         0.018073   \n",
       " campaign (con)         0.004594   0.029969       0.013109         0.007395   \n",
       " pdays (con)           -0.034369   0.141169       0.042680         0.056312   \n",
       " previous (con)         0.024365   0.135284       0.050257         0.049723   \n",
       " poutcome (nom)         0.035627   0.099560       0.036630         0.042282   \n",
       " emp.var.rate (con)    -0.000371   0.193545       0.100112         0.060942   \n",
       " cons.price.idx (con)   0.000857   0.123262       0.063942         0.104704   \n",
       " cons.conf.idx (con)    0.129372   0.158268       0.063387         0.116262   \n",
       " euribor3m (con)        0.010767   0.194952       0.110147         0.053005   \n",
       " nr.employed (con)     -0.017725   0.225935       0.102835         0.057341   \n",
       " y (nom)                0.030399   0.151893       0.053900         0.067220   \n",
       " \n",
       "                       default (nom)  housing (nom)  loan (nom)  contact (nom)  \\\n",
       " age (con)                  0.165022       0.001951    0.007368       0.007021   \n",
       " job (nom)                  0.152101       0.010630    0.010218       0.127856   \n",
       " marital (nom)              0.095434       0.009170    0.000000       0.071993   \n",
       " education (nom)            0.170355       0.013316    0.000000       0.123302   \n",
       " default (nom)              1.000000       0.010573    0.001567       0.135554   \n",
       " housing (nom)              0.010573       1.000000    0.707852       0.084603   \n",
       " loan (nom)                 0.001567       0.707852    1.000000       0.024206   \n",
       " contact (nom)              0.135554       0.084603    0.024206       1.000000   \n",
       " month (nom)                0.111926       0.054243    0.019830       0.609087   \n",
       " day_of_week (nom)          0.011314       0.014635    0.006104       0.054906   \n",
       " duration (con)             0.012682       0.009138    0.004901       0.026657   \n",
       " campaign (con)             0.033209       0.011022    0.005295       0.077368   \n",
       " pdays (con)                0.080073       0.010723    0.002034       0.117970   \n",
       " previous (con)             0.102630       0.021688    0.004220       0.212848   \n",
       " poutcome (nom)             0.076628       0.016958    0.000000       0.242419   \n",
       " emp.var.rate (con)         0.203288       0.060247    0.003451       0.393584   \n",
       " cons.price.idx (con)       0.168339       0.081972    0.017070       0.591474   \n",
       " cons.conf.idx (con)        0.026752       0.034532    0.015072       0.251614   \n",
       " euribor3m (con)            0.195347       0.059318    0.002889       0.399773   \n",
       " nr.employed (con)          0.189849       0.045896    0.004318       0.269155   \n",
       " y (nom)                    0.099111       0.009458    0.000000       0.144611   \n",
       " \n",
       "                       month (nom)  day_of_week (nom)  ...  campaign (con)  \\\n",
       " age (con)                0.126287           0.037857  ...        0.004594   \n",
       " job (nom)                0.109835           0.016458  ...        0.029969   \n",
       " marital (nom)            0.050174           0.010888  ...        0.013109   \n",
       " education (nom)          0.094718           0.019725  ...        0.007395   \n",
       " default (nom)            0.111926           0.011314  ...        0.033209   \n",
       " housing (nom)            0.054243           0.014635  ...        0.011022   \n",
       " loan (nom)               0.019830           0.006104  ...        0.005295   \n",
       " contact (nom)            0.609087           0.054906  ...        0.077368   \n",
       " month (nom)              1.000000           0.066569  ...        0.160763   \n",
       " day_of_week (nom)        0.066569           1.000000  ...        0.040305   \n",
       " duration (con)           0.071253           0.029363  ...       -0.071699   \n",
       " campaign (con)           0.160763           0.040305  ...        1.000000   \n",
       " pdays (con)              0.240266           0.015854  ...        0.052584   \n",
       " previous (con)           0.280649           0.005755  ...       -0.079141   \n",
       " poutcome (nom)           0.242400           0.014579  ...        0.088367   \n",
       " emp.var.rate (con)       0.588172           0.035267  ...        0.150754   \n",
       " cons.price.idx (con)     0.608363           0.019109  ...        0.127836   \n",
       " cons.conf.idx (con)      0.612346           0.066660  ...       -0.013733   \n",
       " euribor3m (con)          0.578118           0.043796  ...        0.135133   \n",
       " nr.employed (con)        0.648327           0.029925  ...        0.144095   \n",
       " y (nom)                  0.274000           0.023188  ...        0.066357   \n",
       " \n",
       "                       pdays (con)  previous (con)  poutcome (nom)  \\\n",
       " age (con)               -0.034369        0.024365        0.035627   \n",
       " job (nom)                0.141169        0.135284        0.099560   \n",
       " marital (nom)            0.042680        0.050257        0.036630   \n",
       " education (nom)          0.056312        0.049723        0.042282   \n",
       " default (nom)            0.080073        0.102630        0.076628   \n",
       " housing (nom)            0.010723        0.021688        0.016958   \n",
       " loan (nom)               0.002034        0.004220        0.000000   \n",
       " contact (nom)            0.117970        0.212848        0.242419   \n",
       " month (nom)              0.240266        0.280649        0.242400   \n",
       " day_of_week (nom)        0.015854        0.005755        0.014579   \n",
       " duration (con)          -0.047577        0.020640        0.046089   \n",
       " campaign (con)           0.052584       -0.079141        0.088367   \n",
       " pdays (con)              1.000000       -0.587514        0.952213   \n",
       " previous (con)          -0.587514        1.000000        0.888135   \n",
       " poutcome (nom)           0.952213        0.888135        1.000000   \n",
       " emp.var.rate (con)       0.271004       -0.420489        0.474278   \n",
       " cons.price.idx (con)     0.078889       -0.203130        0.312925   \n",
       " cons.conf.idx (con)     -0.091342       -0.050936        0.178943   \n",
       " euribor3m (con)          0.296899       -0.454494        0.492066   \n",
       " nr.employed (con)        0.372605       -0.501333        0.511503   \n",
       " y (nom)                  0.324914        0.230181        0.320416   \n",
       " \n",
       "                       emp.var.rate (con)  cons.price.idx (con)  \\\n",
       " age (con)                      -0.000371              0.000857   \n",
       " job (nom)                       0.193545              0.123262   \n",
       " marital (nom)                   0.100112              0.063942   \n",
       " education (nom)                 0.060942              0.104704   \n",
       " default (nom)                   0.203288              0.168339   \n",
       " housing (nom)                   0.060247              0.081972   \n",
       " loan (nom)                      0.003451              0.017070   \n",
       " contact (nom)                   0.393584              0.591474   \n",
       " month (nom)                     0.588172              0.608363   \n",
       " day_of_week (nom)               0.035267              0.019109   \n",
       " duration (con)                 -0.027968              0.005312   \n",
       " campaign (con)                  0.150754              0.127836   \n",
       " pdays (con)                     0.271004              0.078889   \n",
       " previous (con)                 -0.420489             -0.203130   \n",
       " poutcome (nom)                  0.474278              0.312925   \n",
       " emp.var.rate (con)              1.000000              0.775334   \n",
       " cons.price.idx (con)            0.775334              1.000000   \n",
       " cons.conf.idx (con)             0.196041              0.058986   \n",
       " euribor3m (con)                 0.972245              0.688230   \n",
       " nr.employed (con)               0.906970              0.522034   \n",
       " y (nom)                         0.298334              0.136211   \n",
       " \n",
       "                       cons.conf.idx (con)  euribor3m (con)  nr.employed (con)  \\\n",
       " age (con)                        0.129372         0.010767          -0.017725   \n",
       " job (nom)                        0.158268         0.194952           0.225935   \n",
       " marital (nom)                    0.063387         0.110147           0.102835   \n",
       " education (nom)                  0.116262         0.053005           0.057341   \n",
       " default (nom)                    0.026752         0.195347           0.189849   \n",
       " housing (nom)                    0.034532         0.059318           0.045896   \n",
       " loan (nom)                       0.015072         0.002889           0.004318   \n",
       " contact (nom)                    0.251614         0.399773           0.269155   \n",
       " month (nom)                      0.612346         0.578118           0.648327   \n",
       " day_of_week (nom)                0.066660         0.043796           0.029925   \n",
       " duration (con)                  -0.008173        -0.032897          -0.044703   \n",
       " campaign (con)                  -0.013733         0.135133           0.144095   \n",
       " pdays (con)                     -0.091342         0.296899           0.372605   \n",
       " previous (con)                  -0.050936        -0.454494          -0.501333   \n",
       " poutcome (nom)                   0.178943         0.492066           0.511503   \n",
       " emp.var.rate (con)               0.196041         0.972245           0.906970   \n",
       " cons.price.idx (con)             0.058986         0.688230           0.522034   \n",
       " cons.conf.idx (con)              1.000000         0.277686           0.100513   \n",
       " euribor3m (con)                  0.277686         1.000000           0.945154   \n",
       " nr.employed (con)                0.100513         0.945154           1.000000   \n",
       " y (nom)                          0.054878         0.307771           0.354678   \n",
       " \n",
       "                        y (nom)  \n",
       " age (con)             0.030399  \n",
       " job (nom)             0.151893  \n",
       " marital (nom)         0.053900  \n",
       " education (nom)       0.067220  \n",
       " default (nom)         0.099111  \n",
       " housing (nom)         0.009458  \n",
       " loan (nom)            0.000000  \n",
       " contact (nom)         0.144611  \n",
       " month (nom)           0.274000  \n",
       " day_of_week (nom)     0.023188  \n",
       " duration (con)        0.405274  \n",
       " campaign (con)        0.066357  \n",
       " pdays (con)           0.324914  \n",
       " previous (con)        0.230181  \n",
       " poutcome (nom)        0.320416  \n",
       " emp.var.rate (con)    0.298334  \n",
       " cons.price.idx (con)  0.136211  \n",
       " cons.conf.idx (con)   0.054878  \n",
       " euribor3m (con)       0.307771  \n",
       " nr.employed (con)     0.354678  \n",
       " y (nom)               1.000000  \n",
       " \n",
       " [21 rows x 21 columns],\n",
       " 'ax': <AxesSubplot:>}"
      ]
     },
     "execution_count": 21,
     "metadata": {},
     "output_type": "execute_result"
    }
   ],
   "source": [
    "from dython import nominal\n",
    "nominal.associations(df,figsize=(20,12),mark_columns=True)"
   ]
  },
  {
   "cell_type": "markdown",
   "id": "516d017e-b3ae-41f2-87bf-07955d246bff",
   "metadata": {},
   "source": [
    "## Data Cleaning"
   ]
  },
  {
   "cell_type": "code",
   "execution_count": 22,
   "id": "fae1161e-d1c7-4863-802f-eb671a95da51",
   "metadata": {},
   "outputs": [],
   "source": [
    "import copy\n",
    "clean_df = copy.deepcopy(df)\n",
    "# clean_df.dtypes"
   ]
  },
  {
   "cell_type": "markdown",
   "id": "cf2f5677",
   "metadata": {},
   "source": [
    "Conver all the string varibale to categorical variable."
   ]
  },
  {
   "cell_type": "code",
   "execution_count": 23,
   "id": "b5066f26-c9a2-4a08-9122-778f01c2a2c6",
   "metadata": {},
   "outputs": [
    {
     "data": {
      "text/plain": [
       "age                  int64\n",
       "job               category\n",
       "marital           category\n",
       "education         category\n",
       "default           category\n",
       "housing           category\n",
       "loan              category\n",
       "contact           category\n",
       "month             category\n",
       "day_of_week       category\n",
       "duration             int64\n",
       "campaign             int64\n",
       "pdays                int64\n",
       "previous             int64\n",
       "poutcome          category\n",
       "emp.var.rate       float64\n",
       "cons.price.idx     float64\n",
       "cons.conf.idx      float64\n",
       "euribor3m          float64\n",
       "nr.employed        float64\n",
       "y                    int64\n",
       "dtype: object"
      ]
     },
     "execution_count": 23,
     "metadata": {},
     "output_type": "execute_result"
    }
   ],
   "source": [
    "clean_df[\"job\"] = clean_df.job.astype(\"category\")\n",
    "clean_df[\"marital\"] = clean_df.marital.astype(\"category\")\n",
    "clean_df[\"education\"] = clean_df.education.astype(\"category\")\n",
    "clean_df[\"default\"] = clean_df.default.astype(\"category\")\n",
    "clean_df[\"housing\"] = clean_df.housing.astype(\"category\")\n",
    "clean_df[\"loan\"] = clean_df.loan.astype(\"category\")\n",
    "clean_df[\"contact\"] = clean_df.contact.astype(\"category\")\n",
    "clean_df[\"month\"] = clean_df.month.astype(\"category\")\n",
    "clean_df[\"day_of_week\"] = clean_df.day_of_week.astype(\"category\")\n",
    "clean_df[\"poutcome\"] = clean_df.poutcome.astype(\"category\")\n",
    "clean_df['pdays'] = clean_df['pdays'].apply(lambda x: 0 if x==999 else(10 if x<=7 else(5 if x<=14 else 3)))\n",
    "clean_df['y'] = clean_df['y'].apply(lambda x: 0 if x=='no' else (1 if x=='yes' else -1))\n",
    "clean_df.dtypes"
   ]
  },
  {
   "cell_type": "markdown",
   "id": "05b03912",
   "metadata": {},
   "source": [
    "Print the first 10 lines cleaned data."
   ]
  },
  {
   "cell_type": "code",
   "execution_count": 24,
   "id": "bff510e0",
   "metadata": {},
   "outputs": [
    {
     "data": {
      "text/html": [
       "<div>\n",
       "<style scoped>\n",
       "    .dataframe tbody tr th:only-of-type {\n",
       "        vertical-align: middle;\n",
       "    }\n",
       "\n",
       "    .dataframe tbody tr th {\n",
       "        vertical-align: top;\n",
       "    }\n",
       "\n",
       "    .dataframe thead th {\n",
       "        text-align: right;\n",
       "    }\n",
       "</style>\n",
       "<table border=\"1\" class=\"dataframe\">\n",
       "  <thead>\n",
       "    <tr style=\"text-align: right;\">\n",
       "      <th></th>\n",
       "      <th>age</th>\n",
       "      <th>job</th>\n",
       "      <th>marital</th>\n",
       "      <th>education</th>\n",
       "      <th>default</th>\n",
       "      <th>housing</th>\n",
       "      <th>loan</th>\n",
       "      <th>contact</th>\n",
       "      <th>month</th>\n",
       "      <th>day_of_week</th>\n",
       "      <th>...</th>\n",
       "      <th>campaign</th>\n",
       "      <th>pdays</th>\n",
       "      <th>previous</th>\n",
       "      <th>poutcome</th>\n",
       "      <th>emp.var.rate</th>\n",
       "      <th>cons.price.idx</th>\n",
       "      <th>cons.conf.idx</th>\n",
       "      <th>euribor3m</th>\n",
       "      <th>nr.employed</th>\n",
       "      <th>y</th>\n",
       "    </tr>\n",
       "  </thead>\n",
       "  <tbody>\n",
       "    <tr>\n",
       "      <th>0</th>\n",
       "      <td>56</td>\n",
       "      <td>housemaid</td>\n",
       "      <td>married</td>\n",
       "      <td>basic.4y</td>\n",
       "      <td>no</td>\n",
       "      <td>no</td>\n",
       "      <td>no</td>\n",
       "      <td>telephone</td>\n",
       "      <td>may</td>\n",
       "      <td>mon</td>\n",
       "      <td>...</td>\n",
       "      <td>1</td>\n",
       "      <td>0</td>\n",
       "      <td>0</td>\n",
       "      <td>nonexistent</td>\n",
       "      <td>1.1</td>\n",
       "      <td>93.994</td>\n",
       "      <td>-36.4</td>\n",
       "      <td>4.857</td>\n",
       "      <td>5191.0</td>\n",
       "      <td>0</td>\n",
       "    </tr>\n",
       "    <tr>\n",
       "      <th>1</th>\n",
       "      <td>57</td>\n",
       "      <td>services</td>\n",
       "      <td>married</td>\n",
       "      <td>high.school</td>\n",
       "      <td>unknown</td>\n",
       "      <td>no</td>\n",
       "      <td>no</td>\n",
       "      <td>telephone</td>\n",
       "      <td>may</td>\n",
       "      <td>mon</td>\n",
       "      <td>...</td>\n",
       "      <td>1</td>\n",
       "      <td>0</td>\n",
       "      <td>0</td>\n",
       "      <td>nonexistent</td>\n",
       "      <td>1.1</td>\n",
       "      <td>93.994</td>\n",
       "      <td>-36.4</td>\n",
       "      <td>4.857</td>\n",
       "      <td>5191.0</td>\n",
       "      <td>0</td>\n",
       "    </tr>\n",
       "    <tr>\n",
       "      <th>2</th>\n",
       "      <td>37</td>\n",
       "      <td>services</td>\n",
       "      <td>married</td>\n",
       "      <td>high.school</td>\n",
       "      <td>no</td>\n",
       "      <td>yes</td>\n",
       "      <td>no</td>\n",
       "      <td>telephone</td>\n",
       "      <td>may</td>\n",
       "      <td>mon</td>\n",
       "      <td>...</td>\n",
       "      <td>1</td>\n",
       "      <td>0</td>\n",
       "      <td>0</td>\n",
       "      <td>nonexistent</td>\n",
       "      <td>1.1</td>\n",
       "      <td>93.994</td>\n",
       "      <td>-36.4</td>\n",
       "      <td>4.857</td>\n",
       "      <td>5191.0</td>\n",
       "      <td>0</td>\n",
       "    </tr>\n",
       "    <tr>\n",
       "      <th>3</th>\n",
       "      <td>40</td>\n",
       "      <td>admin.</td>\n",
       "      <td>married</td>\n",
       "      <td>basic.6y</td>\n",
       "      <td>no</td>\n",
       "      <td>no</td>\n",
       "      <td>no</td>\n",
       "      <td>telephone</td>\n",
       "      <td>may</td>\n",
       "      <td>mon</td>\n",
       "      <td>...</td>\n",
       "      <td>1</td>\n",
       "      <td>0</td>\n",
       "      <td>0</td>\n",
       "      <td>nonexistent</td>\n",
       "      <td>1.1</td>\n",
       "      <td>93.994</td>\n",
       "      <td>-36.4</td>\n",
       "      <td>4.857</td>\n",
       "      <td>5191.0</td>\n",
       "      <td>0</td>\n",
       "    </tr>\n",
       "    <tr>\n",
       "      <th>4</th>\n",
       "      <td>56</td>\n",
       "      <td>services</td>\n",
       "      <td>married</td>\n",
       "      <td>high.school</td>\n",
       "      <td>no</td>\n",
       "      <td>no</td>\n",
       "      <td>yes</td>\n",
       "      <td>telephone</td>\n",
       "      <td>may</td>\n",
       "      <td>mon</td>\n",
       "      <td>...</td>\n",
       "      <td>1</td>\n",
       "      <td>0</td>\n",
       "      <td>0</td>\n",
       "      <td>nonexistent</td>\n",
       "      <td>1.1</td>\n",
       "      <td>93.994</td>\n",
       "      <td>-36.4</td>\n",
       "      <td>4.857</td>\n",
       "      <td>5191.0</td>\n",
       "      <td>0</td>\n",
       "    </tr>\n",
       "    <tr>\n",
       "      <th>...</th>\n",
       "      <td>...</td>\n",
       "      <td>...</td>\n",
       "      <td>...</td>\n",
       "      <td>...</td>\n",
       "      <td>...</td>\n",
       "      <td>...</td>\n",
       "      <td>...</td>\n",
       "      <td>...</td>\n",
       "      <td>...</td>\n",
       "      <td>...</td>\n",
       "      <td>...</td>\n",
       "      <td>...</td>\n",
       "      <td>...</td>\n",
       "      <td>...</td>\n",
       "      <td>...</td>\n",
       "      <td>...</td>\n",
       "      <td>...</td>\n",
       "      <td>...</td>\n",
       "      <td>...</td>\n",
       "      <td>...</td>\n",
       "      <td>...</td>\n",
       "    </tr>\n",
       "    <tr>\n",
       "      <th>41183</th>\n",
       "      <td>73</td>\n",
       "      <td>retired</td>\n",
       "      <td>married</td>\n",
       "      <td>professional.course</td>\n",
       "      <td>no</td>\n",
       "      <td>yes</td>\n",
       "      <td>no</td>\n",
       "      <td>cellular</td>\n",
       "      <td>nov</td>\n",
       "      <td>fri</td>\n",
       "      <td>...</td>\n",
       "      <td>1</td>\n",
       "      <td>0</td>\n",
       "      <td>0</td>\n",
       "      <td>nonexistent</td>\n",
       "      <td>-1.1</td>\n",
       "      <td>94.767</td>\n",
       "      <td>-50.8</td>\n",
       "      <td>1.028</td>\n",
       "      <td>4963.6</td>\n",
       "      <td>1</td>\n",
       "    </tr>\n",
       "    <tr>\n",
       "      <th>41184</th>\n",
       "      <td>46</td>\n",
       "      <td>blue-collar</td>\n",
       "      <td>married</td>\n",
       "      <td>professional.course</td>\n",
       "      <td>no</td>\n",
       "      <td>no</td>\n",
       "      <td>no</td>\n",
       "      <td>cellular</td>\n",
       "      <td>nov</td>\n",
       "      <td>fri</td>\n",
       "      <td>...</td>\n",
       "      <td>1</td>\n",
       "      <td>0</td>\n",
       "      <td>0</td>\n",
       "      <td>nonexistent</td>\n",
       "      <td>-1.1</td>\n",
       "      <td>94.767</td>\n",
       "      <td>-50.8</td>\n",
       "      <td>1.028</td>\n",
       "      <td>4963.6</td>\n",
       "      <td>0</td>\n",
       "    </tr>\n",
       "    <tr>\n",
       "      <th>41185</th>\n",
       "      <td>56</td>\n",
       "      <td>retired</td>\n",
       "      <td>married</td>\n",
       "      <td>university.degree</td>\n",
       "      <td>no</td>\n",
       "      <td>yes</td>\n",
       "      <td>no</td>\n",
       "      <td>cellular</td>\n",
       "      <td>nov</td>\n",
       "      <td>fri</td>\n",
       "      <td>...</td>\n",
       "      <td>2</td>\n",
       "      <td>0</td>\n",
       "      <td>0</td>\n",
       "      <td>nonexistent</td>\n",
       "      <td>-1.1</td>\n",
       "      <td>94.767</td>\n",
       "      <td>-50.8</td>\n",
       "      <td>1.028</td>\n",
       "      <td>4963.6</td>\n",
       "      <td>0</td>\n",
       "    </tr>\n",
       "    <tr>\n",
       "      <th>41186</th>\n",
       "      <td>44</td>\n",
       "      <td>technician</td>\n",
       "      <td>married</td>\n",
       "      <td>professional.course</td>\n",
       "      <td>no</td>\n",
       "      <td>no</td>\n",
       "      <td>no</td>\n",
       "      <td>cellular</td>\n",
       "      <td>nov</td>\n",
       "      <td>fri</td>\n",
       "      <td>...</td>\n",
       "      <td>1</td>\n",
       "      <td>0</td>\n",
       "      <td>0</td>\n",
       "      <td>nonexistent</td>\n",
       "      <td>-1.1</td>\n",
       "      <td>94.767</td>\n",
       "      <td>-50.8</td>\n",
       "      <td>1.028</td>\n",
       "      <td>4963.6</td>\n",
       "      <td>1</td>\n",
       "    </tr>\n",
       "    <tr>\n",
       "      <th>41187</th>\n",
       "      <td>74</td>\n",
       "      <td>retired</td>\n",
       "      <td>married</td>\n",
       "      <td>professional.course</td>\n",
       "      <td>no</td>\n",
       "      <td>yes</td>\n",
       "      <td>no</td>\n",
       "      <td>cellular</td>\n",
       "      <td>nov</td>\n",
       "      <td>fri</td>\n",
       "      <td>...</td>\n",
       "      <td>3</td>\n",
       "      <td>0</td>\n",
       "      <td>1</td>\n",
       "      <td>failure</td>\n",
       "      <td>-1.1</td>\n",
       "      <td>94.767</td>\n",
       "      <td>-50.8</td>\n",
       "      <td>1.028</td>\n",
       "      <td>4963.6</td>\n",
       "      <td>0</td>\n",
       "    </tr>\n",
       "  </tbody>\n",
       "</table>\n",
       "<p>41188 rows × 21 columns</p>\n",
       "</div>"
      ],
      "text/plain": [
       "       age          job  marital            education  default housing loan  \\\n",
       "0       56    housemaid  married             basic.4y       no      no   no   \n",
       "1       57     services  married          high.school  unknown      no   no   \n",
       "2       37     services  married          high.school       no     yes   no   \n",
       "3       40       admin.  married             basic.6y       no      no   no   \n",
       "4       56     services  married          high.school       no      no  yes   \n",
       "...    ...          ...      ...                  ...      ...     ...  ...   \n",
       "41183   73      retired  married  professional.course       no     yes   no   \n",
       "41184   46  blue-collar  married  professional.course       no      no   no   \n",
       "41185   56      retired  married    university.degree       no     yes   no   \n",
       "41186   44   technician  married  professional.course       no      no   no   \n",
       "41187   74      retired  married  professional.course       no     yes   no   \n",
       "\n",
       "         contact month day_of_week  ...  campaign  pdays  previous  \\\n",
       "0      telephone   may         mon  ...         1      0         0   \n",
       "1      telephone   may         mon  ...         1      0         0   \n",
       "2      telephone   may         mon  ...         1      0         0   \n",
       "3      telephone   may         mon  ...         1      0         0   \n",
       "4      telephone   may         mon  ...         1      0         0   \n",
       "...          ...   ...         ...  ...       ...    ...       ...   \n",
       "41183   cellular   nov         fri  ...         1      0         0   \n",
       "41184   cellular   nov         fri  ...         1      0         0   \n",
       "41185   cellular   nov         fri  ...         2      0         0   \n",
       "41186   cellular   nov         fri  ...         1      0         0   \n",
       "41187   cellular   nov         fri  ...         3      0         1   \n",
       "\n",
       "          poutcome emp.var.rate  cons.price.idx  cons.conf.idx  euribor3m  \\\n",
       "0      nonexistent          1.1          93.994          -36.4      4.857   \n",
       "1      nonexistent          1.1          93.994          -36.4      4.857   \n",
       "2      nonexistent          1.1          93.994          -36.4      4.857   \n",
       "3      nonexistent          1.1          93.994          -36.4      4.857   \n",
       "4      nonexistent          1.1          93.994          -36.4      4.857   \n",
       "...            ...          ...             ...            ...        ...   \n",
       "41183  nonexistent         -1.1          94.767          -50.8      1.028   \n",
       "41184  nonexistent         -1.1          94.767          -50.8      1.028   \n",
       "41185  nonexistent         -1.1          94.767          -50.8      1.028   \n",
       "41186  nonexistent         -1.1          94.767          -50.8      1.028   \n",
       "41187      failure         -1.1          94.767          -50.8      1.028   \n",
       "\n",
       "       nr.employed  y  \n",
       "0           5191.0  0  \n",
       "1           5191.0  0  \n",
       "2           5191.0  0  \n",
       "3           5191.0  0  \n",
       "4           5191.0  0  \n",
       "...            ... ..  \n",
       "41183       4963.6  1  \n",
       "41184       4963.6  0  \n",
       "41185       4963.6  0  \n",
       "41186       4963.6  1  \n",
       "41187       4963.6  0  \n",
       "\n",
       "[41188 rows x 21 columns]"
      ]
     },
     "execution_count": 24,
     "metadata": {},
     "output_type": "execute_result"
    }
   ],
   "source": [
    "clean_df.head(10)"
   ]
  },
  {
   "cell_type": "markdown",
   "id": "a5e0c8be",
   "metadata": {},
   "source": [
    "Load necessary pacakage."
   ]
  },
  {
   "cell_type": "code",
   "execution_count": 25,
   "id": "b93db938-355c-4311-be35-e8cfd30e540d",
   "metadata": {},
   "outputs": [],
   "source": [
    "from sklearn.model_selection import train_test_split\n",
    "from sklearn.preprocessing import OneHotEncoder"
   ]
  },
  {
   "cell_type": "markdown",
   "id": "a5e0c8be",
   "metadata": {},
   "source": [
    "Drop the uselss column."
   ]
  },
  {
   "cell_type": "code",
   "execution_count": 26,
   "id": "0885cdb6",
   "metadata": {},
   "outputs": [],
   "source": [
    "clean_df.drop(['month', 'day_of_week'], axis=1, inplace=True)"
   ]
  },
  {
   "cell_type": "markdown",
   "id": "d49e2783",
   "metadata": {},
   "source": [
    "Create One Hot Encoder functions to apply on the categorical features."
   ]
  },
  {
   "cell_type": "code",
   "execution_count": 27,
   "id": "b4e08985",
   "metadata": {},
   "outputs": [],
   "source": [
    "# enc = OneHotEncoder(handle_unknown='ignore')\n",
    "# encoded_df = enc.fit_transform(clean_df)\n",
    "encoded_df = pd.get_dummies(clean_df)\n"
   ]
  },
  {
   "cell_type": "code",
   "execution_count": 28,
   "id": "d6f085e7",
   "metadata": {},
   "outputs": [],
   "source": [
    "X = encoded_df.drop(['y'], axis=1)\n",
    "y = encoded_df['y']"
   ]
  },
  {
   "cell_type": "markdown",
   "id": "c0fbc525",
   "metadata": {},
   "source": [
    "Split the data into train and test (80% as training and 20% as test)"
   ]
  },
  {
   "cell_type": "code",
   "execution_count": 29,
   "id": "5fc4b82b",
   "metadata": {},
   "outputs": [],
   "source": [
    "X_train, X_test, y_train, y_test = train_test_split(X, y, test_size=0.2, random_state=42)"
   ]
  },
  {
   "cell_type": "markdown",
   "id": "7a2381bd-d66d-40b0-98fd-1d67a044376c",
   "metadata": {},
   "source": [
    "## Modeling"
   ]
  },
  {
   "cell_type": "markdown",
   "id": "f1507d80",
   "metadata": {},
   "source": [
    "Set the seed to keep the random value to be same."
   ]
  },
  {
   "cell_type": "code",
   "execution_count": 30,
   "id": "0714890d",
   "metadata": {},
   "outputs": [],
   "source": [
    "import random\n",
    "random.seed(2535)"
   ]
  },
  {
   "cell_type": "markdown",
   "id": "6e6b2ca0",
   "metadata": {},
   "source": [
    "Load the necessary package."
   ]
  },
  {
   "cell_type": "code",
   "execution_count": 31,
   "id": "e3a99f6a",
   "metadata": {},
   "outputs": [],
   "source": [
    "from sklearn.linear_model import LogisticRegression\n",
    "from sklearn.tree import DecisionTreeClassifier\n",
    "from sklearn.ensemble import RandomForestClassifier, GradientBoostingClassifier, BaggingClassifier, StackingClassifier, AdaBoostClassifier\n",
    "from sklearn.neighbors import KNeighborsClassifier\n",
    "from lightgbm import LGBMClassifier\n",
    "from xgboost import XGBClassifier\n",
    "from sklearn.svm import SVC\n",
    "from sklearn.model_selection import cross_val_score, RepeatedStratifiedKFold"
   ]
  },
  {
   "cell_type": "markdown",
   "id": "c0a86806",
   "metadata": {},
   "source": [
    "### Baseling Model"
   ]
  },
  {
   "cell_type": "markdown",
   "id": "6b6597fa",
   "metadata": {},
   "source": [
    "Create the function for test the baseling model."
   ]
  },
  {
   "cell_type": "code",
   "execution_count": 32,
   "id": "d42b100b",
   "metadata": {},
   "outputs": [],
   "source": [
    "def base_models():\n",
    "    models = dict()\n",
    "    models['Logistic'] = LogisticRegression(solver='liblinear')\n",
    "    models['DecisionTree'] = DecisionTreeClassifier()\n",
    "    models['RandomForest'] = RandomForestClassifier()\n",
    "    models['KNN'] = KNeighborsClassifier()\n",
    "    # models['SVC'] = SVC(gamma='auto')\n",
    "    models['Bagging'] = BaggingClassifier()\n",
    "    models['GBM'] = GradientBoostingClassifier()\n",
    "    models['LightGBM'] = LGBMClassifier()\n",
    "    models['XGBoost'] = XGBClassifier()\n",
    "    return models\n",
    "\n",
    "# Function to evaluate the list of models\n",
    "def eval_models(model):\n",
    "  cv = RepeatedStratifiedKFold(n_splits=10, n_repeats=3, random_state=1)\n",
    "  scores = cross_val_score(model, X_train, y_train, cv=cv, n_jobs=-1, \n",
    "                            error_score='raise')\n",
    "  return scores"
   ]
  },
  {
   "cell_type": "markdown",
   "id": "5c6ac821",
   "metadata": {},
   "source": [
    "Print the evaluation of all the model."
   ]
  },
  {
   "cell_type": "code",
   "execution_count": 33,
   "id": "b2a5927a",
   "metadata": {},
   "outputs": [
    {
     "name": "stdout",
     "output_type": "stream",
     "text": [
      ">Logistic 0.909 (0.003)\n",
      ">DecisionTree 0.889 (0.005)\n",
      ">RandomForest 0.911 (0.003)\n",
      ">KNN 0.903 (0.003)\n",
      ">Bagging 0.908 (0.004)\n",
      ">GBM 0.916 (0.004)\n",
      ">LightGBM 0.916 (0.003)\n",
      ">XGBoost 0.912 (0.003)\n"
     ]
    }
   ],
   "source": [
    "# get the models to evaluate\n",
    "baseline_model = base_models()\n",
    "# evaluate the models and store results\n",
    "results, names = list(), list() \n",
    "\n",
    "for name, model in baseline_model.items():\n",
    "  scores = eval_models(model)\n",
    "  results.append(scores)\n",
    "  names.append(name)\n",
    "  print('>%s %.3f (%.3f)' % (name, scores.mean(), scores.std()))"
   ]
  },
  {
   "cell_type": "markdown",
   "id": "db3089bb",
   "metadata": {},
   "source": [
    "Convert the reuslt of evaluation model into dataframe."
   ]
  },
  {
   "cell_type": "code",
   "execution_count": 34,
   "id": "83a6c170",
   "metadata": {},
   "outputs": [],
   "source": [
    "classificationmod = pd.DataFrame(np.transpose(results), columns = [\"Logistic\",\"DecisionTree\",\"RandomForest\",\"KNN\", \"Bagging\",\"GBM\", \"XGBoost\",\"LightGBM\"])\n",
    "classificationmod = pd.melt(classificationmod.reset_index(), id_vars='index',value_vars=[\"Logistic\",\"DecisionTree\",\"RandomForest\",\"KNN\", \"Bagging\",\"GBM\",\"XGBoost\",\"LightGBM\"])\n",
    "classificationmod.set_index('index', inplace=True)\n",
    "classificationmod.columns = ['Model', 'Score']"
   ]
  },
  {
   "cell_type": "markdown",
   "id": "16ecad9f",
   "metadata": {},
   "source": [
    "Generate a box plot to check the evaluation of each model."
   ]
  },
  {
   "cell_type": "code",
   "execution_count": 35,
   "id": "23c4e2f3",
   "metadata": {},
   "outputs": [
    {
     "data": {
      "application/vnd.plotly.v1+json": {
       "config": {
        "plotlyServerURL": "https://plot.ly"
       },
       "data": [
        {
         "alignmentgroup": "True",
         "boxpoints": "all",
         "hovertemplate": "Machine Learning Model=%{x}<br>Accuracy=%{y}<extra></extra>",
         "legendgroup": "Logistic",
         "marker": {
          "color": "#636efa"
         },
         "name": "Logistic",
         "notched": false,
         "offsetgroup": "Logistic",
         "orientation": "v",
         "showlegend": true,
         "type": "box",
         "x": [
          "Logistic",
          "Logistic",
          "Logistic",
          "Logistic",
          "Logistic",
          "Logistic",
          "Logistic",
          "Logistic",
          "Logistic",
          "Logistic",
          "Logistic",
          "Logistic",
          "Logistic",
          "Logistic",
          "Logistic",
          "Logistic",
          "Logistic",
          "Logistic",
          "Logistic",
          "Logistic",
          "Logistic",
          "Logistic",
          "Logistic",
          "Logistic",
          "Logistic",
          "Logistic",
          "Logistic",
          "Logistic",
          "Logistic",
          "Logistic"
         ],
         "x0": " ",
         "xaxis": "x",
         "y": [
          0.9071320182094081,
          0.9125948406676783,
          0.9074355083459787,
          0.9116843702579667,
          0.9128983308042489,
          0.9025796661608497,
          0.910773899848255,
          0.9074355083459787,
          0.9104704097116844,
          0.9101669195751139,
          0.9104704097116844,
          0.9053110773899848,
          0.9122913505311078,
          0.9132018209408195,
          0.9047040971168437,
          0.9101669195751139,
          0.9141122913505311,
          0.9044006069802731,
          0.9068285280728376,
          0.9144157814871017,
          0.906525037936267,
          0.9083459787556905,
          0.9141122913505311,
          0.9059180576631259,
          0.9068285280728376,
          0.9119878603945372,
          0.9071320182094081,
          0.9083459787556905,
          0.9128983308042489,
          0.9089529590288316
         ],
         "y0": " ",
         "yaxis": "y"
        },
        {
         "alignmentgroup": "True",
         "boxpoints": "all",
         "hovertemplate": "Machine Learning Model=%{x}<br>Accuracy=%{y}<extra></extra>",
         "legendgroup": "DecisionTree",
         "marker": {
          "color": "#EF553B"
         },
         "name": "DecisionTree",
         "notched": false,
         "offsetgroup": "DecisionTree",
         "orientation": "v",
         "showlegend": true,
         "type": "box",
         "x": [
          "DecisionTree",
          "DecisionTree",
          "DecisionTree",
          "DecisionTree",
          "DecisionTree",
          "DecisionTree",
          "DecisionTree",
          "DecisionTree",
          "DecisionTree",
          "DecisionTree",
          "DecisionTree",
          "DecisionTree",
          "DecisionTree",
          "DecisionTree",
          "DecisionTree",
          "DecisionTree",
          "DecisionTree",
          "DecisionTree",
          "DecisionTree",
          "DecisionTree",
          "DecisionTree",
          "DecisionTree",
          "DecisionTree",
          "DecisionTree",
          "DecisionTree",
          "DecisionTree",
          "DecisionTree",
          "DecisionTree",
          "DecisionTree",
          "DecisionTree"
         ],
         "x0": " ",
         "xaxis": "x",
         "y": [
          0.8889226100151745,
          0.8937784522003035,
          0.8940819423368741,
          0.8770864946889226,
          0.8919575113808801,
          0.8943854324734446,
          0.8955993930197269,
          0.8931714719271624,
          0.8889226100151745,
          0.8895295902883156,
          0.8925644916540213,
          0.8852807283763278,
          0.888619119878604,
          0.896206373292868,
          0.8889226100151745,
          0.8752655538694992,
          0.8916540212443096,
          0.8919575113808801,
          0.8849772382397572,
          0.8877086494688923,
          0.8922610015174507,
          0.8946889226100152,
          0.8904400606980273,
          0.8867981790591806,
          0.8828528072837633,
          0.8880121396054628,
          0.8874051593323217,
          0.88649468892261,
          0.8861911987860395,
          0.8904400606980273
         ],
         "y0": " ",
         "yaxis": "y"
        },
        {
         "alignmentgroup": "True",
         "boxpoints": "all",
         "hovertemplate": "Machine Learning Model=%{x}<br>Accuracy=%{y}<extra></extra>",
         "legendgroup": "RandomForest",
         "marker": {
          "color": "#00cc96"
         },
         "name": "RandomForest",
         "notched": false,
         "offsetgroup": "RandomForest",
         "orientation": "v",
         "showlegend": true,
         "type": "box",
         "x": [
          "RandomForest",
          "RandomForest",
          "RandomForest",
          "RandomForest",
          "RandomForest",
          "RandomForest",
          "RandomForest",
          "RandomForest",
          "RandomForest",
          "RandomForest",
          "RandomForest",
          "RandomForest",
          "RandomForest",
          "RandomForest",
          "RandomForest",
          "RandomForest",
          "RandomForest",
          "RandomForest",
          "RandomForest",
          "RandomForest",
          "RandomForest",
          "RandomForest",
          "RandomForest",
          "RandomForest",
          "RandomForest",
          "RandomForest",
          "RandomForest",
          "RandomForest",
          "RandomForest",
          "RandomForest"
         ],
         "x0": " ",
         "xaxis": "x",
         "y": [
          0.906525037936267,
          0.9147192716236723,
          0.9119878603945372,
          0.906525037936267,
          0.9125948406676783,
          0.9047040971168437,
          0.9132018209408195,
          0.9138088012139606,
          0.9141122913505311,
          0.9150227617602428,
          0.9095599393019727,
          0.9104704097116844,
          0.9128983308042489,
          0.9144157814871017,
          0.903793626707132,
          0.9095599393019727,
          0.9162367223065251,
          0.9059180576631259,
          0.9104704097116844,
          0.9113808801213961,
          0.9089529590288316,
          0.91350531107739,
          0.9141122913505311,
          0.9095599393019727,
          0.9095599393019727,
          0.9083459787556905,
          0.908649468892261,
          0.91350531107739,
          0.9098634294385433,
          0.9144157814871017
         ],
         "y0": " ",
         "yaxis": "y"
        },
        {
         "alignmentgroup": "True",
         "boxpoints": "all",
         "hovertemplate": "Machine Learning Model=%{x}<br>Accuracy=%{y}<extra></extra>",
         "legendgroup": "KNN",
         "marker": {
          "color": "#ab63fa"
         },
         "name": "KNN",
         "notched": false,
         "offsetgroup": "KNN",
         "orientation": "v",
         "showlegend": true,
         "type": "box",
         "x": [
          "KNN",
          "KNN",
          "KNN",
          "KNN",
          "KNN",
          "KNN",
          "KNN",
          "KNN",
          "KNN",
          "KNN",
          "KNN",
          "KNN",
          "KNN",
          "KNN",
          "KNN",
          "KNN",
          "KNN",
          "KNN",
          "KNN",
          "KNN",
          "KNN",
          "KNN",
          "KNN",
          "KNN",
          "KNN",
          "KNN",
          "KNN",
          "KNN",
          "KNN",
          "KNN"
         ],
         "x0": " ",
         "xaxis": "x",
         "y": [
          0.9071320182094081,
          0.9034901365705614,
          0.9031866464339909,
          0.8965098634294385,
          0.9044006069802731,
          0.9025796661608497,
          0.9047040971168437,
          0.9068285280728376,
          0.906525037936267,
          0.9010622154779969,
          0.8998482549317147,
          0.9044006069802731,
          0.9031866464339909,
          0.908649468892261,
          0.9004552352048558,
          0.9019726858877086,
          0.9040971168437025,
          0.9004552352048558,
          0.9053110773899848,
          0.9050075872534142,
          0.9025796661608497,
          0.8986342943854325,
          0.9074355083459787,
          0.9089529590288316,
          0.8998482549317147,
          0.9047040971168437,
          0.8995447647951441,
          0.9025796661608497,
          0.9031866464339909,
          0.9047040971168437
         ],
         "y0": " ",
         "yaxis": "y"
        },
        {
         "alignmentgroup": "True",
         "boxpoints": "all",
         "hovertemplate": "Machine Learning Model=%{x}<br>Accuracy=%{y}<extra></extra>",
         "legendgroup": "Bagging",
         "marker": {
          "color": "#FFA15A"
         },
         "name": "Bagging",
         "notched": false,
         "offsetgroup": "Bagging",
         "orientation": "v",
         "showlegend": true,
         "type": "box",
         "x": [
          "Bagging",
          "Bagging",
          "Bagging",
          "Bagging",
          "Bagging",
          "Bagging",
          "Bagging",
          "Bagging",
          "Bagging",
          "Bagging",
          "Bagging",
          "Bagging",
          "Bagging",
          "Bagging",
          "Bagging",
          "Bagging",
          "Bagging",
          "Bagging",
          "Bagging",
          "Bagging",
          "Bagging",
          "Bagging",
          "Bagging",
          "Bagging",
          "Bagging",
          "Bagging",
          "Bagging",
          "Bagging",
          "Bagging",
          "Bagging"
         ],
         "x0": " ",
         "xaxis": "x",
         "y": [
          0.9047040971168437,
          0.9095599393019727,
          0.9059180576631259,
          0.9044006069802731,
          0.9119878603945372,
          0.903793626707132,
          0.9071320182094081,
          0.9113808801213961,
          0.9083459787556905,
          0.9113808801213961,
          0.9128983308042489,
          0.9056145675265553,
          0.9044006069802731,
          0.910773899848255,
          0.9053110773899848,
          0.9110773899848255,
          0.9147192716236723,
          0.8995447647951441,
          0.9050075872534142,
          0.9031866464339909,
          0.9040971168437025,
          0.9125948406676783,
          0.9141122913505311,
          0.9068285280728376,
          0.9044006069802731,
          0.9098634294385433,
          0.9083459787556905,
          0.9074355083459787,
          0.9074355083459787,
          0.9050075872534142
         ],
         "y0": " ",
         "yaxis": "y"
        },
        {
         "alignmentgroup": "True",
         "boxpoints": "all",
         "hovertemplate": "Machine Learning Model=%{x}<br>Accuracy=%{y}<extra></extra>",
         "legendgroup": "GBM",
         "marker": {
          "color": "#19d3f3"
         },
         "name": "GBM",
         "notched": false,
         "offsetgroup": "GBM",
         "orientation": "v",
         "showlegend": true,
         "type": "box",
         "x": [
          "GBM",
          "GBM",
          "GBM",
          "GBM",
          "GBM",
          "GBM",
          "GBM",
          "GBM",
          "GBM",
          "GBM",
          "GBM",
          "GBM",
          "GBM",
          "GBM",
          "GBM",
          "GBM",
          "GBM",
          "GBM",
          "GBM",
          "GBM",
          "GBM",
          "GBM",
          "GBM",
          "GBM",
          "GBM",
          "GBM",
          "GBM",
          "GBM",
          "GBM",
          "GBM"
         ],
         "x0": " ",
         "xaxis": "x",
         "y": [
          0.91350531107739,
          0.9156297420333839,
          0.9180576631259484,
          0.9147192716236723,
          0.921092564491654,
          0.9068285280728376,
          0.9174506828528073,
          0.9168437025796662,
          0.9201820940819423,
          0.9125948406676783,
          0.9171471927162367,
          0.9113808801213961,
          0.9159332321699545,
          0.9207890743550835,
          0.9119878603945372,
          0.9122913505311078,
          0.9216995447647951,
          0.908649468892261,
          0.9138088012139606,
          0.9226100151745068,
          0.9116843702579667,
          0.9119878603945372,
          0.9177541729893779,
          0.9128983308042489,
          0.9125948406676783,
          0.9159332321699545,
          0.9177541729893779,
          0.9250379362670713,
          0.921092564491654,
          0.9189681335356601
         ],
         "y0": " ",
         "yaxis": "y"
        },
        {
         "alignmentgroup": "True",
         "boxpoints": "all",
         "hovertemplate": "Machine Learning Model=%{x}<br>Accuracy=%{y}<extra></extra>",
         "legendgroup": "XGBoost",
         "marker": {
          "color": "#FF6692"
         },
         "name": "XGBoost",
         "notched": false,
         "offsetgroup": "XGBoost",
         "orientation": "v",
         "showlegend": true,
         "type": "box",
         "x": [
          "XGBoost",
          "XGBoost",
          "XGBoost",
          "XGBoost",
          "XGBoost",
          "XGBoost",
          "XGBoost",
          "XGBoost",
          "XGBoost",
          "XGBoost",
          "XGBoost",
          "XGBoost",
          "XGBoost",
          "XGBoost",
          "XGBoost",
          "XGBoost",
          "XGBoost",
          "XGBoost",
          "XGBoost",
          "XGBoost",
          "XGBoost",
          "XGBoost",
          "XGBoost",
          "XGBoost",
          "XGBoost",
          "XGBoost",
          "XGBoost",
          "XGBoost",
          "XGBoost",
          "XGBoost"
         ],
         "x0": " ",
         "xaxis": "x",
         "y": [
          0.9180576631259484,
          0.9180576631259484,
          0.9162367223065251,
          0.9162367223065251,
          0.9192716236722307,
          0.9092564491654022,
          0.9186646433990895,
          0.9216995447647951,
          0.9168437025796662,
          0.9186646433990895,
          0.9174506828528073,
          0.9147192716236723,
          0.918361153262519,
          0.9223065250379363,
          0.9141122913505311,
          0.9098634294385433,
          0.9223065250379363,
          0.9125948406676783,
          0.9147192716236723,
          0.9192716236722307,
          0.9116843702579667,
          0.9147192716236723,
          0.9174506828528073,
          0.9116843702579667,
          0.9122913505311078,
          0.9186646433990895,
          0.9168437025796662,
          0.9189681335356601,
          0.9195751138088012,
          0.9144157814871017
         ],
         "y0": " ",
         "yaxis": "y"
        },
        {
         "alignmentgroup": "True",
         "boxpoints": "all",
         "hovertemplate": "Machine Learning Model=%{x}<br>Accuracy=%{y}<extra></extra>",
         "legendgroup": "LightGBM",
         "marker": {
          "color": "#B6E880"
         },
         "name": "LightGBM",
         "notched": false,
         "offsetgroup": "LightGBM",
         "orientation": "v",
         "showlegend": true,
         "type": "box",
         "x": [
          "LightGBM",
          "LightGBM",
          "LightGBM",
          "LightGBM",
          "LightGBM",
          "LightGBM",
          "LightGBM",
          "LightGBM",
          "LightGBM",
          "LightGBM",
          "LightGBM",
          "LightGBM",
          "LightGBM",
          "LightGBM",
          "LightGBM",
          "LightGBM",
          "LightGBM",
          "LightGBM",
          "LightGBM",
          "LightGBM",
          "LightGBM",
          "LightGBM",
          "LightGBM",
          "LightGBM",
          "LightGBM",
          "LightGBM",
          "LightGBM",
          "LightGBM",
          "LightGBM",
          "LightGBM"
         ],
         "x0": " ",
         "xaxis": "x",
         "y": [
          0.9113808801213961,
          0.9198786039453718,
          0.9098634294385433,
          0.9077389984825494,
          0.9162367223065251,
          0.9089529590288316,
          0.9162367223065251,
          0.9153262518968134,
          0.9119878603945372,
          0.9128983308042489,
          0.9141122913505311,
          0.9095599393019727,
          0.9125948406676783,
          0.9125948406676783,
          0.9095599393019727,
          0.9113808801213961,
          0.9171471927162367,
          0.9095599393019727,
          0.9110773899848255,
          0.9119878603945372,
          0.9074355083459787,
          0.9144157814871017,
          0.9141122913505311,
          0.9071320182094081,
          0.9059180576631259,
          0.9122913505311078,
          0.9116843702579667,
          0.9156297420333839,
          0.9165402124430956,
          0.9180576631259484
         ],
         "y0": " ",
         "yaxis": "y"
        }
       ],
       "layout": {
        "boxmode": "overlay",
        "legend": {
         "title": {
          "text": "Machine Learning Model"
         },
         "tracegroupgap": 0
        },
        "template": {
         "data": {
          "bar": [
           {
            "error_x": {
             "color": "#2a3f5f"
            },
            "error_y": {
             "color": "#2a3f5f"
            },
            "marker": {
             "line": {
              "color": "#E5ECF6",
              "width": 0.5
             },
             "pattern": {
              "fillmode": "overlay",
              "size": 10,
              "solidity": 0.2
             }
            },
            "type": "bar"
           }
          ],
          "barpolar": [
           {
            "marker": {
             "line": {
              "color": "#E5ECF6",
              "width": 0.5
             },
             "pattern": {
              "fillmode": "overlay",
              "size": 10,
              "solidity": 0.2
             }
            },
            "type": "barpolar"
           }
          ],
          "carpet": [
           {
            "aaxis": {
             "endlinecolor": "#2a3f5f",
             "gridcolor": "white",
             "linecolor": "white",
             "minorgridcolor": "white",
             "startlinecolor": "#2a3f5f"
            },
            "baxis": {
             "endlinecolor": "#2a3f5f",
             "gridcolor": "white",
             "linecolor": "white",
             "minorgridcolor": "white",
             "startlinecolor": "#2a3f5f"
            },
            "type": "carpet"
           }
          ],
          "choropleth": [
           {
            "colorbar": {
             "outlinewidth": 0,
             "ticks": ""
            },
            "type": "choropleth"
           }
          ],
          "contour": [
           {
            "colorbar": {
             "outlinewidth": 0,
             "ticks": ""
            },
            "colorscale": [
             [
              0,
              "#0d0887"
             ],
             [
              0.1111111111111111,
              "#46039f"
             ],
             [
              0.2222222222222222,
              "#7201a8"
             ],
             [
              0.3333333333333333,
              "#9c179e"
             ],
             [
              0.4444444444444444,
              "#bd3786"
             ],
             [
              0.5555555555555556,
              "#d8576b"
             ],
             [
              0.6666666666666666,
              "#ed7953"
             ],
             [
              0.7777777777777778,
              "#fb9f3a"
             ],
             [
              0.8888888888888888,
              "#fdca26"
             ],
             [
              1,
              "#f0f921"
             ]
            ],
            "type": "contour"
           }
          ],
          "contourcarpet": [
           {
            "colorbar": {
             "outlinewidth": 0,
             "ticks": ""
            },
            "type": "contourcarpet"
           }
          ],
          "heatmap": [
           {
            "colorbar": {
             "outlinewidth": 0,
             "ticks": ""
            },
            "colorscale": [
             [
              0,
              "#0d0887"
             ],
             [
              0.1111111111111111,
              "#46039f"
             ],
             [
              0.2222222222222222,
              "#7201a8"
             ],
             [
              0.3333333333333333,
              "#9c179e"
             ],
             [
              0.4444444444444444,
              "#bd3786"
             ],
             [
              0.5555555555555556,
              "#d8576b"
             ],
             [
              0.6666666666666666,
              "#ed7953"
             ],
             [
              0.7777777777777778,
              "#fb9f3a"
             ],
             [
              0.8888888888888888,
              "#fdca26"
             ],
             [
              1,
              "#f0f921"
             ]
            ],
            "type": "heatmap"
           }
          ],
          "heatmapgl": [
           {
            "colorbar": {
             "outlinewidth": 0,
             "ticks": ""
            },
            "colorscale": [
             [
              0,
              "#0d0887"
             ],
             [
              0.1111111111111111,
              "#46039f"
             ],
             [
              0.2222222222222222,
              "#7201a8"
             ],
             [
              0.3333333333333333,
              "#9c179e"
             ],
             [
              0.4444444444444444,
              "#bd3786"
             ],
             [
              0.5555555555555556,
              "#d8576b"
             ],
             [
              0.6666666666666666,
              "#ed7953"
             ],
             [
              0.7777777777777778,
              "#fb9f3a"
             ],
             [
              0.8888888888888888,
              "#fdca26"
             ],
             [
              1,
              "#f0f921"
             ]
            ],
            "type": "heatmapgl"
           }
          ],
          "histogram": [
           {
            "marker": {
             "pattern": {
              "fillmode": "overlay",
              "size": 10,
              "solidity": 0.2
             }
            },
            "type": "histogram"
           }
          ],
          "histogram2d": [
           {
            "colorbar": {
             "outlinewidth": 0,
             "ticks": ""
            },
            "colorscale": [
             [
              0,
              "#0d0887"
             ],
             [
              0.1111111111111111,
              "#46039f"
             ],
             [
              0.2222222222222222,
              "#7201a8"
             ],
             [
              0.3333333333333333,
              "#9c179e"
             ],
             [
              0.4444444444444444,
              "#bd3786"
             ],
             [
              0.5555555555555556,
              "#d8576b"
             ],
             [
              0.6666666666666666,
              "#ed7953"
             ],
             [
              0.7777777777777778,
              "#fb9f3a"
             ],
             [
              0.8888888888888888,
              "#fdca26"
             ],
             [
              1,
              "#f0f921"
             ]
            ],
            "type": "histogram2d"
           }
          ],
          "histogram2dcontour": [
           {
            "colorbar": {
             "outlinewidth": 0,
             "ticks": ""
            },
            "colorscale": [
             [
              0,
              "#0d0887"
             ],
             [
              0.1111111111111111,
              "#46039f"
             ],
             [
              0.2222222222222222,
              "#7201a8"
             ],
             [
              0.3333333333333333,
              "#9c179e"
             ],
             [
              0.4444444444444444,
              "#bd3786"
             ],
             [
              0.5555555555555556,
              "#d8576b"
             ],
             [
              0.6666666666666666,
              "#ed7953"
             ],
             [
              0.7777777777777778,
              "#fb9f3a"
             ],
             [
              0.8888888888888888,
              "#fdca26"
             ],
             [
              1,
              "#f0f921"
             ]
            ],
            "type": "histogram2dcontour"
           }
          ],
          "mesh3d": [
           {
            "colorbar": {
             "outlinewidth": 0,
             "ticks": ""
            },
            "type": "mesh3d"
           }
          ],
          "parcoords": [
           {
            "line": {
             "colorbar": {
              "outlinewidth": 0,
              "ticks": ""
             }
            },
            "type": "parcoords"
           }
          ],
          "pie": [
           {
            "automargin": true,
            "type": "pie"
           }
          ],
          "scatter": [
           {
            "marker": {
             "colorbar": {
              "outlinewidth": 0,
              "ticks": ""
             }
            },
            "type": "scatter"
           }
          ],
          "scatter3d": [
           {
            "line": {
             "colorbar": {
              "outlinewidth": 0,
              "ticks": ""
             }
            },
            "marker": {
             "colorbar": {
              "outlinewidth": 0,
              "ticks": ""
             }
            },
            "type": "scatter3d"
           }
          ],
          "scattercarpet": [
           {
            "marker": {
             "colorbar": {
              "outlinewidth": 0,
              "ticks": ""
             }
            },
            "type": "scattercarpet"
           }
          ],
          "scattergeo": [
           {
            "marker": {
             "colorbar": {
              "outlinewidth": 0,
              "ticks": ""
             }
            },
            "type": "scattergeo"
           }
          ],
          "scattergl": [
           {
            "marker": {
             "colorbar": {
              "outlinewidth": 0,
              "ticks": ""
             }
            },
            "type": "scattergl"
           }
          ],
          "scattermapbox": [
           {
            "marker": {
             "colorbar": {
              "outlinewidth": 0,
              "ticks": ""
             }
            },
            "type": "scattermapbox"
           }
          ],
          "scatterpolar": [
           {
            "marker": {
             "colorbar": {
              "outlinewidth": 0,
              "ticks": ""
             }
            },
            "type": "scatterpolar"
           }
          ],
          "scatterpolargl": [
           {
            "marker": {
             "colorbar": {
              "outlinewidth": 0,
              "ticks": ""
             }
            },
            "type": "scatterpolargl"
           }
          ],
          "scatterternary": [
           {
            "marker": {
             "colorbar": {
              "outlinewidth": 0,
              "ticks": ""
             }
            },
            "type": "scatterternary"
           }
          ],
          "surface": [
           {
            "colorbar": {
             "outlinewidth": 0,
             "ticks": ""
            },
            "colorscale": [
             [
              0,
              "#0d0887"
             ],
             [
              0.1111111111111111,
              "#46039f"
             ],
             [
              0.2222222222222222,
              "#7201a8"
             ],
             [
              0.3333333333333333,
              "#9c179e"
             ],
             [
              0.4444444444444444,
              "#bd3786"
             ],
             [
              0.5555555555555556,
              "#d8576b"
             ],
             [
              0.6666666666666666,
              "#ed7953"
             ],
             [
              0.7777777777777778,
              "#fb9f3a"
             ],
             [
              0.8888888888888888,
              "#fdca26"
             ],
             [
              1,
              "#f0f921"
             ]
            ],
            "type": "surface"
           }
          ],
          "table": [
           {
            "cells": {
             "fill": {
              "color": "#EBF0F8"
             },
             "line": {
              "color": "white"
             }
            },
            "header": {
             "fill": {
              "color": "#C8D4E3"
             },
             "line": {
              "color": "white"
             }
            },
            "type": "table"
           }
          ]
         },
         "layout": {
          "annotationdefaults": {
           "arrowcolor": "#2a3f5f",
           "arrowhead": 0,
           "arrowwidth": 1
          },
          "autotypenumbers": "strict",
          "coloraxis": {
           "colorbar": {
            "outlinewidth": 0,
            "ticks": ""
           }
          },
          "colorscale": {
           "diverging": [
            [
             0,
             "#8e0152"
            ],
            [
             0.1,
             "#c51b7d"
            ],
            [
             0.2,
             "#de77ae"
            ],
            [
             0.3,
             "#f1b6da"
            ],
            [
             0.4,
             "#fde0ef"
            ],
            [
             0.5,
             "#f7f7f7"
            ],
            [
             0.6,
             "#e6f5d0"
            ],
            [
             0.7,
             "#b8e186"
            ],
            [
             0.8,
             "#7fbc41"
            ],
            [
             0.9,
             "#4d9221"
            ],
            [
             1,
             "#276419"
            ]
           ],
           "sequential": [
            [
             0,
             "#0d0887"
            ],
            [
             0.1111111111111111,
             "#46039f"
            ],
            [
             0.2222222222222222,
             "#7201a8"
            ],
            [
             0.3333333333333333,
             "#9c179e"
            ],
            [
             0.4444444444444444,
             "#bd3786"
            ],
            [
             0.5555555555555556,
             "#d8576b"
            ],
            [
             0.6666666666666666,
             "#ed7953"
            ],
            [
             0.7777777777777778,
             "#fb9f3a"
            ],
            [
             0.8888888888888888,
             "#fdca26"
            ],
            [
             1,
             "#f0f921"
            ]
           ],
           "sequentialminus": [
            [
             0,
             "#0d0887"
            ],
            [
             0.1111111111111111,
             "#46039f"
            ],
            [
             0.2222222222222222,
             "#7201a8"
            ],
            [
             0.3333333333333333,
             "#9c179e"
            ],
            [
             0.4444444444444444,
             "#bd3786"
            ],
            [
             0.5555555555555556,
             "#d8576b"
            ],
            [
             0.6666666666666666,
             "#ed7953"
            ],
            [
             0.7777777777777778,
             "#fb9f3a"
            ],
            [
             0.8888888888888888,
             "#fdca26"
            ],
            [
             1,
             "#f0f921"
            ]
           ]
          },
          "colorway": [
           "#636efa",
           "#EF553B",
           "#00cc96",
           "#ab63fa",
           "#FFA15A",
           "#19d3f3",
           "#FF6692",
           "#B6E880",
           "#FF97FF",
           "#FECB52"
          ],
          "font": {
           "color": "#2a3f5f"
          },
          "geo": {
           "bgcolor": "white",
           "lakecolor": "white",
           "landcolor": "#E5ECF6",
           "showlakes": true,
           "showland": true,
           "subunitcolor": "white"
          },
          "hoverlabel": {
           "align": "left"
          },
          "hovermode": "closest",
          "mapbox": {
           "style": "light"
          },
          "paper_bgcolor": "white",
          "plot_bgcolor": "#E5ECF6",
          "polar": {
           "angularaxis": {
            "gridcolor": "white",
            "linecolor": "white",
            "ticks": ""
           },
           "bgcolor": "#E5ECF6",
           "radialaxis": {
            "gridcolor": "white",
            "linecolor": "white",
            "ticks": ""
           }
          },
          "scene": {
           "xaxis": {
            "backgroundcolor": "#E5ECF6",
            "gridcolor": "white",
            "gridwidth": 2,
            "linecolor": "white",
            "showbackground": true,
            "ticks": "",
            "zerolinecolor": "white"
           },
           "yaxis": {
            "backgroundcolor": "#E5ECF6",
            "gridcolor": "white",
            "gridwidth": 2,
            "linecolor": "white",
            "showbackground": true,
            "ticks": "",
            "zerolinecolor": "white"
           },
           "zaxis": {
            "backgroundcolor": "#E5ECF6",
            "gridcolor": "white",
            "gridwidth": 2,
            "linecolor": "white",
            "showbackground": true,
            "ticks": "",
            "zerolinecolor": "white"
           }
          },
          "shapedefaults": {
           "line": {
            "color": "#2a3f5f"
           }
          },
          "ternary": {
           "aaxis": {
            "gridcolor": "white",
            "linecolor": "white",
            "ticks": ""
           },
           "baxis": {
            "gridcolor": "white",
            "linecolor": "white",
            "ticks": ""
           },
           "bgcolor": "#E5ECF6",
           "caxis": {
            "gridcolor": "white",
            "linecolor": "white",
            "ticks": ""
           }
          },
          "title": {
           "x": 0.05
          },
          "xaxis": {
           "automargin": true,
           "gridcolor": "white",
           "linecolor": "white",
           "ticks": "",
           "title": {
            "standoff": 15
           },
           "zerolinecolor": "white",
           "zerolinewidth": 2
          },
          "yaxis": {
           "automargin": true,
           "gridcolor": "white",
           "linecolor": "white",
           "ticks": "",
           "title": {
            "standoff": 15
           },
           "zerolinecolor": "white",
           "zerolinewidth": 2
          }
         }
        },
        "title": {
         "text": "Model Performance"
        },
        "xaxis": {
         "anchor": "y",
         "categoryarray": [
          "Logistic",
          "DecisionTree",
          "RandomForest",
          "KNN",
          "Bagging",
          "GBM",
          "XGBoost",
          "LightGBM"
         ],
         "categoryorder": "array",
         "domain": [
          0,
          1
         ],
         "title": {
          "text": "Machine Learning Model"
         }
        },
        "yaxis": {
         "anchor": "x",
         "domain": [
          0,
          1
         ],
         "title": {
          "text": "Accuracy"
         }
        }
       }
      }
     },
     "metadata": {},
     "output_type": "display_data"
    }
   ],
   "source": [
    "fig = px.box(classificationmod, x=\"Model\", y=\"Score\",color=\"Model\",points='all',\n",
    "labels={\"Model\": \"Machine Learning Model\",\n",
    "        \"Score\": \"Accuracy\"\n",
    "        },title=\"Model Performance\")\n",
    "fig.show()\n",
    "fig.write_image(\"Boxplot.jpeg\",engine=\"kaleido\",format=\"png\", width=1600, height=700, scale=0.75)"
   ]
  },
  {
   "cell_type": "markdown",
   "id": "25da7afb",
   "metadata": {},
   "source": [
    "### Stacking Model"
   ]
  },
  {
   "cell_type": "markdown",
   "id": "aca6f269",
   "metadata": {},
   "source": [
    "Set level 0 model and level 1 model. Then use level 0 and level 1 to generate stacking model."
   ]
  },
  {
   "cell_type": "code",
   "execution_count": 36,
   "metadata": {},
   "outputs": [
    {
     "data": {
      "text/plain": [
       "StackingClassifier(cv=10,\n",
       "                   estimators=[('RF', RandomForestClassifier()),\n",
       "                               ('GBM', GradientBoostingClassifier()),\n",
       "                               ('Bagging', BaggingClassifier()),\n",
       "                               ('LightGBM', LGBMClassifier())],\n",
       "                   final_estimator=LGBMClassifier())"
      ]
     },
     "execution_count": 36,
     "metadata": {},
     "output_type": "execute_result"
    }
   ],
   "source": [
    "level0 = list()\n",
    "level0.append(('RF', RandomForestClassifier()))\n",
    "level0.append(('GBM', GradientBoostingClassifier()))\n",
    "#level0.append(('XGB', XGBClassifier()))\n",
    "level0.append(('Bagging', BaggingClassifier()))\n",
    "level0.append(('LightGBM', LGBMClassifier()))\n",
    "\n",
    "level1 = LGBMClassifier()\n",
    "stacking_model = StackingClassifier(estimators=level0, final_estimator=level1, cv=10)\n",
    "stacking_model.fit(X_train, y_train)"
   ]
  },
  {
   "cell_type": "markdown",
   "id": "a5bb2d33",
   "metadata": {},
   "source": [
    "Set a function to include all the model."
   ]
  },
  {
   "cell_type": "code",
   "execution_count": 37,
   "id": "dce19243",
   "metadata": {},
   "outputs": [],
   "source": [
    "def improved_models():\n",
    "    models = dict()\n",
    "    models['RandomForest'] = RandomForestClassifier()\n",
    "    models['GBM'] = GradientBoostingClassifier()\n",
    "    models['LightGBM'] = LGBMClassifier()\n",
    "    models['XGBoost'] = XGBClassifier()\n",
    "    models['Stacking'] = model\n",
    "    return models"
   ]
  },
  {
   "cell_type": "markdown",
   "id": "f9a7862f",
   "metadata": {},
   "source": [
    "Generate the score of all the models."
   ]
  },
  {
   "cell_type": "code",
   "execution_count": 38,
   "id": "3697804b",
   "metadata": {},
   "outputs": [
    {
     "name": "stdout",
     "output_type": "stream",
     "text": [
      ">RandomForest 0.911 (0.003)\n",
      ">GBM 0.916 (0.004)\n",
      ">LightGBM 0.916 (0.003)\n",
      ">XGBoost 0.912 (0.003)\n",
      ">Stacking 0.912 (0.003)\n"
     ]
    }
   ],
   "source": [
    "improved_model = improved_models()\n",
    "results, names = list(), list() \n",
    "\n",
    "for name, model in improved_model.items():\n",
    "  scores = eval_models(model)\n",
    "  results.append(scores)\n",
    "  names.append(name)\n",
    "  print('>%s %.3f (%.3f)' % (name, scores.mean(), scores.std()))"
   ]
  },
  {
   "cell_type": "markdown",
   "id": "05b96376",
   "metadata": {},
   "source": [
    "Create model and score into pandas dataframe."
   ]
  },
  {
   "cell_type": "code",
   "execution_count": 39,
   "id": "15b37360",
   "metadata": {},
   "outputs": [],
   "source": [
    "improved_classificationmod = pd.melt(pd.DataFrame(np.transpose(results), columns=[\"RandomForest\",\"GBM\", \"XGBoost\",\"LightGBM\",\"Stacking\"]))\n",
    "# improved_classificationmod = pd.DataFrame(np.transpose(results), columns = [\"RandomForest\",\"GBM\", \"XGBoost\",\"LightGBM\",\"Stacking\"])\n",
    "# improved_classificationmod = pd.melt(classificationmod.reset_index())#, value_vars=[\"RandomForest\",\"GBM\",\"XGBoost\",\"LightGBM\",\"Stacking\"])\n",
    "# improved_classificationmod.set_index('index', inplace=True)\n",
    "improved_classificationmod.columns = ['Model', 'Score']"
   ]
  },
  {
   "cell_type": "markdown",
   "id": "0d745205",
   "metadata": {},
   "source": [
    "Show part of model and score."
   ]
  },
  {
   "cell_type": "code",
   "execution_count": 40,
   "id": "452e7fbe",
   "metadata": {},
   "outputs": [
    {
     "data": {
      "text/html": [
       "<div>\n",
       "<style scoped>\n",
       "    .dataframe tbody tr th:only-of-type {\n",
       "        vertical-align: middle;\n",
       "    }\n",
       "\n",
       "    .dataframe tbody tr th {\n",
       "        vertical-align: top;\n",
       "    }\n",
       "\n",
       "    .dataframe thead th {\n",
       "        text-align: right;\n",
       "    }\n",
       "</style>\n",
       "<table border=\"1\" class=\"dataframe\">\n",
       "  <thead>\n",
       "    <tr style=\"text-align: right;\">\n",
       "      <th></th>\n",
       "      <th>Model</th>\n",
       "      <th>Score</th>\n",
       "    </tr>\n",
       "  </thead>\n",
       "  <tbody>\n",
       "    <tr>\n",
       "      <th>0</th>\n",
       "      <td>RandomForest</td>\n",
       "      <td>0.904704</td>\n",
       "    </tr>\n",
       "    <tr>\n",
       "      <th>1</th>\n",
       "      <td>RandomForest</td>\n",
       "      <td>0.912898</td>\n",
       "    </tr>\n",
       "    <tr>\n",
       "      <th>2</th>\n",
       "      <td>RandomForest</td>\n",
       "      <td>0.910774</td>\n",
       "    </tr>\n",
       "    <tr>\n",
       "      <th>3</th>\n",
       "      <td>RandomForest</td>\n",
       "      <td>0.908953</td>\n",
       "    </tr>\n",
       "    <tr>\n",
       "      <th>4</th>\n",
       "      <td>RandomForest</td>\n",
       "      <td>0.912595</td>\n",
       "    </tr>\n",
       "    <tr>\n",
       "      <th>...</th>\n",
       "      <td>...</td>\n",
       "      <td>...</td>\n",
       "    </tr>\n",
       "    <tr>\n",
       "      <th>145</th>\n",
       "      <td>Stacking</td>\n",
       "      <td>0.912291</td>\n",
       "    </tr>\n",
       "    <tr>\n",
       "      <th>146</th>\n",
       "      <td>Stacking</td>\n",
       "      <td>0.911684</td>\n",
       "    </tr>\n",
       "    <tr>\n",
       "      <th>147</th>\n",
       "      <td>Stacking</td>\n",
       "      <td>0.915630</td>\n",
       "    </tr>\n",
       "    <tr>\n",
       "      <th>148</th>\n",
       "      <td>Stacking</td>\n",
       "      <td>0.916540</td>\n",
       "    </tr>\n",
       "    <tr>\n",
       "      <th>149</th>\n",
       "      <td>Stacking</td>\n",
       "      <td>0.918058</td>\n",
       "    </tr>\n",
       "  </tbody>\n",
       "</table>\n",
       "<p>150 rows × 2 columns</p>\n",
       "</div>"
      ],
      "text/plain": [
       "            Model     Score\n",
       "0    RandomForest  0.904704\n",
       "1    RandomForest  0.912898\n",
       "2    RandomForest  0.910774\n",
       "3    RandomForest  0.908953\n",
       "4    RandomForest  0.912595\n",
       "..            ...       ...\n",
       "145      Stacking  0.912291\n",
       "146      Stacking  0.911684\n",
       "147      Stacking  0.915630\n",
       "148      Stacking  0.916540\n",
       "149      Stacking  0.918058\n",
       "\n",
       "[150 rows x 2 columns]"
      ]
     },
     "execution_count": 40,
     "metadata": {},
     "output_type": "execute_result"
    }
   ],
   "source": [
    "improved_classificationmod.sample(5)"
   ]
  },
  {
   "cell_type": "markdown",
   "id": "415fff17",
   "metadata": {},
   "source": [
    "Generate a boxplot for all imporved model and stacking model."
   ]
  },
  {
   "cell_type": "code",
   "execution_count": 41,
   "id": "ddb14dbe",
   "metadata": {},
   "outputs": [
    {
     "data": {
      "application/vnd.plotly.v1+json": {
       "config": {
        "plotlyServerURL": "https://plot.ly"
       },
       "data": [
        {
         "alignmentgroup": "True",
         "boxpoints": "all",
         "hovertemplate": "Machine Learning Model=%{x}<br>Accuracy=%{y}<extra></extra>",
         "legendgroup": "RandomForest",
         "marker": {
          "color": "#636efa"
         },
         "name": "RandomForest",
         "notched": false,
         "offsetgroup": "RandomForest",
         "orientation": "v",
         "showlegend": true,
         "type": "box",
         "x": [
          "RandomForest",
          "RandomForest",
          "RandomForest",
          "RandomForest",
          "RandomForest",
          "RandomForest",
          "RandomForest",
          "RandomForest",
          "RandomForest",
          "RandomForest",
          "RandomForest",
          "RandomForest",
          "RandomForest",
          "RandomForest",
          "RandomForest",
          "RandomForest",
          "RandomForest",
          "RandomForest",
          "RandomForest",
          "RandomForest",
          "RandomForest",
          "RandomForest",
          "RandomForest",
          "RandomForest",
          "RandomForest",
          "RandomForest",
          "RandomForest",
          "RandomForest",
          "RandomForest",
          "RandomForest"
         ],
         "x0": " ",
         "xaxis": "x",
         "y": [
          0.9047040971168437,
          0.9128983308042489,
          0.910773899848255,
          0.9089529590288316,
          0.9125948406676783,
          0.906525037936267,
          0.91350531107739,
          0.9147192716236723,
          0.9095599393019727,
          0.9125948406676783,
          0.908649468892261,
          0.9141122913505311,
          0.9116843702579667,
          0.9092564491654022,
          0.9083459787556905,
          0.908649468892261,
          0.9171471927162367,
          0.9080424886191198,
          0.9068285280728376,
          0.9110773899848255,
          0.9068285280728376,
          0.9138088012139606,
          0.9174506828528073,
          0.9092564491654022,
          0.9095599393019727,
          0.9110773899848255,
          0.910773899848255,
          0.9113808801213961,
          0.9095599393019727,
          0.9125948406676783
         ],
         "y0": " ",
         "yaxis": "y"
        },
        {
         "alignmentgroup": "True",
         "boxpoints": "all",
         "hovertemplate": "Machine Learning Model=%{x}<br>Accuracy=%{y}<extra></extra>",
         "legendgroup": "GBM",
         "marker": {
          "color": "#EF553B"
         },
         "name": "GBM",
         "notched": false,
         "offsetgroup": "GBM",
         "orientation": "v",
         "showlegend": true,
         "type": "box",
         "x": [
          "GBM",
          "GBM",
          "GBM",
          "GBM",
          "GBM",
          "GBM",
          "GBM",
          "GBM",
          "GBM",
          "GBM",
          "GBM",
          "GBM",
          "GBM",
          "GBM",
          "GBM",
          "GBM",
          "GBM",
          "GBM",
          "GBM",
          "GBM",
          "GBM",
          "GBM",
          "GBM",
          "GBM",
          "GBM",
          "GBM",
          "GBM",
          "GBM",
          "GBM",
          "GBM"
         ],
         "x0": " ",
         "xaxis": "x",
         "y": [
          0.91350531107739,
          0.9156297420333839,
          0.9180576631259484,
          0.9147192716236723,
          0.921092564491654,
          0.9068285280728376,
          0.9174506828528073,
          0.9168437025796662,
          0.9201820940819423,
          0.9125948406676783,
          0.9171471927162367,
          0.9116843702579667,
          0.9159332321699545,
          0.9207890743550835,
          0.9119878603945372,
          0.9125948406676783,
          0.9216995447647951,
          0.908649468892261,
          0.9138088012139606,
          0.9226100151745068,
          0.9116843702579667,
          0.9119878603945372,
          0.9177541729893779,
          0.9128983308042489,
          0.9125948406676783,
          0.9159332321699545,
          0.9177541729893779,
          0.9250379362670713,
          0.921092564491654,
          0.9189681335356601
         ],
         "y0": " ",
         "yaxis": "y"
        },
        {
         "alignmentgroup": "True",
         "boxpoints": "all",
         "hovertemplate": "Machine Learning Model=%{x}<br>Accuracy=%{y}<extra></extra>",
         "legendgroup": "XGBoost",
         "marker": {
          "color": "#00cc96"
         },
         "name": "XGBoost",
         "notched": false,
         "offsetgroup": "XGBoost",
         "orientation": "v",
         "showlegend": true,
         "type": "box",
         "x": [
          "XGBoost",
          "XGBoost",
          "XGBoost",
          "XGBoost",
          "XGBoost",
          "XGBoost",
          "XGBoost",
          "XGBoost",
          "XGBoost",
          "XGBoost",
          "XGBoost",
          "XGBoost",
          "XGBoost",
          "XGBoost",
          "XGBoost",
          "XGBoost",
          "XGBoost",
          "XGBoost",
          "XGBoost",
          "XGBoost",
          "XGBoost",
          "XGBoost",
          "XGBoost",
          "XGBoost",
          "XGBoost",
          "XGBoost",
          "XGBoost",
          "XGBoost",
          "XGBoost",
          "XGBoost"
         ],
         "x0": " ",
         "xaxis": "x",
         "y": [
          0.9180576631259484,
          0.9180576631259484,
          0.9162367223065251,
          0.9162367223065251,
          0.9192716236722307,
          0.9092564491654022,
          0.9186646433990895,
          0.9216995447647951,
          0.9168437025796662,
          0.9186646433990895,
          0.9174506828528073,
          0.9147192716236723,
          0.918361153262519,
          0.9223065250379363,
          0.9141122913505311,
          0.9098634294385433,
          0.9223065250379363,
          0.9125948406676783,
          0.9147192716236723,
          0.9192716236722307,
          0.9116843702579667,
          0.9147192716236723,
          0.9174506828528073,
          0.9116843702579667,
          0.9122913505311078,
          0.9186646433990895,
          0.9168437025796662,
          0.9189681335356601,
          0.9195751138088012,
          0.9144157814871017
         ],
         "y0": " ",
         "yaxis": "y"
        },
        {
         "alignmentgroup": "True",
         "boxpoints": "all",
         "hovertemplate": "Machine Learning Model=%{x}<br>Accuracy=%{y}<extra></extra>",
         "legendgroup": "LightGBM",
         "marker": {
          "color": "#ab63fa"
         },
         "name": "LightGBM",
         "notched": false,
         "offsetgroup": "LightGBM",
         "orientation": "v",
         "showlegend": true,
         "type": "box",
         "x": [
          "LightGBM",
          "LightGBM",
          "LightGBM",
          "LightGBM",
          "LightGBM",
          "LightGBM",
          "LightGBM",
          "LightGBM",
          "LightGBM",
          "LightGBM",
          "LightGBM",
          "LightGBM",
          "LightGBM",
          "LightGBM",
          "LightGBM",
          "LightGBM",
          "LightGBM",
          "LightGBM",
          "LightGBM",
          "LightGBM",
          "LightGBM",
          "LightGBM",
          "LightGBM",
          "LightGBM",
          "LightGBM",
          "LightGBM",
          "LightGBM",
          "LightGBM",
          "LightGBM",
          "LightGBM"
         ],
         "x0": " ",
         "xaxis": "x",
         "y": [
          0.9113808801213961,
          0.9198786039453718,
          0.9098634294385433,
          0.9077389984825494,
          0.9162367223065251,
          0.9089529590288316,
          0.9162367223065251,
          0.9153262518968134,
          0.9119878603945372,
          0.9128983308042489,
          0.9141122913505311,
          0.9095599393019727,
          0.9125948406676783,
          0.9125948406676783,
          0.9095599393019727,
          0.9113808801213961,
          0.9171471927162367,
          0.9095599393019727,
          0.9110773899848255,
          0.9119878603945372,
          0.9074355083459787,
          0.9144157814871017,
          0.9141122913505311,
          0.9071320182094081,
          0.9059180576631259,
          0.9122913505311078,
          0.9116843702579667,
          0.9156297420333839,
          0.9165402124430956,
          0.9180576631259484
         ],
         "y0": " ",
         "yaxis": "y"
        },
        {
         "alignmentgroup": "True",
         "boxpoints": "all",
         "hovertemplate": "Machine Learning Model=%{x}<br>Accuracy=%{y}<extra></extra>",
         "legendgroup": "Stacking",
         "marker": {
          "color": "#FFA15A"
         },
         "name": "Stacking",
         "notched": false,
         "offsetgroup": "Stacking",
         "orientation": "v",
         "showlegend": true,
         "type": "box",
         "x": [
          "Stacking",
          "Stacking",
          "Stacking",
          "Stacking",
          "Stacking",
          "Stacking",
          "Stacking",
          "Stacking",
          "Stacking",
          "Stacking",
          "Stacking",
          "Stacking",
          "Stacking",
          "Stacking",
          "Stacking",
          "Stacking",
          "Stacking",
          "Stacking",
          "Stacking",
          "Stacking",
          "Stacking",
          "Stacking",
          "Stacking",
          "Stacking",
          "Stacking",
          "Stacking",
          "Stacking",
          "Stacking",
          "Stacking",
          "Stacking"
         ],
         "x0": " ",
         "xaxis": "x",
         "y": [
          0.9113808801213961,
          0.9198786039453718,
          0.9098634294385433,
          0.9077389984825494,
          0.9162367223065251,
          0.9089529590288316,
          0.9162367223065251,
          0.9153262518968134,
          0.9119878603945372,
          0.9128983308042489,
          0.9141122913505311,
          0.9095599393019727,
          0.9125948406676783,
          0.9125948406676783,
          0.9095599393019727,
          0.9113808801213961,
          0.9171471927162367,
          0.9095599393019727,
          0.9110773899848255,
          0.9119878603945372,
          0.9074355083459787,
          0.9144157814871017,
          0.9141122913505311,
          0.9071320182094081,
          0.9059180576631259,
          0.9122913505311078,
          0.9116843702579667,
          0.9156297420333839,
          0.9165402124430956,
          0.9180576631259484
         ],
         "y0": " ",
         "yaxis": "y"
        }
       ],
       "layout": {
        "boxmode": "overlay",
        "legend": {
         "title": {
          "text": "Machine Learning Model"
         },
         "tracegroupgap": 0
        },
        "template": {
         "data": {
          "bar": [
           {
            "error_x": {
             "color": "#2a3f5f"
            },
            "error_y": {
             "color": "#2a3f5f"
            },
            "marker": {
             "line": {
              "color": "#E5ECF6",
              "width": 0.5
             },
             "pattern": {
              "fillmode": "overlay",
              "size": 10,
              "solidity": 0.2
             }
            },
            "type": "bar"
           }
          ],
          "barpolar": [
           {
            "marker": {
             "line": {
              "color": "#E5ECF6",
              "width": 0.5
             },
             "pattern": {
              "fillmode": "overlay",
              "size": 10,
              "solidity": 0.2
             }
            },
            "type": "barpolar"
           }
          ],
          "carpet": [
           {
            "aaxis": {
             "endlinecolor": "#2a3f5f",
             "gridcolor": "white",
             "linecolor": "white",
             "minorgridcolor": "white",
             "startlinecolor": "#2a3f5f"
            },
            "baxis": {
             "endlinecolor": "#2a3f5f",
             "gridcolor": "white",
             "linecolor": "white",
             "minorgridcolor": "white",
             "startlinecolor": "#2a3f5f"
            },
            "type": "carpet"
           }
          ],
          "choropleth": [
           {
            "colorbar": {
             "outlinewidth": 0,
             "ticks": ""
            },
            "type": "choropleth"
           }
          ],
          "contour": [
           {
            "colorbar": {
             "outlinewidth": 0,
             "ticks": ""
            },
            "colorscale": [
             [
              0,
              "#0d0887"
             ],
             [
              0.1111111111111111,
              "#46039f"
             ],
             [
              0.2222222222222222,
              "#7201a8"
             ],
             [
              0.3333333333333333,
              "#9c179e"
             ],
             [
              0.4444444444444444,
              "#bd3786"
             ],
             [
              0.5555555555555556,
              "#d8576b"
             ],
             [
              0.6666666666666666,
              "#ed7953"
             ],
             [
              0.7777777777777778,
              "#fb9f3a"
             ],
             [
              0.8888888888888888,
              "#fdca26"
             ],
             [
              1,
              "#f0f921"
             ]
            ],
            "type": "contour"
           }
          ],
          "contourcarpet": [
           {
            "colorbar": {
             "outlinewidth": 0,
             "ticks": ""
            },
            "type": "contourcarpet"
           }
          ],
          "heatmap": [
           {
            "colorbar": {
             "outlinewidth": 0,
             "ticks": ""
            },
            "colorscale": [
             [
              0,
              "#0d0887"
             ],
             [
              0.1111111111111111,
              "#46039f"
             ],
             [
              0.2222222222222222,
              "#7201a8"
             ],
             [
              0.3333333333333333,
              "#9c179e"
             ],
             [
              0.4444444444444444,
              "#bd3786"
             ],
             [
              0.5555555555555556,
              "#d8576b"
             ],
             [
              0.6666666666666666,
              "#ed7953"
             ],
             [
              0.7777777777777778,
              "#fb9f3a"
             ],
             [
              0.8888888888888888,
              "#fdca26"
             ],
             [
              1,
              "#f0f921"
             ]
            ],
            "type": "heatmap"
           }
          ],
          "heatmapgl": [
           {
            "colorbar": {
             "outlinewidth": 0,
             "ticks": ""
            },
            "colorscale": [
             [
              0,
              "#0d0887"
             ],
             [
              0.1111111111111111,
              "#46039f"
             ],
             [
              0.2222222222222222,
              "#7201a8"
             ],
             [
              0.3333333333333333,
              "#9c179e"
             ],
             [
              0.4444444444444444,
              "#bd3786"
             ],
             [
              0.5555555555555556,
              "#d8576b"
             ],
             [
              0.6666666666666666,
              "#ed7953"
             ],
             [
              0.7777777777777778,
              "#fb9f3a"
             ],
             [
              0.8888888888888888,
              "#fdca26"
             ],
             [
              1,
              "#f0f921"
             ]
            ],
            "type": "heatmapgl"
           }
          ],
          "histogram": [
           {
            "marker": {
             "pattern": {
              "fillmode": "overlay",
              "size": 10,
              "solidity": 0.2
             }
            },
            "type": "histogram"
           }
          ],
          "histogram2d": [
           {
            "colorbar": {
             "outlinewidth": 0,
             "ticks": ""
            },
            "colorscale": [
             [
              0,
              "#0d0887"
             ],
             [
              0.1111111111111111,
              "#46039f"
             ],
             [
              0.2222222222222222,
              "#7201a8"
             ],
             [
              0.3333333333333333,
              "#9c179e"
             ],
             [
              0.4444444444444444,
              "#bd3786"
             ],
             [
              0.5555555555555556,
              "#d8576b"
             ],
             [
              0.6666666666666666,
              "#ed7953"
             ],
             [
              0.7777777777777778,
              "#fb9f3a"
             ],
             [
              0.8888888888888888,
              "#fdca26"
             ],
             [
              1,
              "#f0f921"
             ]
            ],
            "type": "histogram2d"
           }
          ],
          "histogram2dcontour": [
           {
            "colorbar": {
             "outlinewidth": 0,
             "ticks": ""
            },
            "colorscale": [
             [
              0,
              "#0d0887"
             ],
             [
              0.1111111111111111,
              "#46039f"
             ],
             [
              0.2222222222222222,
              "#7201a8"
             ],
             [
              0.3333333333333333,
              "#9c179e"
             ],
             [
              0.4444444444444444,
              "#bd3786"
             ],
             [
              0.5555555555555556,
              "#d8576b"
             ],
             [
              0.6666666666666666,
              "#ed7953"
             ],
             [
              0.7777777777777778,
              "#fb9f3a"
             ],
             [
              0.8888888888888888,
              "#fdca26"
             ],
             [
              1,
              "#f0f921"
             ]
            ],
            "type": "histogram2dcontour"
           }
          ],
          "mesh3d": [
           {
            "colorbar": {
             "outlinewidth": 0,
             "ticks": ""
            },
            "type": "mesh3d"
           }
          ],
          "parcoords": [
           {
            "line": {
             "colorbar": {
              "outlinewidth": 0,
              "ticks": ""
             }
            },
            "type": "parcoords"
           }
          ],
          "pie": [
           {
            "automargin": true,
            "type": "pie"
           }
          ],
          "scatter": [
           {
            "marker": {
             "colorbar": {
              "outlinewidth": 0,
              "ticks": ""
             }
            },
            "type": "scatter"
           }
          ],
          "scatter3d": [
           {
            "line": {
             "colorbar": {
              "outlinewidth": 0,
              "ticks": ""
             }
            },
            "marker": {
             "colorbar": {
              "outlinewidth": 0,
              "ticks": ""
             }
            },
            "type": "scatter3d"
           }
          ],
          "scattercarpet": [
           {
            "marker": {
             "colorbar": {
              "outlinewidth": 0,
              "ticks": ""
             }
            },
            "type": "scattercarpet"
           }
          ],
          "scattergeo": [
           {
            "marker": {
             "colorbar": {
              "outlinewidth": 0,
              "ticks": ""
             }
            },
            "type": "scattergeo"
           }
          ],
          "scattergl": [
           {
            "marker": {
             "colorbar": {
              "outlinewidth": 0,
              "ticks": ""
             }
            },
            "type": "scattergl"
           }
          ],
          "scattermapbox": [
           {
            "marker": {
             "colorbar": {
              "outlinewidth": 0,
              "ticks": ""
             }
            },
            "type": "scattermapbox"
           }
          ],
          "scatterpolar": [
           {
            "marker": {
             "colorbar": {
              "outlinewidth": 0,
              "ticks": ""
             }
            },
            "type": "scatterpolar"
           }
          ],
          "scatterpolargl": [
           {
            "marker": {
             "colorbar": {
              "outlinewidth": 0,
              "ticks": ""
             }
            },
            "type": "scatterpolargl"
           }
          ],
          "scatterternary": [
           {
            "marker": {
             "colorbar": {
              "outlinewidth": 0,
              "ticks": ""
             }
            },
            "type": "scatterternary"
           }
          ],
          "surface": [
           {
            "colorbar": {
             "outlinewidth": 0,
             "ticks": ""
            },
            "colorscale": [
             [
              0,
              "#0d0887"
             ],
             [
              0.1111111111111111,
              "#46039f"
             ],
             [
              0.2222222222222222,
              "#7201a8"
             ],
             [
              0.3333333333333333,
              "#9c179e"
             ],
             [
              0.4444444444444444,
              "#bd3786"
             ],
             [
              0.5555555555555556,
              "#d8576b"
             ],
             [
              0.6666666666666666,
              "#ed7953"
             ],
             [
              0.7777777777777778,
              "#fb9f3a"
             ],
             [
              0.8888888888888888,
              "#fdca26"
             ],
             [
              1,
              "#f0f921"
             ]
            ],
            "type": "surface"
           }
          ],
          "table": [
           {
            "cells": {
             "fill": {
              "color": "#EBF0F8"
             },
             "line": {
              "color": "white"
             }
            },
            "header": {
             "fill": {
              "color": "#C8D4E3"
             },
             "line": {
              "color": "white"
             }
            },
            "type": "table"
           }
          ]
         },
         "layout": {
          "annotationdefaults": {
           "arrowcolor": "#2a3f5f",
           "arrowhead": 0,
           "arrowwidth": 1
          },
          "autotypenumbers": "strict",
          "coloraxis": {
           "colorbar": {
            "outlinewidth": 0,
            "ticks": ""
           }
          },
          "colorscale": {
           "diverging": [
            [
             0,
             "#8e0152"
            ],
            [
             0.1,
             "#c51b7d"
            ],
            [
             0.2,
             "#de77ae"
            ],
            [
             0.3,
             "#f1b6da"
            ],
            [
             0.4,
             "#fde0ef"
            ],
            [
             0.5,
             "#f7f7f7"
            ],
            [
             0.6,
             "#e6f5d0"
            ],
            [
             0.7,
             "#b8e186"
            ],
            [
             0.8,
             "#7fbc41"
            ],
            [
             0.9,
             "#4d9221"
            ],
            [
             1,
             "#276419"
            ]
           ],
           "sequential": [
            [
             0,
             "#0d0887"
            ],
            [
             0.1111111111111111,
             "#46039f"
            ],
            [
             0.2222222222222222,
             "#7201a8"
            ],
            [
             0.3333333333333333,
             "#9c179e"
            ],
            [
             0.4444444444444444,
             "#bd3786"
            ],
            [
             0.5555555555555556,
             "#d8576b"
            ],
            [
             0.6666666666666666,
             "#ed7953"
            ],
            [
             0.7777777777777778,
             "#fb9f3a"
            ],
            [
             0.8888888888888888,
             "#fdca26"
            ],
            [
             1,
             "#f0f921"
            ]
           ],
           "sequentialminus": [
            [
             0,
             "#0d0887"
            ],
            [
             0.1111111111111111,
             "#46039f"
            ],
            [
             0.2222222222222222,
             "#7201a8"
            ],
            [
             0.3333333333333333,
             "#9c179e"
            ],
            [
             0.4444444444444444,
             "#bd3786"
            ],
            [
             0.5555555555555556,
             "#d8576b"
            ],
            [
             0.6666666666666666,
             "#ed7953"
            ],
            [
             0.7777777777777778,
             "#fb9f3a"
            ],
            [
             0.8888888888888888,
             "#fdca26"
            ],
            [
             1,
             "#f0f921"
            ]
           ]
          },
          "colorway": [
           "#636efa",
           "#EF553B",
           "#00cc96",
           "#ab63fa",
           "#FFA15A",
           "#19d3f3",
           "#FF6692",
           "#B6E880",
           "#FF97FF",
           "#FECB52"
          ],
          "font": {
           "color": "#2a3f5f"
          },
          "geo": {
           "bgcolor": "white",
           "lakecolor": "white",
           "landcolor": "#E5ECF6",
           "showlakes": true,
           "showland": true,
           "subunitcolor": "white"
          },
          "hoverlabel": {
           "align": "left"
          },
          "hovermode": "closest",
          "mapbox": {
           "style": "light"
          },
          "paper_bgcolor": "white",
          "plot_bgcolor": "#E5ECF6",
          "polar": {
           "angularaxis": {
            "gridcolor": "white",
            "linecolor": "white",
            "ticks": ""
           },
           "bgcolor": "#E5ECF6",
           "radialaxis": {
            "gridcolor": "white",
            "linecolor": "white",
            "ticks": ""
           }
          },
          "scene": {
           "xaxis": {
            "backgroundcolor": "#E5ECF6",
            "gridcolor": "white",
            "gridwidth": 2,
            "linecolor": "white",
            "showbackground": true,
            "ticks": "",
            "zerolinecolor": "white"
           },
           "yaxis": {
            "backgroundcolor": "#E5ECF6",
            "gridcolor": "white",
            "gridwidth": 2,
            "linecolor": "white",
            "showbackground": true,
            "ticks": "",
            "zerolinecolor": "white"
           },
           "zaxis": {
            "backgroundcolor": "#E5ECF6",
            "gridcolor": "white",
            "gridwidth": 2,
            "linecolor": "white",
            "showbackground": true,
            "ticks": "",
            "zerolinecolor": "white"
           }
          },
          "shapedefaults": {
           "line": {
            "color": "#2a3f5f"
           }
          },
          "ternary": {
           "aaxis": {
            "gridcolor": "white",
            "linecolor": "white",
            "ticks": ""
           },
           "baxis": {
            "gridcolor": "white",
            "linecolor": "white",
            "ticks": ""
           },
           "bgcolor": "#E5ECF6",
           "caxis": {
            "gridcolor": "white",
            "linecolor": "white",
            "ticks": ""
           }
          },
          "title": {
           "x": 0.05
          },
          "xaxis": {
           "automargin": true,
           "gridcolor": "white",
           "linecolor": "white",
           "ticks": "",
           "title": {
            "standoff": 15
           },
           "zerolinecolor": "white",
           "zerolinewidth": 2
          },
          "yaxis": {
           "automargin": true,
           "gridcolor": "white",
           "linecolor": "white",
           "ticks": "",
           "title": {
            "standoff": 15
           },
           "zerolinecolor": "white",
           "zerolinewidth": 2
          }
         }
        },
        "title": {
         "text": "Model Performance"
        },
        "xaxis": {
         "anchor": "y",
         "categoryarray": [
          "RandomForest",
          "GBM",
          "XGBoost",
          "LightGBM",
          "Stacking"
         ],
         "categoryorder": "array",
         "domain": [
          0,
          1
         ],
         "title": {
          "text": "Machine Learning Model"
         }
        },
        "yaxis": {
         "anchor": "x",
         "domain": [
          0,
          1
         ],
         "title": {
          "text": "Accuracy"
         }
        }
       }
      }
     },
     "metadata": {},
     "output_type": "display_data"
    }
   ],
   "source": [
    "fig = px.box(improved_classificationmod, x=\"Model\", y=\"Score\",color=\"Model\",points='all',\n",
    "labels={\"Model\": \"Machine Learning Model\",\n",
    "        \"Score\": \"Accuracy\"\n",
    "        },title=\"Model Performance\")\n",
    "fig.show()\n",
    "fig.write_image(\"Improved_Models_Boxplot.jpeg\",engine=\"kaleido\",format=\"png\", width=1600, height=700, scale=0.75)"
   ]
  },
  {
   "cell_type": "markdown",
   "id": "e1551824",
   "metadata": {},
   "source": [
    "Create a confusion matrix for stacking model."
   ]
  },
  {
   "cell_type": "code",
   "execution_count": 42,
   "id": "a3afe5d0",
   "metadata": {},
   "outputs": [
    {
     "data": {
      "text/plain": [
       "<sklearn.metrics._plot.confusion_matrix.ConfusionMatrixDisplay at 0x1ec702847c0>"
      ]
     },
     "execution_count": 42,
     "metadata": {},
     "output_type": "execute_result"
    },
    {
     "data": {
      "image/png": "[encoded data removed]",
      "text/plain": [
       "<Figure size 432x288 with 2 Axes>"
      ]
     },
     "metadata": {
      "needs_background": "light"
     },
     "output_type": "display_data"
    }
   ],
   "source": [
    "from sklearn.metrics import plot_confusion_matrix\n",
    "\n",
    "y_pred = stacking_model.predict(X_test)\n",
    "\n",
    "plot_confusion_matrix(stacking_model, X_test, y_test)"
   ]
  },
  {
   "cell_type": "code",
   "execution_count": null,
   "id": "c60cbb4d",
   "metadata": {},
   "outputs": [],
   "source": []
  }
 ],
 "metadata": {
  "kernelspec": {
   "display_name": "Python 3",
   "language": "python",
   "name": "python3"
  },
  "language_info": {
   "codemirror_mode": {
    "name": "ipython",
    "version": 3
   },
   "file_extension": ".py",
   "mimetype": "text/x-python",
   "name": "python",
   "nbconvert_exporter": "python",
   "pygments_lexer": "ipython3",
   "version": "3.8.5"
  }
 },
 "nbformat": 4,
 "nbformat_minor": 5
}
